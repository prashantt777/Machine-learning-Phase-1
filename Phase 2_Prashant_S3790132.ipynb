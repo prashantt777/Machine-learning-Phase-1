{
 "cells": [
  {
   "cell_type": "markdown",
   "metadata": {},
   "source": [
    "# Prashant Kumar [S3790132]\n",
    "## Phase 2 report\n",
    "# Project title\n",
    "## Utilizing survey data of starwars franchise for targeted marketing at different locations in the United States using predictive and topic modelling techniques."
   ]
  },
  {
   "cell_type": "markdown",
   "metadata": {},
   "source": [
    "# TABLE OF CONTENT\n",
    "- INTRODUCTION\n",
    "    - Dataset source\n",
    "    - Dataset details\n",
    "    - Phase 1 summary\n",
    "    - Report overview\n",
    "    - overview of methodology\n",
    "- Data retrival and data cleaning\n",
    "- Modelling techniques.\n",
    "    - LSA\n",
    "        - Stopword and Count Vectorizer\n",
    "        - CORPUS\n",
    "        - Preprocessing\n",
    "        - Model deployment-LSA\n",
    "        - Kullback Divergence test\n",
    "        - Interactive Cluster plotting-LSA\n",
    "    - LDA\n",
    "        - Data Cleaning\n",
    "        - Tokenize\n",
    "        - Stemming and Lemmatization\n",
    "        - Spacy Model\n",
    "        - Model deployment-LDA\n",
    "        - Model performance\n",
    "        - K-mean clustering\n",
    "        - Cluster plotting- LDA\n",
    "    - RNN\n",
    "        - Backpropogating neural network\n",
    "        - Training the neural network\n",
    "        - Graphical representation\n",
    "        - Sigmoid function\n",
    "    - NN\n",
    "        - Network Parameters\n",
    "        - Model tuning\n",
    "        - Plotting\n",
    "        - Model training\n",
    "- Model comparison\n",
    "- Critique & limitation\n",
    "- Summary & conclusion\n",
    "    - Project summary\n",
    "    - Summary of finding\n",
    "    - Conclusion\n",
    "- Referances"
   ]
  },
  {
   "cell_type": "markdown",
   "metadata": {},
   "source": [
    "# Introduction\n",
    "Starwars is a very popular movie franchise and it had been for almost a decade now. This was the first movie franchise that talked about extra-terrestrial life forms, inter galactic travels and other alien life forms. Starwars a new hope: episode 4 was first released in October 1977 and it was a huge hit. Many popular character in the original movie still influence all the characters in this franchise latest releases.\n",
    "Since this franchise is this old it still has a huge fan base as of today.  \n",
    "This dataset is a survey on starwars franchise. It has many key inputs like familiarity with particular characters, familiarity with each films etc.\n",
    "Starwars has a total of 9 parts till date. Since it is going on since 1977, it may be possible that younger generations have only watched the latest releases and not the complete franchise. In this report we will work with this survey result and try to answer these question.  \n",
    "We will also see as which region has the highest familiarity with this fanchise. This will help stakeholders to target that particular region for marketing purposes. There is a popular opinion that geneally male is much more interested in this franchise than females, we will also look into this aspect.In this part of the report two topic modelling algorithm were implemented on starwars dataset namely LDA and LSA. Along with this two predictive neural net models were also implemented. Proper methodology and findings of this algorithms are stated in details in this report. All extra necessary packages were installed in the environment for this algorithms to work efficiently.  "
   ]
  },
  {
   "cell_type": "markdown",
   "metadata": {},
   "source": [
    "# Dataset source\n",
    "This dataset has been sourced from kaggel.com. The link to this dataset has been provided below  \n",
    "https://www.kaggle.com/datasets/varunramesh1122/starwars-survey-in-usa?select=StarWars.csv  \n",
    "This dataset is the starwars survey in US. The author of this dataset collected this data  by running a poll through an online platform called surveymonkey. A total of 1186 people responded and thus this dataset has 1186 observation."
   ]
  },
  {
   "cell_type": "markdown",
   "metadata": {},
   "source": [
    "# Dataset details\n",
    "\n",
    "This dataset has people demographics like the region, age, education, location and their income.  \n",
    "Then it has 5 categorical features which ask questions like,  \n",
    "1. Have you seen any of the 6 films in the Star Wars franchise?  \n",
    "2. Do you consider yourself to be a fan of the Star Wars film franchise?  \n",
    "3. Are you familiar with the Expanded Universe?  \n",
    "4. Do you consider yourself to be a fan of the Expanded Universe?  \n",
    "5. Do you consider yourself to be a fan of the Star Trek franchise?  \n",
    "And the user responded in yes and no only. This made it clear as to how familiar a particular respondent is with this franchise and his/her extend of knowledge on this particular topic.  \n",
    "\n",
    "This dataset also has observation where users are asked to select all the film that they have seen. A total of 6 movies name are available to choose from.  \n",
    "Then the users are asked to ranked their favorite movies on a scale of 1 to 6 in which 1 being their favorite movie and 6th being their least favorite movie in the franchise.  \n",
    "Finally, they are asked about their familiarities with popular character in the franchise and a total of 14 characters are listed. The name of the chrecters are Han Solo,Luke Skywalker,Princess Leia Organa , Anakin Skywalker, Obi Wan Kenobi, Emperor Palpatine, Darth Vader, Lando Calrissian, Boba Fett, C-3P0, R2 D2, Jar Jar Binks, Padme Amidala and Yoda.The responses are categorized in 3 category favorably, unfavorably, or are unfamiliar with him/her. "
   ]
  },
  {
   "cell_type": "markdown",
   "metadata": {},
   "source": [
    "# Phase 1 summary\n",
    "- For the phase 1 part of this report, data was downloaded from kaggle.com and then all the preprocessing was performed on the dataset. \n",
    "- The final outcome was a clean data that can be now used for topic and predictive modelling. Various data cleaning process like dealing with null and missing values, dealing with typos, uppercase, lowercase, sanity checks etc. was completed on this dataset. For the phase 1 part of this report three method of data visualization techniques were used to effectively visualize this data. These three methods were,\n",
    "    - Univariate plot - For the purpose of this visualization 2 barplots were used that shows the highest rating of each starwars movie by different genders in the dataset. \n",
    "        - The outcome of this plot was that the males have ranked starwars the revenge of the sith the highest, this may indicate that it was highly popular among the male general population in the united states.The lowest ranking was given to star wars the empire strikes back, it shows that they didn’t like this movie that much. \n",
    "        - In the other hand starwars the phantom menace was the most popular star war movies among the ladies. While they did not like star wars a new hope that much, which is indicated by its lowest ratings. Ranking of each of the star wars movie plot was also shown and by this ranking it is clear that star wars revenge of the sith is the highest rates movie among the participants while starwars the empire strikes back is the lowest rated movie among them.\n",
    "    - Bivariate plot- Bivariate plots have two dimensions in the same plot, in phase 1 report the first bivariate plot showed all the fan and not a fan of the concept of expanded universe in each region of the United States. This plot visualized that the highest number of fans are situated in the south Atlantic region while the highest participants that are not a fan of these franchise are situated in the pacific reason. \n",
    "        - The second plot was of the fan and not a fan of star trek franchise which is a modern twist to the older starwars franchise. For the star trek franchise also we can see a similar pattern and thus it can be concluded that if a participant is not a fan of the star wars universe ,it is highly like that he will not be a fan of the star treak franchise as well. Then there were 2 pie charts that showed the popularity of the characters Han Solo and R2D2. \n",
    "    - Multivariate plot- For this visualization we had two 3-D plots which showed the popularity of all 6 starwars movies when compared to each other. From the plot one can state that the revenge of the sith was much more highly anticipated than the rest of the movie in comparison, with frequent high ranks being allocated to it. \n",
    "        - For the second plot it was concluded that a new hope was much more highly anticipated than the rest of the movie in comparison, with frequent high ranks being allocated to it.\n",
    "- After this part an indepth literature review was done which showed how these information can be utilized by doing targeted marketing. Features of target marketing and division of market segmentation were discussed. After market segmentation was completed it was concluded that starwars franchise should identify the segment where their future fan base will lie and they should be aware of their expectation from the franchise. \n",
    "- The can host various fan theory sessions to actually listen to their fan and meet their growing demands. This is a very good way for this franchise to keep working on their upward trajectory of this brand for a foreseeable future. \n",
    "The final conclusion were jotted down for phase 1 report which had very interesting insight and some of them challenged the conventional belief of this franchise. \n",
    "- There were some interesting insights that showed people expectation from these kinds of movie and what future may hold for them. For more details please refer to the phase 1 report in details. \n"
   ]
  },
  {
   "cell_type": "markdown",
   "metadata": {},
   "source": [
    "# Report overview\n",
    "Topic modelling is a type of unsupervised machine learning technique that is capable of scanning a set of dataset, detecting various different words and phrases between them and then automatically clustering those words to various topics. With the help of different algorithms designed for topic modelling this clustering are done by various methods.\n",
    "The two most base line topic modelling algorithms are LDA and LSA, while advanced topic modelling algorithms are Biterm, bitermplus, HAS etc. LDA stands for laten Dirichlet allocations and LSA stands for laten scematic analysis. In this report we will work with LSA and LDA topic modelling techniques. We will use various methods like corpus, tokenizing, stemming etc to model our machine learning algorithm. We will use various test like KL divergence and K-mean clustering to cluster and test these models and finally use package like Bokeh for plotting various interactive plots.Further in the report recurrent neural network was designed to predict the location variable of the dataset. Various inputs were the survey questions like are you a fan of starwars, are you a fan of star trek or are you familiar with the concept of expanded universe that was shown in this film.  "
   ]
  },
  {
   "cell_type": "markdown",
   "metadata": {},
   "source": [
    "# Overview of Methodology\n",
    "-\tMethodology for all the four algorithms used in this reports are discussed in the below sections-\n",
    "    -\tMethodology of LSA\n",
    "        - LSA was implemented by first initializing stopwords and count vectorizers in the dataset. Stopwords are words from English language like what,why,is,there,where etc which are not much required for the process of LSA modelling.\n",
    "        - After that CORPUS was initialized which breaks all the words the document to its core values for example if the word is running it breaks it down to run. \n",
    "        - After initializing the above steps data preprocessing was done in which all the special sighs and punctuations were removed from the dataset.\n",
    "        - Then the LDA model was deployed by using various packages like nltk,genism,pyLDAvis etc.\n",
    "        - For testing the model Kullback leibler divergence test was used.\n",
    "        - Finally a interactive cluster plotting showing the cluster of all the topics in the dataset was plotted, this plot used Bokeh package which is used for designing interactive plots. \n",
    "- Methodology of LDA\n",
    "    - For implementing the LDA model the first step done was to clean the data.\n",
    "    - After that the dataset was tokenized.\n",
    "    - Stemming and lemmatization were performed on the dataset to prepare it for LDA allocations.\n",
    "    - Finally LDA model was deployed on the dataset.\n",
    "    - Model performance parameters were tuned and results were displayed in the form of a table. \n",
    "    - K mean cluster using Euclidian distance parameter was used to cluster the predicted topic.\n",
    "    - This clusters were then plotted to visualize the topic cluster in the dataset.\n",
    "- Methodology of RNN\n",
    "    - Data set was first cleaned and prepared for neural net algorithms. \n",
    "    - A backpropogating neural network was designed that used the output of previous model as an input to the new model run. \n",
    "    - Training of the neural net was conducted.\n",
    "    - A graphical representation plot that showed how a neural network with tree layers should function was plotted.  \n",
    "    - A sigmoid function curve was designed.\n",
    "- Methodology of NN\n",
    "    - Similar steps as RNN was followed but no back propogation model was designed.\n",
    "    - In this section a detail section was defined with all the model parameters.\n",
    "    - Model tuning was performed.\n",
    "\n"
   ]
  },
  {
   "cell_type": "markdown",
   "metadata": {},
   "source": [
    "# Data Retrieval  and data cleaning.\n",
    "1. Dataset was downloaded and stored in the local machine and read.csv command was used to read the data in this Visual studio code. \n",
    "2. head() command was used to display the head of the dataset.\n",
    "3. After dataset has been retrieved further dataset features were explored and preprocessing was done. "
   ]
  },
  {
   "cell_type": "code",
   "execution_count": 1,
   "metadata": {},
   "outputs": [
    {
     "data": {
      "text/html": [
       "<div class=\"bk-root\">\n",
       "        <a href=\"https://bokeh.org\" target=\"_blank\" class=\"bk-logo bk-logo-small bk-logo-notebook\"></a>\n",
       "        <span id=\"1002\">Loading BokehJS ...</span>\n",
       "    </div>\n"
      ]
     },
     "metadata": {},
     "output_type": "display_data"
    },
    {
     "data": {
      "application/javascript": "(function(root) {\n  function now() {\n    return new Date();\n  }\n\n  const force = true;\n\n  if (typeof root._bokeh_onload_callbacks === \"undefined\" || force === true) {\n    root._bokeh_onload_callbacks = [];\n    root._bokeh_is_loading = undefined;\n  }\n\nconst JS_MIME_TYPE = 'application/javascript';\n  const HTML_MIME_TYPE = 'text/html';\n  const EXEC_MIME_TYPE = 'application/vnd.bokehjs_exec.v0+json';\n  const CLASS_NAME = 'output_bokeh rendered_html';\n\n  /**\n   * Render data to the DOM node\n   */\n  function render(props, node) {\n    const script = document.createElement(\"script\");\n    node.appendChild(script);\n  }\n\n  /**\n   * Handle when an output is cleared or removed\n   */\n  function handleClearOutput(event, handle) {\n    const cell = handle.cell;\n\n    const id = cell.output_area._bokeh_element_id;\n    const server_id = cell.output_area._bokeh_server_id;\n    // Clean up Bokeh references\n    if (id != null && id in Bokeh.index) {\n      Bokeh.index[id].model.document.clear();\n      delete Bokeh.index[id];\n    }\n\n    if (server_id !== undefined) {\n      // Clean up Bokeh references\n      const cmd_clean = \"from bokeh.io.state import curstate; print(curstate().uuid_to_server['\" + server_id + \"'].get_sessions()[0].document.roots[0]._id)\";\n      cell.notebook.kernel.execute(cmd_clean, {\n        iopub: {\n          output: function(msg) {\n            const id = msg.content.text.trim();\n            if (id in Bokeh.index) {\n              Bokeh.index[id].model.document.clear();\n              delete Bokeh.index[id];\n            }\n          }\n        }\n      });\n      // Destroy server and session\n      const cmd_destroy = \"import bokeh.io.notebook as ion; ion.destroy_server('\" + server_id + \"')\";\n      cell.notebook.kernel.execute(cmd_destroy);\n    }\n  }\n\n  /**\n   * Handle when a new output is added\n   */\n  function handleAddOutput(event, handle) {\n    const output_area = handle.output_area;\n    const output = handle.output;\n\n    // limit handleAddOutput to display_data with EXEC_MIME_TYPE content only\n    if ((output.output_type != \"display_data\") || (!Object.prototype.hasOwnProperty.call(output.data, EXEC_MIME_TYPE))) {\n      return\n    }\n\n    const toinsert = output_area.element.find(\".\" + CLASS_NAME.split(' ')[0]);\n\n    if (output.metadata[EXEC_MIME_TYPE][\"id\"] !== undefined) {\n      toinsert[toinsert.length - 1].firstChild.textContent = output.data[JS_MIME_TYPE];\n      // store reference to embed id on output_area\n      output_area._bokeh_element_id = output.metadata[EXEC_MIME_TYPE][\"id\"];\n    }\n    if (output.metadata[EXEC_MIME_TYPE][\"server_id\"] !== undefined) {\n      const bk_div = document.createElement(\"div\");\n      bk_div.innerHTML = output.data[HTML_MIME_TYPE];\n      const script_attrs = bk_div.children[0].attributes;\n      for (let i = 0; i < script_attrs.length; i++) {\n        toinsert[toinsert.length - 1].firstChild.setAttribute(script_attrs[i].name, script_attrs[i].value);\n        toinsert[toinsert.length - 1].firstChild.textContent = bk_div.children[0].textContent\n      }\n      // store reference to server id on output_area\n      output_area._bokeh_server_id = output.metadata[EXEC_MIME_TYPE][\"server_id\"];\n    }\n  }\n\n  function register_renderer(events, OutputArea) {\n\n    function append_mime(data, metadata, element) {\n      // create a DOM node to render to\n      const toinsert = this.create_output_subarea(\n        metadata,\n        CLASS_NAME,\n        EXEC_MIME_TYPE\n      );\n      this.keyboard_manager.register_events(toinsert);\n      // Render to node\n      const props = {data: data, metadata: metadata[EXEC_MIME_TYPE]};\n      render(props, toinsert[toinsert.length - 1]);\n      element.append(toinsert);\n      return toinsert\n    }\n\n    /* Handle when an output is cleared or removed */\n    events.on('clear_output.CodeCell', handleClearOutput);\n    events.on('delete.Cell', handleClearOutput);\n\n    /* Handle when a new output is added */\n    events.on('output_added.OutputArea', handleAddOutput);\n\n    /**\n     * Register the mime type and append_mime function with output_area\n     */\n    OutputArea.prototype.register_mime_type(EXEC_MIME_TYPE, append_mime, {\n      /* Is output safe? */\n      safe: true,\n      /* Index of renderer in `output_area.display_order` */\n      index: 0\n    });\n  }\n\n  // register the mime type if in Jupyter Notebook environment and previously unregistered\n  if (root.Jupyter !== undefined) {\n    const events = require('base/js/events');\n    const OutputArea = require('notebook/js/outputarea').OutputArea;\n\n    if (OutputArea.prototype.mime_types().indexOf(EXEC_MIME_TYPE) == -1) {\n      register_renderer(events, OutputArea);\n    }\n  }\n  if (typeof (root._bokeh_timeout) === \"undefined\" || force === true) {\n    root._bokeh_timeout = Date.now() + 5000;\n    root._bokeh_failed_load = false;\n  }\n\n  const NB_LOAD_WARNING = {'data': {'text/html':\n     \"<div style='background-color: #fdd'>\\n\"+\n     \"<p>\\n\"+\n     \"BokehJS does not appear to have successfully loaded. If loading BokehJS from CDN, this \\n\"+\n     \"may be due to a slow or bad network connection. Possible fixes:\\n\"+\n     \"</p>\\n\"+\n     \"<ul>\\n\"+\n     \"<li>re-rerun `output_notebook()` to attempt to load from CDN again, or</li>\\n\"+\n     \"<li>use INLINE resources instead, as so:</li>\\n\"+\n     \"</ul>\\n\"+\n     \"<code>\\n\"+\n     \"from bokeh.resources import INLINE\\n\"+\n     \"output_notebook(resources=INLINE)\\n\"+\n     \"</code>\\n\"+\n     \"</div>\"}};\n\n  function display_loaded() {\n    const el = document.getElementById(\"1002\");\n    if (el != null) {\n      el.textContent = \"BokehJS is loading...\";\n    }\n    if (root.Bokeh !== undefined) {\n      if (el != null) {\n        el.textContent = \"BokehJS \" + root.Bokeh.version + \" successfully loaded.\";\n      }\n    } else if (Date.now() < root._bokeh_timeout) {\n      setTimeout(display_loaded, 100)\n    }\n  }\n\n  function run_callbacks() {\n    try {\n      root._bokeh_onload_callbacks.forEach(function(callback) {\n        if (callback != null)\n          callback();\n      });\n    } finally {\n      delete root._bokeh_onload_callbacks\n    }\n    console.debug(\"Bokeh: all callbacks have finished\");\n  }\n\n  function load_libs(css_urls, js_urls, callback) {\n    if (css_urls == null) css_urls = [];\n    if (js_urls == null) js_urls = [];\n\n    root._bokeh_onload_callbacks.push(callback);\n    if (root._bokeh_is_loading > 0) {\n      console.debug(\"Bokeh: BokehJS is being loaded, scheduling callback at\", now());\n      return null;\n    }\n    if (js_urls == null || js_urls.length === 0) {\n      run_callbacks();\n      return null;\n    }\n    console.debug(\"Bokeh: BokehJS not loaded, scheduling load and callback at\", now());\n    root._bokeh_is_loading = css_urls.length + js_urls.length;\n\n    function on_load() {\n      root._bokeh_is_loading--;\n      if (root._bokeh_is_loading === 0) {\n        console.debug(\"Bokeh: all BokehJS libraries/stylesheets loaded\");\n        run_callbacks()\n      }\n    }\n\n    function on_error(url) {\n      console.error(\"failed to load \" + url);\n    }\n\n    for (let i = 0; i < css_urls.length; i++) {\n      const url = css_urls[i];\n      const element = document.createElement(\"link\");\n      element.onload = on_load;\n      element.onerror = on_error.bind(null, url);\n      element.rel = \"stylesheet\";\n      element.type = \"text/css\";\n      element.href = url;\n      console.debug(\"Bokeh: injecting link tag for BokehJS stylesheet: \", url);\n      document.body.appendChild(element);\n    }\n\n    for (let i = 0; i < js_urls.length; i++) {\n      const url = js_urls[i];\n      const element = document.createElement('script');\n      element.onload = on_load;\n      element.onerror = on_error.bind(null, url);\n      element.async = false;\n      element.src = url;\n      console.debug(\"Bokeh: injecting script tag for BokehJS library: \", url);\n      document.head.appendChild(element);\n    }\n  };\n\n  function inject_raw_css(css) {\n    const element = document.createElement(\"style\");\n    element.appendChild(document.createTextNode(css));\n    document.body.appendChild(element);\n  }\n\n  const js_urls = [\"https://cdn.bokeh.org/bokeh/release/bokeh-2.4.3.min.js\", \"https://cdn.bokeh.org/bokeh/release/bokeh-gl-2.4.3.min.js\", \"https://cdn.bokeh.org/bokeh/release/bokeh-widgets-2.4.3.min.js\", \"https://cdn.bokeh.org/bokeh/release/bokeh-tables-2.4.3.min.js\", \"https://cdn.bokeh.org/bokeh/release/bokeh-mathjax-2.4.3.min.js\"];\n  const css_urls = [];\n\n  const inline_js = [    function(Bokeh) {\n      Bokeh.set_log_level(\"info\");\n    },\nfunction(Bokeh) {\n    }\n  ];\n\n  function run_inline_js() {\n    if (root.Bokeh !== undefined || force === true) {\n          for (let i = 0; i < inline_js.length; i++) {\n      inline_js[i].call(root, root.Bokeh);\n    }\nif (force === true) {\n        display_loaded();\n      }} else if (Date.now() < root._bokeh_timeout) {\n      setTimeout(run_inline_js, 100);\n    } else if (!root._bokeh_failed_load) {\n      console.log(\"Bokeh: BokehJS failed to load within specified timeout.\");\n      root._bokeh_failed_load = true;\n    } else if (force !== true) {\n      const cell = $(document.getElementById(\"1002\")).parents('.cell').data().cell;\n      cell.output_area.append_execute_result(NB_LOAD_WARNING)\n    }\n  }\n\n  if (root._bokeh_is_loading === 0) {\n    console.debug(\"Bokeh: BokehJS loaded, going straight to plotting\");\n    run_inline_js();\n  } else {\n    load_libs(css_urls, js_urls, function() {\n      console.debug(\"Bokeh: BokehJS plotting callback run at\", now());\n      run_inline_js();\n    });\n  }\n}(window));",
      "application/vnd.bokehjs_load.v0+json": ""
     },
     "metadata": {},
     "output_type": "display_data"
    }
   ],
   "source": [
    "import warnings\n",
    "warnings.filterwarnings(\"ignore\")\n",
    "import numpy as np\n",
    "import pandas as pd\n",
    "from IPython.display import display\n",
    "from tqdm import tqdm\n",
    "from collections import Counter\n",
    "import ast\n",
    "\n",
    "pd.set_option('display.max_columns', None) \n",
    "\n",
    "import matplotlib.pyplot as plt\n",
    "import matplotlib.mlab as mlab\n",
    "import seaborn as sb\n",
    "\n",
    "from sklearn.feature_extraction.text import CountVectorizer\n",
    "from textblob import TextBlob\n",
    "import scipy.stats as stats\n",
    "\n",
    "from sklearn.decomposition import TruncatedSVD\n",
    "from sklearn.decomposition import LatentDirichletAllocation\n",
    "from sklearn.manifold import TSNE\n",
    "\n",
    "from bokeh.plotting import figure, output_file, show\n",
    "from bokeh.models import Label\n",
    "from bokeh.io import output_notebook\n",
    "output_notebook()\n",
    "\n",
    "%matplotlib inline"
   ]
  },
  {
   "cell_type": "code",
   "execution_count": 2,
   "metadata": {},
   "outputs": [],
   "source": [
    "starwar=pd.read_csv('Phase_2_Prashant_S3790132.csv',encoding='latin-1' )"
   ]
  },
  {
   "cell_type": "code",
   "execution_count": 3,
   "metadata": {},
   "outputs": [],
   "source": [
    "starwar.drop([0],inplace = True)\n",
    "starwar.drop(['RespondentID'],inplace = True, axis=1)"
   ]
  },
  {
   "cell_type": "markdown",
   "metadata": {},
   "source": [
    "Data cleaning like upper case and lower case, removing typos and renaming columns."
   ]
  },
  {
   "cell_type": "code",
   "execution_count": 4,
   "metadata": {},
   "outputs": [
    {
     "name": "stdout",
     "output_type": "stream",
     "text": [
      "Yes     551\n",
      "No      283\n",
      "Yess      1\n",
      "Noo       1\n",
      "Name: Do you consider yourself to be a fan of the Star Wars film franchise?, dtype: int64\n",
      "Star Wars: Episode I  The Phantom Menace    673\n",
      "Name: Which of the following Star Wars films have you seen? Please select all that apply., dtype: int64\n",
      "Star Wars: Episode II  Attack of the Clones    571\n",
      "Name: Unnamed: 4, dtype: int64\n",
      "Star Wars: Episode III  Revenge of the Sith    550\n",
      "Name: Unnamed: 5, dtype: int64\n",
      "Star Wars: Episode IV  A New Hope    607\n",
      "Name: Unnamed: 6, dtype: int64\n",
      "Star Wars: Episode V The Empire Strikes Back    758\n",
      "Name: Unnamed: 7, dtype: int64\n",
      "Star Wars: Episode VI Return of the Jedi    738\n",
      "Name: Unnamed: 8, dtype: int64\n",
      "4    237\n",
      "6    168\n",
      "3    130\n",
      "1    129\n",
      "5    100\n",
      "2     71\n",
      "Name: Please rank the Star Wars films in order of preference with 1 being your favorite film in the franchise and 6 being your least favorite film., dtype: int64\n",
      "5    300\n",
      "4    183\n",
      "2    116\n",
      "3    103\n",
      "6    102\n",
      "1     32\n",
      "Name: Unnamed: 10, dtype: int64\n",
      "6    217\n",
      "5    203\n",
      "4    182\n",
      "3    150\n",
      "2     47\n",
      "1     36\n",
      "Name: Unnamed: 11, dtype: int64\n",
      "1    204\n",
      "6    161\n",
      "2    135\n",
      "4    130\n",
      "3    127\n",
      "5     79\n",
      "Name: Unnamed: 12, dtype: int64\n",
      "1    289\n",
      "2    235\n",
      "5    118\n",
      "3    106\n",
      "4     47\n",
      "6     41\n",
      "Name: Unnamed: 13, dtype: int64\n",
      "2    232\n",
      "3    220\n",
      "1    146\n",
      "6    145\n",
      "4     57\n",
      "5     36\n",
      "Name: Unnamed: 14, dtype: int64\n",
      "Very favorably                                 610\n",
      "Somewhat favorably                             151\n",
      "Neither favorably nor unfavorably (neutral)     44\n",
      "Unfamiliar (N/A)                                15\n",
      "Somewhat unfavorably                             8\n",
      "Very unfavorably                                 1\n",
      "Name: Please state whether you view the following characters favorably, unfavorably, or are unfamiliar with him/her., dtype: int64\n",
      "Very favorably                                 552\n",
      "Somewhat favorably                             219\n",
      "Neither favorably nor unfavorably (neutral)     38\n",
      "Somewhat unfavorably                            13\n",
      "Unfamiliar (N/A)                                 6\n",
      "Very unfavorably                                 3\n",
      "Name: Unnamed: 16, dtype: int64\n",
      "Very favorably                                 547\n",
      "Somewhat favorably                             210\n",
      "Neither favorably nor unfavorably (neutral)     48\n",
      "Somewhat unfavorably                            12\n",
      "Unfamiliar (N/A)                                 8\n",
      "Very unfavorably                                 6\n",
      "Name: Unnamed: 17, dtype: int64\n",
      "Somewhat favorably                             269\n",
      "Very favorably                                 245\n",
      "Neither favorably nor unfavorably (neutral)    135\n",
      "Somewhat unfavorably                            83\n",
      "Unfamiliar (N/A)                                52\n",
      "Very unfavorably                                39\n",
      "Name: Unnamed: 18, dtype: int64\n",
      "Very favorably                                 591\n",
      "Somewhat favorably                             159\n",
      "Neither favorably nor unfavorably (neutral)     43\n",
      "Unfamiliar (N/A)                                17\n",
      "Somewhat unfavorably                             8\n",
      "Very unfavorably                                 7\n",
      "Name: Unnamed: 19, dtype: int64\n",
      "Neither favorably nor unfavorably (neutral)    213\n",
      "Unfamiliar (N/A)                               156\n",
      "Somewhat favorably                             143\n",
      "Very unfavorably                               124\n",
      "Very favorably                                 110\n",
      "Somewhat unfavorably                            68\n",
      "Name: Unnamed: 20, dtype: int64\n",
      "Very favorably                                 310\n",
      "Somewhat favorably                             171\n",
      "Very unfavorably                               149\n",
      "Somewhat unfavorably                           102\n",
      "Neither favorably nor unfavorably (neutral)     84\n",
      "Unfamiliar (N/A)                                10\n",
      "Name: Unnamed: 21, dtype: int64\n",
      "Neither favorably nor unfavorably (neutral)    236\n",
      "Somewhat favorably                             223\n",
      "Unfamiliar (N/A)                               148\n",
      "Very favorably                                 142\n",
      "Somewhat unfavorably                            63\n",
      "Very unfavorably                                 8\n",
      "Name: Unnamed: 22, dtype: int64\n",
      "Neither favorably nor unfavorably (neutral)    248\n",
      "Somewhat favorably                             153\n",
      "Very favorably                                 138\n",
      "Unfamiliar (N/A)                               132\n",
      "Somewhat unfavorably                            96\n",
      "Very unfavorably                                45\n",
      "Name: Unnamed: 23, dtype: int64\n",
      "Very favorably                                 474\n",
      "Somewhat favorably                             229\n",
      "Neither favorably nor unfavorably (neutral)     79\n",
      "Somewhat unfavorably                            23\n",
      "Unfamiliar (N/A)                                15\n",
      "Very unfavorably                                 7\n",
      "Name: Unnamed: 24, dtype: int64\n",
      "Very favorably                                 562\n",
      "Somewhat favorably                             185\n",
      "Neither favorably nor unfavorably (neutral)     57\n",
      "Unfamiliar (N/A)                                10\n",
      "Somewhat unfavorably                            10\n",
      "Very unfavorably                                 6\n",
      "Name: Unnamed: 25, dtype: int64\n",
      "Very unfavorably                               204\n",
      "Neither favorably nor unfavorably (neutral)    164\n",
      "Somewhat favorably                             130\n",
      "Very favorably                                 112\n",
      "Unfamiliar (N/A)                               109\n",
      "Somewhat unfavorably                           102\n",
      "Name: Unnamed: 26, dtype: int64\n",
      "Neither favorably nor unfavorably (neutral)    207\n",
      "Somewhat favorably                             183\n",
      "Very favorably                                 168\n",
      "Unfamiliar (N/A)                               164\n",
      "Somewhat unfavorably                            58\n",
      "Very unfavorably                                34\n",
      "Name: Unnamed: 27, dtype: int64\n",
      "Very favorably                                 605\n",
      "Somewhat favorably                             144\n",
      "Neither favorably nor unfavorably (neutral)     51\n",
      "Unfamiliar (N/A)                                10\n",
      "Very unfavorably                                 8\n",
      "Somewhat unfavorably                             8\n",
      "Name: Unnamed: 28, dtype: int64\n",
      "Han                                 325\n",
      "I don't understand this question    306\n",
      "Greedo                              197\n",
      "Name: Which character shot first?, dtype: int64\n",
      "No     615\n",
      "Yes    213\n",
      "Name: Are you familiar with the Expanded Universe?, dtype: int64\n",
      "No      114\n",
      "Yes      98\n",
      "Yess      1\n",
      "Name: Do you consider yourself to be a fan of the Expanded Universe?æ, dtype: int64\n",
      "No     639\n",
      "Yes    426\n",
      "Noo      1\n",
      "yes      1\n",
      "no       1\n",
      "Name: Do you consider yourself to be a fan of the Star Trek franchise?, dtype: int64\n",
      "Female    546\n",
      "Male      496\n",
      "female      2\n",
      "F           1\n",
      "male        1\n",
      "Name: Gender, dtype: int64\n",
      "45-60    291\n",
      "> 60     269\n",
      "30-44    268\n",
      "18-29    217\n",
      "500        1\n",
      "Name: Age, dtype: int64\n",
      "$50,000 - $99,999      298\n",
      "$25,000 - $49,999      186\n",
      "$100,000 - $149,999    141\n",
      "$0 - $24,999           138\n",
      "$150,000+               95\n",
      "Name: Household Income, dtype: int64\n",
      "Some college or Associate degree    328\n",
      "Bachelor degree                     321\n",
      "Graduate degree                     275\n",
      "High school degree                  105\n",
      "Less than high school degree          7\n",
      "Name: Education, dtype: int64\n",
      "East North Central    181\n",
      "Pacific               175\n",
      "South Atlantic        170\n",
      "Middle Atlantic       122\n",
      "West South Central    110\n",
      "West North Central     93\n",
      "Mountain               79\n",
      "New England            75\n",
      "East South Central     38\n",
      "Name: Location, dtype: int64\n",
      "YES     551\n",
      "NO      283\n",
      "YESS      1\n",
      "NOO       1\n",
      "Name: Do you consider yourself to be a fan of the Star Wars film franchise?, dtype: int64\n",
      "STAR WARS: EPISODE I  THE PHANTOM MENACE    673\n",
      "Name: Which of the following Star Wars films have you seen? Please select all that apply., dtype: int64\n",
      "STAR WARS: EPISODE II  ATTACK OF THE CLONES    571\n",
      "Name: Unnamed: 4, dtype: int64\n",
      "STAR WARS: EPISODE III  REVENGE OF THE SITH    550\n",
      "Name: Unnamed: 5, dtype: int64\n",
      "STAR WARS: EPISODE IV  A NEW HOPE    607\n",
      "Name: Unnamed: 6, dtype: int64\n",
      "STAR WARS: EPISODE V THE EMPIRE STRIKES BACK    758\n",
      "Name: Unnamed: 7, dtype: int64\n",
      "STAR WARS: EPISODE VI RETURN OF THE JEDI    738\n",
      "Name: Unnamed: 8, dtype: int64\n",
      "4    237\n",
      "6    168\n",
      "3    130\n",
      "1    129\n",
      "5    100\n",
      "2     71\n",
      "Name: Please rank the Star Wars films in order of preference with 1 being your favorite film in the franchise and 6 being your least favorite film., dtype: int64\n",
      "5    300\n",
      "4    183\n",
      "2    116\n",
      "3    103\n",
      "6    102\n",
      "1     32\n",
      "Name: Unnamed: 10, dtype: int64\n",
      "6    217\n",
      "5    203\n",
      "4    182\n",
      "3    150\n",
      "2     47\n",
      "1     36\n",
      "Name: Unnamed: 11, dtype: int64\n",
      "1    204\n",
      "6    161\n",
      "2    135\n",
      "4    130\n",
      "3    127\n",
      "5     79\n",
      "Name: Unnamed: 12, dtype: int64\n",
      "1    289\n",
      "2    235\n",
      "5    118\n",
      "3    106\n",
      "4     47\n",
      "6     41\n",
      "Name: Unnamed: 13, dtype: int64\n",
      "2    232\n",
      "3    220\n",
      "1    146\n",
      "6    145\n",
      "4     57\n",
      "5     36\n",
      "Name: Unnamed: 14, dtype: int64\n",
      "VERY FAVORABLY                                 610\n",
      "SOMEWHAT FAVORABLY                             151\n",
      "NEITHER FAVORABLY NOR UNFAVORABLY (NEUTRAL)     44\n",
      "UNFAMILIAR (N/A)                                15\n",
      "SOMEWHAT UNFAVORABLY                             8\n",
      "VERY UNFAVORABLY                                 1\n",
      "Name: Please state whether you view the following characters favorably, unfavorably, or are unfamiliar with him/her., dtype: int64\n",
      "VERY FAVORABLY                                 552\n",
      "SOMEWHAT FAVORABLY                             219\n",
      "NEITHER FAVORABLY NOR UNFAVORABLY (NEUTRAL)     38\n",
      "SOMEWHAT UNFAVORABLY                            13\n",
      "UNFAMILIAR (N/A)                                 6\n",
      "VERY UNFAVORABLY                                 3\n",
      "Name: Unnamed: 16, dtype: int64\n",
      "VERY FAVORABLY                                 547\n",
      "SOMEWHAT FAVORABLY                             210\n",
      "NEITHER FAVORABLY NOR UNFAVORABLY (NEUTRAL)     48\n",
      "SOMEWHAT UNFAVORABLY                            12\n",
      "UNFAMILIAR (N/A)                                 8\n",
      "VERY UNFAVORABLY                                 6\n",
      "Name: Unnamed: 17, dtype: int64\n",
      "SOMEWHAT FAVORABLY                             269\n",
      "VERY FAVORABLY                                 245\n",
      "NEITHER FAVORABLY NOR UNFAVORABLY (NEUTRAL)    135\n",
      "SOMEWHAT UNFAVORABLY                            83\n",
      "UNFAMILIAR (N/A)                                52\n",
      "VERY UNFAVORABLY                                39\n",
      "Name: Unnamed: 18, dtype: int64\n",
      "VERY FAVORABLY                                 591\n",
      "SOMEWHAT FAVORABLY                             159\n",
      "NEITHER FAVORABLY NOR UNFAVORABLY (NEUTRAL)     43\n",
      "UNFAMILIAR (N/A)                                17\n",
      "SOMEWHAT UNFAVORABLY                             8\n",
      "VERY UNFAVORABLY                                 7\n",
      "Name: Unnamed: 19, dtype: int64\n",
      "NEITHER FAVORABLY NOR UNFAVORABLY (NEUTRAL)    213\n",
      "UNFAMILIAR (N/A)                               156\n",
      "SOMEWHAT FAVORABLY                             143\n",
      "VERY UNFAVORABLY                               124\n",
      "VERY FAVORABLY                                 110\n",
      "SOMEWHAT UNFAVORABLY                            68\n",
      "Name: Unnamed: 20, dtype: int64\n",
      "VERY FAVORABLY                                 310\n",
      "SOMEWHAT FAVORABLY                             171\n",
      "VERY UNFAVORABLY                               149\n",
      "SOMEWHAT UNFAVORABLY                           102\n",
      "NEITHER FAVORABLY NOR UNFAVORABLY (NEUTRAL)     84\n",
      "UNFAMILIAR (N/A)                                10\n",
      "Name: Unnamed: 21, dtype: int64\n",
      "NEITHER FAVORABLY NOR UNFAVORABLY (NEUTRAL)    236\n",
      "SOMEWHAT FAVORABLY                             223\n",
      "UNFAMILIAR (N/A)                               148\n",
      "VERY FAVORABLY                                 142\n",
      "SOMEWHAT UNFAVORABLY                            63\n",
      "VERY UNFAVORABLY                                 8\n",
      "Name: Unnamed: 22, dtype: int64\n",
      "NEITHER FAVORABLY NOR UNFAVORABLY (NEUTRAL)    248\n",
      "SOMEWHAT FAVORABLY                             153\n",
      "VERY FAVORABLY                                 138\n",
      "UNFAMILIAR (N/A)                               132\n",
      "SOMEWHAT UNFAVORABLY                            96\n",
      "VERY UNFAVORABLY                                45\n",
      "Name: Unnamed: 23, dtype: int64\n",
      "VERY FAVORABLY                                 474\n",
      "SOMEWHAT FAVORABLY                             229\n",
      "NEITHER FAVORABLY NOR UNFAVORABLY (NEUTRAL)     79\n",
      "SOMEWHAT UNFAVORABLY                            23\n",
      "UNFAMILIAR (N/A)                                15\n",
      "VERY UNFAVORABLY                                 7\n",
      "Name: Unnamed: 24, dtype: int64\n",
      "VERY FAVORABLY                                 562\n",
      "SOMEWHAT FAVORABLY                             185\n",
      "NEITHER FAVORABLY NOR UNFAVORABLY (NEUTRAL)     57\n",
      "UNFAMILIAR (N/A)                                10\n",
      "SOMEWHAT UNFAVORABLY                            10\n",
      "VERY UNFAVORABLY                                 6\n",
      "Name: Unnamed: 25, dtype: int64\n",
      "VERY UNFAVORABLY                               204\n",
      "NEITHER FAVORABLY NOR UNFAVORABLY (NEUTRAL)    164\n",
      "SOMEWHAT FAVORABLY                             130\n",
      "VERY FAVORABLY                                 112\n",
      "UNFAMILIAR (N/A)                               109\n",
      "SOMEWHAT UNFAVORABLY                           102\n",
      "Name: Unnamed: 26, dtype: int64\n",
      "NEITHER FAVORABLY NOR UNFAVORABLY (NEUTRAL)    207\n",
      "SOMEWHAT FAVORABLY                             183\n",
      "VERY FAVORABLY                                 168\n",
      "UNFAMILIAR (N/A)                               164\n",
      "SOMEWHAT UNFAVORABLY                            58\n",
      "VERY UNFAVORABLY                                34\n",
      "Name: Unnamed: 27, dtype: int64\n",
      "VERY FAVORABLY                                 605\n",
      "SOMEWHAT FAVORABLY                             144\n",
      "NEITHER FAVORABLY NOR UNFAVORABLY (NEUTRAL)     51\n",
      "UNFAMILIAR (N/A)                                10\n",
      "VERY UNFAVORABLY                                 8\n",
      "SOMEWHAT UNFAVORABLY                             8\n",
      "Name: Unnamed: 28, dtype: int64\n",
      "HAN                                 325\n",
      "I DON'T UNDERSTAND THIS QUESTION    306\n",
      "GREEDO                              197\n",
      "Name: Which character shot first?, dtype: int64\n",
      "NO     615\n",
      "YES    213\n",
      "Name: Are you familiar with the Expanded Universe?, dtype: int64\n",
      "NO      114\n",
      "YES      98\n",
      "YESS      1\n",
      "Name: Do you consider yourself to be a fan of the Expanded Universe?æ, dtype: int64\n",
      "NO     640\n",
      "YES    427\n",
      "NOO      1\n",
      "Name: Do you consider yourself to be a fan of the Star Trek franchise?, dtype: int64\n",
      "FEMALE    548\n",
      "MALE      497\n",
      "F           1\n",
      "Name: Gender, dtype: int64\n",
      "45-60    291\n",
      "> 60     269\n",
      "30-44    268\n",
      "18-29    217\n",
      "500        1\n",
      "Name: Age, dtype: int64\n",
      "$50,000 - $99,999      298\n",
      "$25,000 - $49,999      186\n",
      "$100,000 - $149,999    141\n",
      "$0 - $24,999           138\n",
      "$150,000+               95\n",
      "Name: Household Income, dtype: int64\n",
      "SOME COLLEGE OR ASSOCIATE DEGREE    328\n",
      "BACHELOR DEGREE                     321\n",
      "GRADUATE DEGREE                     275\n",
      "HIGH SCHOOL DEGREE                  105\n",
      "LESS THAN HIGH SCHOOL DEGREE          7\n",
      "Name: Education, dtype: int64\n",
      "EAST NORTH CENTRAL    181\n",
      "PACIFIC               175\n",
      "SOUTH ATLANTIC        170\n",
      "MIDDLE ATLANTIC       122\n",
      "WEST SOUTH CENTRAL    110\n",
      "WEST NORTH CENTRAL     93\n",
      "MOUNTAIN               79\n",
      "NEW ENGLAND            75\n",
      "EAST SOUTH CENTRAL     38\n",
      "Name: Location, dtype: int64\n"
     ]
    }
   ],
   "source": [
    "for col in starwar.columns[1:]:\n",
    "    print(starwar[col].value_counts())\n",
    "\n",
    "starwar[(starwar.select_dtypes(['object'])).columns] = starwar.select_dtypes(['object']).apply(lambda x: x.str.upper())\n",
    "starwar[(starwar.select_dtypes(['object'])).columns] = starwar.select_dtypes(['object']).apply(lambda x: x.str.strip())\n",
    "for col in starwar.columns[1:]:\n",
    "    print(starwar[col].value_counts())\n",
    "\n",
    "typos = {'YESS': 'YES',    \n",
    "         'NOO':'NO'}\n",
    "starwar[(starwar.select_dtypes(['object'])).columns] = starwar.select_dtypes(['object']).apply(lambda x: x.replace(typos))\n",
    "\n",
    "starwar.rename({'Do you consider yourself to be a fan of the Expanded Universe?\\x8cæ' : 'Do you consider yourself to be a fan of the Expanded Universe?'},inplace = True)\n",
    "\n"
   ]
  },
  {
   "cell_type": "markdown",
   "metadata": {},
   "source": [
    "Renaming the columns"
   ]
  },
  {
   "cell_type": "code",
   "execution_count": 5,
   "metadata": {},
   "outputs": [],
   "source": [
    "starwar.rename(columns={'Which of the following Star Wars films have you seen? Please select all that apply.' : 'W1',# watched star wars:episode 1 the phantom menace\n",
    "                        'Unnamed: 4' : 'W2',#watched star wars:episode 2 attack of the clones\n",
    "                        'Unnamed: 5' : 'W3',#watched star wars:episode 3 revenge of the sith\n",
    "                        'Unnamed: 6' : 'W4',#watched star wars:episode 4 a new hope\n",
    "                        'Unnamed: 7' : 'W5',#watched star wars:episode 5 the empire strikes back\n",
    "                        'Unnamed: 8' : 'W6',#watched star wars: 6 return of the jedi\n",
    "                        'Please rank the Star Wars films in order of preference with 1 being your favorite film in the franchise and 6 being your least favorite film.' : 'R1', # Ranked star wars:episode 1 the phantom menance\n",
    "                        'Unnamed: 10' : 'R2',#Ranked star wars:episode 2 attack of the clones\n",
    "                        'Unnamed: 11' : 'R3',#Ranked star wars:episode 3 revenge of the sith\n",
    "                        'Unnamed: 12' : 'R4',#Ranked star wars:episode 4 a new hope\n",
    "                        'Unnamed: 13' : 'R5',#Ranked star wars:episode 5 the empire strikes back\n",
    "                        'Unnamed: 14' : 'R6',#Ranked star wars: 6 return of the jedi\n",
    "                        'Please state whether you view the following characters favorably, unfavorably, or are unfamiliar with him/her.' : 'F_Han Solo',#familiarity with the charecter Han solo\n",
    "                        'Unnamed: 16' : 'F_Luke Skywalker',# Familiarity with the charecter Luke skywalker\n",
    "                        'Unnamed: 17' : 'F_Princess Leia Organa',# familiarity with the charecter princess leia                   \n",
    "                        'Unnamed: 18' : 'F_Anakin Skywalker',# familiarity with the charecter Anakin Skywalker \n",
    "                        'Unnamed: 19' : 'F_Obi Wan Kenobi',# familiarity with the charecter Obi Wan Kenobi \n",
    "                        'Unnamed: 20' : 'F_Emperor Palpatine',# familiarity with the charecter Emperor Palpatine \n",
    "                        'Unnamed: 21' : 'F_Darth Vader',# familiarity with the charecter Darth Vader \n",
    "                        'Unnamed: 22' : 'F_Lando Calrissian',# familiarity with the charecter Lando Calrissian \n",
    "                        'Unnamed: 23' : 'F_Boba Fett',# familiarity with the charecter Boba Fett \n",
    "                        'Unnamed: 24' : 'F_C-3P0',# familiarity with the charecter C-3P0 \n",
    "                        'Unnamed: 25' : 'F_R2 D2',# familiarity with the charecter R2 D2 \n",
    "                        'Unnamed: 26' : 'F_Jar Jar Binks',# familiarity with the charecter Jar Jar Binks \n",
    "                        'Unnamed: 27' : 'F_Padme Amidala',# familiarity with the charecter Padme Amidala \n",
    "                        'Unnamed: 28' : 'F_Yoda'},inplace = True)# familiarity with the charecter Yoda "
   ]
  },
  {
   "cell_type": "markdown",
   "metadata": {},
   "source": [
    "Checking and removing the missing values"
   ]
  },
  {
   "cell_type": "code",
   "execution_count": 6,
   "metadata": {},
   "outputs": [
    {
     "name": "stdout",
     "output_type": "stream",
     "text": [
      "Have you seen any of the 6 films in the Star Wars franchise?              0\n",
      "Do you consider yourself to be a fan of the Star Wars film franchise?     0\n",
      "W1                                                                       11\n",
      "W2                                                                       14\n",
      "W3                                                                       14\n",
      "W4                                                                       16\n",
      "W5                                                                        6\n",
      "W6                                                                        8\n",
      "R1                                                                        0\n",
      "R2                                                                        0\n",
      "R3                                                                        0\n",
      "R4                                                                        0\n",
      "R5                                                                        0\n",
      "R6                                                                        0\n",
      "F_Han Solo                                                                0\n",
      "F_Luke Skywalker                                                          0\n",
      "F_Princess Leia Organa                                                    0\n",
      "F_Anakin Skywalker                                                        0\n",
      "F_Obi Wan Kenobi                                                          0\n",
      "F_Emperor Palpatine                                                       0\n",
      "F_Darth Vader                                                             0\n",
      "F_Lando Calrissian                                                        0\n",
      "F_Boba Fett                                                               0\n",
      "F_C-3P0                                                                   0\n",
      "F_R2 D2                                                                   0\n",
      "F_Jar Jar Binks                                                           0\n",
      "F_Padme Amidala                                                           0\n",
      "F_Yoda                                                                    0\n",
      "Which character shot first?                                               0\n",
      "Are you familiar with the Expanded Universe?                              0\n",
      "Do you consider yourself to be a fan of the Expanded Universe?æ          0\n",
      "Do you consider yourself to be a fan of the Star Trek franchise?          0\n",
      "Gender                                                                    0\n",
      "Age                                                                       0\n",
      "Household Income                                                          0\n",
      "Education                                                                 0\n",
      "Location                                                                  0\n",
      "dtype: int64\n"
     ]
    }
   ],
   "source": [
    "starwar.isnull().sum()\n",
    "starwar = starwar[pd.notnull(starwar['Have you seen any of the 6 films in the Star Wars franchise?'])]\n",
    "starwar = starwar[pd.notnull(starwar['Do you consider yourself to be a fan of the Star Wars film franchise?'])]\n",
    "starwar = starwar[pd.notnull(starwar['R1'])]\n",
    "starwar = starwar[pd.notnull(starwar['R2'])]\n",
    "starwar = starwar[pd.notnull(starwar['R3'])]\n",
    "starwar = starwar[pd.notnull(starwar['F_Han Solo'])]\n",
    "starwar = starwar[pd.notnull(starwar['F_Luke Skywalker'])]\n",
    "starwar = starwar[pd.notnull(starwar['F_Princess Leia Organa'])]\n",
    "starwar = starwar[pd.notnull(starwar['F_Anakin Skywalker'])]\n",
    "starwar = starwar[pd.notnull(starwar['F_Obi Wan Kenobi'])]\n",
    "starwar = starwar[pd.notnull(starwar['F_Emperor Palpatine'])]\n",
    "starwar = starwar[pd.notnull(starwar['F_Darth Vader'])]\n",
    "starwar = starwar[pd.notnull(starwar['F_Lando Calrissian'])]\n",
    "starwar = starwar[pd.notnull(starwar['F_Boba Fett'])]\n",
    "starwar = starwar[pd.notnull(starwar['F_C-3P0'])]\n",
    "starwar = starwar[pd.notnull(starwar['F_R2 D2'])]\n",
    "starwar = starwar[pd.notnull(starwar['F_Jar Jar Binks'])]\n",
    "starwar = starwar[pd.notnull(starwar['F_Padme Amidala'])]\n",
    "starwar = starwar[pd.notnull(starwar['F_Yoda'])]\n",
    "starwar = starwar[pd.notnull(starwar['Are you familiar with the Expanded Universe?'])]\n",
    "starwar = starwar[pd.notnull(starwar['Do you consider yourself to be a fan of the Expanded Universe?æ'])]\n",
    "starwar = starwar[pd.notnull(starwar['Household Income'])]\n",
    "starwar = starwar[pd.notnull(starwar['Education'])]\n",
    "starwar = starwar[pd.notnull(starwar['Location'])]\n",
    "print(starwar.isnull().sum())"
   ]
  },
  {
   "cell_type": "code",
   "execution_count": 7,
   "metadata": {},
   "outputs": [],
   "source": [
    "star_people= starwar[starwar.columns[15:]]\n",
    "star_people.head()\n",
    "star_people.to_csv('star_people')"
   ]
  },
  {
   "cell_type": "markdown",
   "metadata": {},
   "source": [
    "## Modelling techniques"
   ]
  },
  {
   "cell_type": "markdown",
   "metadata": {},
   "source": [
    "# LSA\n",
    "-\tLSA stands for latent semanctic analysis.\n",
    "-\tLSA uses a method called bag of words or (BoW). It is a method in which it embeds each word documents into a vector space.\n",
    "-\tEach word document in the vocabulary relates to a unique dimension present in the vector space.\n",
    "-\tFor each of these document this method goes through the vocabulary and then assigns that word a score. This then provides the document a vector embedding. \n",
    "-\tThis score of each word vector are assigned to a term-document matrix, which indicates the occurrence of each term in the document.\n",
    "-\tThe rows of this matrix represent terms and the columns represents documents.\n",
    "-\tLSA lears latent topic by performing matrix decomposition on this document term matrix.\n",
    "-\tSVD or single value decomposition are used for performing this matrix decomposition.\n",
    "-\tSVD is a type of dimension reduction or noise reduction techniques generally used in topic modelling. "
   ]
  },
  {
   "cell_type": "code",
   "execution_count": 8,
   "metadata": {},
   "outputs": [],
   "source": [
    "datafile= 'star_people'\n",
    "raw_data = pd.read_csv('star_people',encoding='latin-1', na_values='-')\n",
    "\n",
    "reindexed_data = raw_data['Location']\n",
    "reindexed_data.index = raw_data['Education']"
   ]
  },
  {
   "cell_type": "markdown",
   "metadata": {},
   "source": [
    "## Stopword and Count Vectorizer.\n",
    "- Stopwords in English language are the words like in,at,there,who,why etc which have no significant meaning in topic modelling, thus this stopwords are eliminated from the document before performing topic modelling. This stopwords are present in the genism module and stopword funtions can simple be called to remove stopwords from the documents. \n",
    "- After removing the stopwords count vectorizer method is implied. Count-vectorizer is a method called which reduces string of words into 2 dimensional space. For example if there are various 3-4 words sentence it will put these sentences into rows and all the words that it contains after removing the stopwords into columns. Then it will map the occurrence of each word in a particular sentence. \n",
    "- A single LSA component will give each term in this matrix a weight, then it simply multiplies this document vector with each weight and sums it across all the terms. \n",
    "- To make this weight useful and meaningful, LSA model will order this weights in such a way that the occurrence of word for the first time is assigned the highest weight and then the weights are decreased in subsequent occurrences.\n",
    "- Get_top_n_word function is a part of LSA package which will return a tuple of the top words in the total number of sample with their respective counts. "
   ]
  },
  {
   "cell_type": "code",
   "execution_count": 9,
   "metadata": {},
   "outputs": [],
   "source": [
    "def get_top_n_words(n_top_words, count_vectorizer, text_data):\n",
    "    vectorized_headlines = count_vectorizer.fit_transform(text_data.values)\n",
    "    vectorized_total = np.sum(vectorized_headlines, axis=0)\n",
    "    word_indices = np.flip(np.argsort(vectorized_total)[0,:], 1)\n",
    "    word_values = np.flip(np.sort(vectorized_total)[0,:],1)\n",
    "    \n",
    "    word_vectors = np.zeros((n_top_words, vectorized_headlines.shape[1]))\n",
    "    for i in range(n_top_words):\n",
    "        word_vectors[i,word_indices[0,i]] = 1\n",
    "\n",
    "    words = [word[0].encode('ascii').decode('utf-8') for \n",
    "             word in count_vectorizer.inverse_transform(word_vectors)]\n",
    "\n",
    "    return (words, word_values[0,:n_top_words].tolist()[0])"
   ]
  },
  {
   "cell_type": "code",
   "execution_count": 10,
   "metadata": {},
   "outputs": [
    {
     "data": {
      "image/png": "[encoded data removed]",
      "text/plain": [
       "<Figure size 720x792 with 1 Axes>"
      ]
     },
     "metadata": {
      "needs_background": "light"
     },
     "output_type": "display_data"
    }
   ],
   "source": [
    "count_vectorizer = CountVectorizer(stop_words='english')\n",
    "words, word_values = get_top_n_words(n_top_words=11,\n",
    "                                     count_vectorizer=count_vectorizer, \n",
    "                                     text_data=reindexed_data)\n",
    "\n",
    "fig, ax = plt.subplots(figsize=(10,11))\n",
    "ax.bar(range(len(words)), word_values);\n",
    "ax.set_xticks(range(len(words)));\n",
    "ax.set_xticklabels(words, rotation='vertical');\n",
    "ax.set_title('Top words in location of an individual in starwars dataset (excluding stop words)');\n",
    "ax.set_xlabel('Word');\n",
    "ax.set_ylabel('Number of occurences');\n",
    "plt.show()"
   ]
  },
  {
   "cell_type": "markdown",
   "metadata": {},
   "source": [
    "- Since are topic modelling focuses on different region of America where this survey was taken from, this counvectorizer method was run on location column of the dataset. \n",
    "-The plot above shows that the highest number of word in location description are central, thus it can be concluded that most number of words used in the location description are central America which has almost 60 occurances. - On the other hand the word south has around 55 occurances while the word mountains has only around 15 occurances.\n",
    "- From this data it can be concluded that most people who took this survey are situated in central region of America. The people staying in the mountain region of America were the least number of participant in this survey.  "
   ]
  },
  {
   "cell_type": "code",
   "execution_count": 11,
   "metadata": {},
   "outputs": [],
   "source": [
    "tagged_headlines = [TextBlob(reindexed_data[i]).pos_tags for i in range(reindexed_data.shape[0])]"
   ]
  },
  {
   "cell_type": "markdown",
   "metadata": {},
   "source": [
    "## CORPUS. \n",
    "- A corpus is simply a set of training document used in topic modelling.\n",
    "- In this section word count and pos count method are used to find out the total number of word and the mean number of word per description of the location column. \n",
    "- This shows that the total number of different word in the description column was 339 while the mean number of owrds after removing the stopwords from the location column was 2.14. "
   ]
  },
  {
   "cell_type": "code",
   "execution_count": 12,
   "metadata": {},
   "outputs": [
    {
     "name": "stdout",
     "output_type": "stream",
     "text": [
      "Total number of words:  339\n",
      "Mean number of words per description of location column:  2.1455696202531644\n"
     ]
    }
   ],
   "source": [
    "tagged_headlines_df = pd.DataFrame({'tags':tagged_headlines})\n",
    "\n",
    "word_counts = [] \n",
    "pos_counts = {}\n",
    "\n",
    "for headline in tagged_headlines_df[u'tags']:\n",
    "    word_counts.append(len(headline))\n",
    "    for tag in headline:\n",
    "        if tag[1] in pos_counts:\n",
    "            pos_counts[tag[1]] += 1\n",
    "        else:\n",
    "            pos_counts[tag[1]] = 1\n",
    "            \n",
    "print('Total number of words: ', np.sum(word_counts))\n",
    "print('Mean number of words per description of location column: ', np.mean(word_counts))"
   ]
  },
  {
   "cell_type": "code",
   "execution_count": 13,
   "metadata": {},
   "outputs": [
    {
     "data": {
      "image/png": "[encoded data removed]",
      "text/plain": [
       "<Figure size 720x360 with 1 Axes>"
      ]
     },
     "metadata": {
      "needs_background": "light"
     },
     "output_type": "display_data"
    }
   ],
   "source": [
    "y = stats.norm.pdf(np.linspace(0,14,50), np.mean(word_counts), np.std(word_counts))\n",
    "\n",
    "fig, ax = plt.subplots(figsize=(10,5))\n",
    "ax.hist(word_counts, bins=range(1,14), density=True);\n",
    "ax.plot(np.linspace(0,14,50), y, 'r--', linewidth=1);\n",
    "ax.set_title('Description word lengths');\n",
    "ax.set_xticks(range(1,14));\n",
    "ax.set_xlabel('Number of words');\n",
    "plt.show()"
   ]
  },
  {
   "cell_type": "markdown",
   "metadata": {},
   "source": [
    "This plot shows the distribution of word length in the dataset. It is a curve with its mean lying somewhere around 2 and the maximum number of per in an location entry was almost 4 while the minimum number of word in location was at least 1.  "
   ]
  },
  {
   "cell_type": "code",
   "execution_count": 14,
   "metadata": {},
   "outputs": [
    {
     "data": {
      "image/png": "[encoded data removed]",
      "text/plain": [
       "<Figure size 720x360 with 1 Axes>"
      ]
     },
     "metadata": {
      "needs_background": "light"
     },
     "output_type": "display_data"
    }
   ],
   "source": [
    "pos_sorted_types = sorted(pos_counts, key=pos_counts.__getitem__, reverse=True)\n",
    "pos_sorted_counts = sorted(pos_counts.values(), reverse=True)\n",
    "\n",
    "fig, ax = plt.subplots(figsize=(10,5))\n",
    "ax.bar(range(len(pos_counts)), pos_sorted_counts);\n",
    "ax.set_xticks(range(len(pos_counts)));\n",
    "ax.set_xticklabels(pos_sorted_types);\n",
    "ax.set_title('Part of location Tagging using Corpus');\n",
    "ax.set_xlabel('Type of Word');"
   ]
  },
  {
   "cell_type": "markdown",
   "metadata": {},
   "source": [
    "- NNP stands for proper noun singular and these are the tags for proper noun present in the word description of corpus word tagging. A noun that designates a particular thing and it does not take a limiting modifier is classified as proper noun. In this location tagging most of the words are NNP like central, south etc. \n",
    "- NN stands for noun singular and these are the tags for singular noun present in the word description of corpus word tagging. A singular noun takes a singular verb in any sentence. In this corpus tagging very less words are NN like mountains etc. \n",
    "- It can be said that almost all the words are NNP and only about 25 words are NN in this word description. "
   ]
  },
  {
   "cell_type": "markdown",
   "metadata": {},
   "source": [
    "## Preprocessing\n",
    "- In this section we will apply a clustering algorithm to the location corpus created. For this purpose we will initialize a small count vectorizer function with a maximum of 400 features that can be present in the modelling. Then a small text sample with only number of sample =100 will be initialize.\n",
    "- This will give out two ouptputs, the first will be the location before the sample is vectorize and then the value of location after the sample is vectorize. \n",
    "- In general practice this simple means that we are converting each string to a numerical vector. This is done by initializing countvector from sklearn module, which yields a document term matrix. \n",
    "- This count matrix is in the form of K*N, where K is the number of distinct word across N number of topics. \n"
   ]
  },
  {
   "cell_type": "code",
   "execution_count": 15,
   "metadata": {},
   "outputs": [
    {
     "name": "stdout",
     "output_type": "stream",
     "text": [
      "Location before vectorization: SOUTH ATLANTIC\n",
      "Location after vectorization: \n",
      "  (0, 7)\t1\n",
      "  (0, 1)\t1\n",
      "  (0, 2)\t1\n"
     ]
    }
   ],
   "source": [
    "small_count_vectorizer = CountVectorizer(stop_words='english', max_features=400)\n",
    "small_text_sample = reindexed_data.sample(n=100, random_state=0).values\n",
    "print('Location before vectorization: {}'.format(small_text_sample[12]))\n",
    "small_document_term_matrix = small_count_vectorizer.fit_transform(small_text_sample)\n",
    "print('Location after vectorization: \\n{}'.format(small_document_term_matrix[50]))"
   ]
  },
  {
   "cell_type": "markdown",
   "metadata": {},
   "source": [
    "Fòr the purpose of this dataset we shall assume that it will have a minimum number of atleast 3 distinct topics. "
   ]
  },
  {
   "cell_type": "code",
   "execution_count": 16,
   "metadata": {},
   "outputs": [],
   "source": [
    "n_topics = 3"
   ]
  },
  {
   "cell_type": "markdown",
   "metadata": {},
   "source": [
    "## Model deployment-LSA\n",
    "- The implementation of LSA model is done by effectively choosing a truncated singular valued matrix decomposition of a very high document term matrix. \n",
    "    - In this decomposition only the values of r that has the largest value in term of topics weight matrix are preserved. \n",
    "    - Truncated SVD uses factorization of data matrix where the number of column is equal to the truncation value. - - In simpler terms it uses truncated value and it keeps rounding them off to its nearest decimal place until the truncation is over. \n",
    "    - The benefit of using truncated SVD is that it does not center the data before computing the SVD, but rather works on the data from beginning to the end. "
   ]
  },
  {
   "cell_type": "code",
   "execution_count": 17,
   "metadata": {},
   "outputs": [],
   "source": [
    "lsa_model = TruncatedSVD(n_components=n_topics)\n",
    "lsa_topic_matrix = lsa_model.fit_transform(small_document_term_matrix)"
   ]
  },
  {
   "cell_type": "markdown",
   "metadata": {},
   "source": [
    "By taking the maximum argument by using are max of each of the location in topic matrix will give the predicted topic in the whole dataset. After this we can sort these singular topic counts into each topics. "
   ]
  },
  {
   "cell_type": "code",
   "execution_count": 18,
   "metadata": {},
   "outputs": [],
   "source": [
    "def get_keys(topic_matrix):\n",
    "    keys = topic_matrix.argmax(axis=1).tolist()\n",
    "    return keys\n",
    "\n",
    "def keys_to_counts(keys):\n",
    "    count_pairs = Counter(keys).items()\n",
    "    categories = [pair[0] for pair in count_pairs]\n",
    "    counts = [pair[1] for pair in count_pairs]\n",
    "    return (categories, counts)"
   ]
  },
  {
   "cell_type": "code",
   "execution_count": 19,
   "metadata": {},
   "outputs": [],
   "source": [
    "lsa_keys = get_keys(lsa_topic_matrix)\n",
    "lsa_categories, lsa_counts = keys_to_counts(lsa_keys)"
   ]
  },
  {
   "cell_type": "code",
   "execution_count": 20,
   "metadata": {},
   "outputs": [],
   "source": [
    "def get_top_n_words(n, keys, document_term_matrix, count_vectorizer):\n",
    "    top_word_indices = []\n",
    "    for topic in range(n_topics):\n",
    "        temp_vector_sum = 0\n",
    "        for i in range(len(keys)):\n",
    "            if keys[i] == topic:\n",
    "                temp_vector_sum += document_term_matrix[i]\n",
    "        temp_vector_sum = temp_vector_sum.toarray()\n",
    "        top_n_word_indices = np.flip(np.argsort(temp_vector_sum)[0][-n:],0)\n",
    "        top_word_indices.append(top_n_word_indices)   \n",
    "    top_words = []\n",
    "    for topic in top_word_indices:\n",
    "        topic_words = []\n",
    "        for index in topic:\n",
    "            temp_word_vector = np.zeros((1,document_term_matrix.shape[1]))\n",
    "            temp_word_vector[:,index] = 1\n",
    "            the_word = count_vectorizer.inverse_transform(temp_word_vector)[0][0]\n",
    "            topic_words.append(the_word.encode('ascii').decode('utf-8'))\n",
    "        top_words.append(\" \".join(topic_words))         \n",
    "    return top_words"
   ]
  },
  {
   "cell_type": "code",
   "execution_count": 21,
   "metadata": {},
   "outputs": [
    {
     "name": "stdout",
     "output_type": "stream",
     "text": [
      "Topic 1:  central north west east south pacific new mountain middle england\n",
      "Topic 2:  atlantic south middle mountain west pacific north new england east\n",
      "Topic 3:  pacific new england west south north mountain middle east central\n"
     ]
    }
   ],
   "source": [
    "top_n_words_lsa = get_top_n_words(10, lsa_keys, small_document_term_matrix, small_count_vectorizer)\n",
    "\n",
    "for i in range(len(top_n_words_lsa)):\n",
    "    print(\"Topic {}: \".format(i+1), top_n_words_lsa[i])"
   ]
  },
  {
   "cell_type": "markdown",
   "metadata": {},
   "source": [
    "- By taking the maximum argument by using are max of each of the location in topic matrix will give the predicted topic in the whole dataset. After this we can sort these singular topic counts into each topics. \n",
    "- Finally we have converted all our topics from the small topic vectorizer into a list of predicted topics by the LSA model. \n",
    "    - Each topic is charetirized by its most frequent word present in the topic word matrix. This LSA model gives out basically three main dominant topic in the location of the participiants.\n",
    "    - Since these topics are a combination of small vectorized matrix, the topic with the highest weight is at the start and its weight gradually decreases with each iteration.\n",
    "- From this our three topics can be \n",
    "    - Topic1 central northwest \n",
    "    - Topic2 Atlantic pacific-south\n",
    "    - Topic3 New England Mountains."
   ]
  },
  {
   "cell_type": "code",
   "execution_count": 22,
   "metadata": {},
   "outputs": [
    {
     "data": {
      "image/png": "[encoded data removed]",
      "text/plain": [
       "<Figure size 1152x576 with 1 Axes>"
      ]
     },
     "metadata": {
      "needs_background": "light"
     },
     "output_type": "display_data"
    }
   ],
   "source": [
    "top_3_words = get_top_n_words(3, lsa_keys, small_document_term_matrix, small_count_vectorizer)\n",
    "labels = ['Topic {}: \\n'.format(i) + top_3_words[i] for i in lsa_categories]\n",
    "fig, ax = plt.subplots(figsize=(16,8))\n",
    "ax.bar(lsa_categories, lsa_counts);\n",
    "ax.set_xticks(lsa_categories);\n",
    "ax.set_xticklabels(labels);\n",
    "ax.set_ylabel('Number of locations');\n",
    "ax.set_title('LSA topic counts');\n",
    "plt.show()"
   ]
  },
  {
   "cell_type": "markdown",
   "metadata": {},
   "source": [
    "Plot showing the occurrence of these topic in the location of the dataset. So the topic central northwest has appeared almost 40 times while Atlantic pacific south more than 40 times with New England topic only appearing for almost 20 times. "
   ]
  },
  {
   "cell_type": "markdown",
   "metadata": {},
   "source": [
    "## Kullback Leibler divergence test.\n",
    "- t-distribution stochastic neighbor embedding method is used for model testing in this case of LSA modelling.\n",
    "- t-SNE is a process of embedding different topics to its nearest predicted topics by the model. This is performed by giving each datapoint a location in 2 dimensional space.\n",
    "- In this testing I have set the learning rate to 100 with n components 3 and perplexity 50. The number of iteration for the first test is 2000. These parameters can be changes to get different values of t-SNE and evaluate the performance matrix.\n"
   ]
  },
  {
   "cell_type": "code",
   "execution_count": 23,
   "metadata": {},
   "outputs": [
    {
     "name": "stdout",
     "output_type": "stream",
     "text": [
      "[t-SNE] Computing 99 nearest neighbors...\n",
      "[t-SNE] Indexed 100 samples in 0.001s...\n",
      "[t-SNE] Computed neighbors for 100 samples in 0.002s...\n",
      "[t-SNE] Computed conditional probabilities for sample 100 / 100\n",
      "[t-SNE] Mean sigma: 0.925400\n",
      "[t-SNE] KL divergence after 250 iterations with early exaggeration: 93.991028\n",
      "[t-SNE] KL divergence after 2000 iterations: 1.010331\n"
     ]
    }
   ],
   "source": [
    "#Test 1\n",
    "tsne_lsa_model = TSNE(n_components=3, perplexity=50, learning_rate=100, \n",
    "                        n_iter=2000, verbose=1, random_state=0, angle=0.75)\n",
    "tsne_lsa_vectors = tsne_lsa_model.fit_transform(lsa_topic_matrix)"
   ]
  },
  {
   "cell_type": "code",
   "execution_count": 24,
   "metadata": {},
   "outputs": [
    {
     "name": "stdout",
     "output_type": "stream",
     "text": [
      "[t-SNE] Computing 99 nearest neighbors...\n",
      "[t-SNE] Indexed 100 samples in 0.000s...\n",
      "[t-SNE] Computed neighbors for 100 samples in 0.003s...\n",
      "[t-SNE] Computed conditional probabilities for sample 100 / 100\n",
      "[t-SNE] Mean sigma: 1.181248\n",
      "[t-SNE] KL divergence after 250 iterations with early exaggeration: 82.387817\n",
      "[t-SNE] KL divergence after 4000 iterations: 0.989633\n"
     ]
    }
   ],
   "source": [
    "#Test 2\n",
    "tsne_lsa_model = TSNE(n_components=3, perplexity=70, learning_rate=200, \n",
    "                        n_iter=4000, verbose=1, random_state=0, angle=0.75)\n",
    "tsne_lsa_vectors = tsne_lsa_model.fit_transform(lsa_topic_matrix)"
   ]
  },
  {
   "cell_type": "code",
   "execution_count": 25,
   "metadata": {},
   "outputs": [
    {
     "name": "stdout",
     "output_type": "stream",
     "text": [
      "[t-SNE] Computing 99 nearest neighbors...\n",
      "[t-SNE] Indexed 100 samples in 0.000s...\n",
      "[t-SNE] Computed neighbors for 100 samples in 0.002s...\n",
      "[t-SNE] Computed conditional probabilities for sample 100 / 100\n",
      "[t-SNE] Mean sigma: 1125899906842624.000000\n",
      "[t-SNE] KL divergence after 250 iterations with early exaggeration: 64.722878\n",
      "[t-SNE] KL divergence after 9050 iterations: 0.898011\n"
     ]
    }
   ],
   "source": [
    "#Test 3\n",
    "tsne_lsa_model = TSNE(n_components=3, perplexity=100, learning_rate=1000, \n",
    "                        n_iter=10000, verbose=1, random_state=0, angle=0.75)\n",
    "tsne_lsa_vectors = tsne_lsa_model.fit_transform(lsa_topic_matrix)"
   ]
  },
  {
   "cell_type": "code",
   "execution_count": 26,
   "metadata": {},
   "outputs": [
    {
     "name": "stdout",
     "output_type": "stream",
     "text": [
      "[t-SNE] Computing 99 nearest neighbors...\n",
      "[t-SNE] Indexed 100 samples in 0.001s...\n",
      "[t-SNE] Computed neighbors for 100 samples in 0.004s...\n",
      "[t-SNE] Computed conditional probabilities for sample 100 / 100\n",
      "[t-SNE] Mean sigma: 1125899906842624.000000\n",
      "[t-SNE] KL divergence after 250 iterations with early exaggeration: 49.218147\n",
      "[t-SNE] KL divergence after 2850 iterations: 0.842795\n"
     ]
    }
   ],
   "source": [
    "#Test 4\n",
    "tsne_lsa_model = TSNE(n_components=3, perplexity=500, learning_rate=5000, \n",
    "                        n_iter=20000, verbose=1, random_state=0, angle=0.75)\n",
    "tsne_lsa_vectors = tsne_lsa_model.fit_transform(lsa_topic_matrix)"
   ]
  },
  {
   "cell_type": "code",
   "execution_count": 27,
   "metadata": {},
   "outputs": [
    {
     "name": "stdout",
     "output_type": "stream",
     "text": [
      "[t-SNE] Computing 16 nearest neighbors...\n",
      "[t-SNE] Indexed 100 samples in 0.001s...\n",
      "[t-SNE] Computed neighbors for 100 samples in 0.003s...\n",
      "[t-SNE] Computed conditional probabilities for sample 100 / 100\n",
      "[t-SNE] Mean sigma: 0.000000\n",
      "[t-SNE] KL divergence after 250 iterations with early exaggeration: 33.258224\n",
      "[t-SNE] KL divergence after 350 iterations: 0.060409\n"
     ]
    }
   ],
   "source": [
    "#Test 5\n",
    "tsne_lsa_model = TSNE(n_components=3, perplexity=5, learning_rate=20, \n",
    "                        n_iter=350, verbose=1, random_state=0, angle=0.75)\n",
    "tsne_lsa_vectors = tsne_lsa_model.fit_transform(lsa_topic_matrix)"
   ]
  },
  {
   "cell_type": "markdown",
   "metadata": {},
   "source": [
    "- The Kullback Leibler divergence test of t-SNE model is the measure of how different one probability distribution is from one another in 2 dimensional space. \n",
    "- Dimensionality reduction techniques often uses new representation of topic work matrix to define a proper reduced structure. \n",
    "- The aim of tSNE is to take different approach by preserving the main topic. This is done by using the KL divergence asymmetric properties.\n",
    "- In KL divergence the conditional property is calculated an inverse function of distance between those two points in 2 dimensional space. \n",
    "    - Thus by this model close points have low distance in between them are assigned with high conditional properties. \n",
    "    - Similarly far points that have large distance between them are assigned low conditional probabilities. \n"
   ]
  },
  {
   "cell_type": "code",
   "execution_count": 28,
   "metadata": {},
   "outputs": [
    {
     "name": "stdout",
     "output_type": "stream",
     "text": [
      "╒════════╤═══════════════╤═════════════════╤═══════════════════╤═════════════════╕\n",
      "│ TEST   │   PERPEXILITY │   LEARNING RATE │   NO OF ITERATION │   KL-DIVERGENCE │\n",
      "╞════════╪═══════════════╪═════════════════╪═══════════════════╪═════════════════╡\n",
      "│ TEST1  │            50 │             100 │              2000 │            1.01 │\n",
      "├────────┼───────────────┼─────────────────┼───────────────────┼─────────────────┤\n",
      "│ TEST2  │            70 │             200 │              4000 │            0.98 │\n",
      "├────────┼───────────────┼─────────────────┼───────────────────┼─────────────────┤\n",
      "│ TEST3  │           100 │            1000 │             10000 │            0.89 │\n",
      "├────────┼───────────────┼─────────────────┼───────────────────┼─────────────────┤\n",
      "│ TEST4  │           500 │            5000 │             20000 │            0.84 │\n",
      "├────────┼───────────────┼─────────────────┼───────────────────┼─────────────────┤\n",
      "│ TEST5  │             5 │              20 │               350 │            0.04 │\n",
      "╘════════╧═══════════════╧═════════════════╧═══════════════════╧═════════════════╛\n"
     ]
    }
   ],
   "source": [
    "from tabulate import tabulate\n",
    "table=[['TEST','PERPEXILITY','LEARNING RATE','NO OF ITERATION','KL-DIVERGENCE'],\n",
    "        ['TEST1','50','100','2000','1.01'],\n",
    "        ['TEST2','70','200','4000','0.98'],\n",
    "        ['TEST3','100','1000','10000','0.89'],\n",
    "        ['TEST4','500','5000','20000','0.84'],\n",
    "        ['TEST5','5','20','350','0.04']]\n",
    "print(tabulate(table, headers='firstrow', tablefmt='fancy_grid'))   "
   ]
  },
  {
   "cell_type": "markdown",
   "metadata": {},
   "source": [
    "- For this testing learning rates are varied and their KL divergence is then noted.\n",
    "- Perpexility balances the number of close neighbors to the datapoint in the topic word matrix, if the perpexility value is high it will match higher number of nearest neighbor and if its low it will match with low number of nearest neighbor. \n",
    "- In this model testing after sometime the model reaches a saturation point.\n",
    "- The lower the value of kl distribution the identical the topics are to its nearest values. But this value shouldn’t be obtained by compromising other parameters.\n",
    "- For example in the last iteration with only 350 iteration and 20 learning rate by looking at 5 nearest data point the KL divergence is 0.04 which is the lowest, but this is not considered good as various other parameter has been compromised.\n",
    "- From the above test it can be said that the best values is 0.89 for this model. \n"
   ]
  },
  {
   "cell_type": "markdown",
   "metadata": {},
   "source": [
    "## Interactive Cluster Plotting-LSA"
   ]
  },
  {
   "cell_type": "code",
   "execution_count": 29,
   "metadata": {},
   "outputs": [],
   "source": [
    "def get_mean_topic_vectors(keys, two_dim_vectors):\n",
    "    mean_topic_vectors = []\n",
    "    for t in range(n_topics):\n",
    "        articles_in_that_topic = []\n",
    "        for i in range(len(keys)):\n",
    "            if keys[i] == t:\n",
    "                articles_in_that_topic.append(two_dim_vectors[i])    \n",
    "        \n",
    "        articles_in_that_topic = np.vstack(articles_in_that_topic)\n",
    "        mean_article_in_that_topic = np.mean(articles_in_that_topic, axis=0)\n",
    "        mean_topic_vectors.append(mean_article_in_that_topic)\n",
    "    return mean_topic_vectors"
   ]
  },
  {
   "cell_type": "code",
   "execution_count": 30,
   "metadata": {},
   "outputs": [],
   "source": [
    "colormap = np.array([\n",
    "    \"#aec7e8\",\"#ff9896\", \"#9467bd\", \"#c5b0d5\",\n",
    "    \"#c49c94\",])\n",
    "colormap = colormap[:n_topics]"
   ]
  },
  {
   "cell_type": "code",
   "execution_count": 31,
   "metadata": {},
   "outputs": [
    {
     "data": {
      "text/html": [
       "\n",
       "  <div class=\"bk-root\" id=\"5ec5d5b5-9a79-412d-8e69-662eff1eeaf2\" data-root-id=\"1003\"></div>\n"
      ]
     },
     "metadata": {},
     "output_type": "display_data"
    },
    {
     "data": {
      "application/javascript": "(function(root) {\n  function embed_document(root) {\n  const docs_json = {\"9d3ad22c-93d3-42b0-ae1d-0ce4e8f9317f\":{\"defs\":[],\"roots\":{\"references\":[{\"attributes\":{\"below\":[{\"id\":\"1014\"}],\"center\":[{\"id\":\"1017\"},{\"id\":\"1021\"},{\"id\":\"1042\"},{\"id\":\"1043\"},{\"id\":\"1044\"}],\"height\":400,\"left\":[{\"id\":\"1018\"}],\"renderers\":[{\"id\":\"1040\"}],\"title\":{\"id\":\"1004\"},\"toolbar\":{\"id\":\"1029\"},\"width\":500,\"x_range\":{\"id\":\"1006\"},\"x_scale\":{\"id\":\"1010\"},\"y_range\":{\"id\":\"1008\"},\"y_scale\":{\"id\":\"1012\"}},\"id\":\"1003\",\"subtype\":\"Figure\",\"type\":\"Plot\"},{\"attributes\":{\"axis\":{\"id\":\"1018\"},\"coordinates\":null,\"dimension\":1,\"group\":null,\"ticker\":null},\"id\":\"1021\",\"type\":\"Grid\"},{\"attributes\":{},\"id\":\"1015\",\"type\":\"BasicTicker\"},{\"attributes\":{},\"id\":\"1012\",\"type\":\"LinearScale\"},{\"attributes\":{},\"id\":\"1019\",\"type\":\"BasicTicker\"},{\"attributes\":{\"coordinates\":null,\"group\":null,\"text\":\"Plot showing t-SNE Clustering of 3 LSA\"},\"id\":\"1004\",\"type\":\"Title\"},{\"attributes\":{\"overlay\":{\"id\":\"1028\"}},\"id\":\"1024\",\"type\":\"BoxZoomTool\"},{\"attributes\":{},\"id\":\"1052\",\"type\":\"UnionRenderers\"},{\"attributes\":{},\"id\":\"1010\",\"type\":\"LinearScale\"},{\"attributes\":{\"fill_color\":{\"field\":\"fill_color\"},\"hatch_color\":{\"field\":\"hatch_color\"},\"line_color\":{\"field\":\"line_color\"},\"x\":{\"field\":\"x\"},\"y\":{\"field\":\"y\"}},\"id\":\"1037\",\"type\":\"Scatter\"},{\"attributes\":{},\"id\":\"1027\",\"type\":\"HelpTool\"},{\"attributes\":{},\"id\":\"1026\",\"type\":\"ResetTool\"},{\"attributes\":{},\"id\":\"1006\",\"type\":\"DataRange1d\"},{\"attributes\":{\"fill_alpha\":{\"value\":0.2},\"fill_color\":{\"field\":\"fill_color\"},\"hatch_alpha\":{\"value\":0.2},\"hatch_color\":{\"field\":\"hatch_color\"},\"line_alpha\":{\"value\":0.2},\"line_color\":{\"field\":\"line_color\"},\"x\":{\"field\":\"x\"},\"y\":{\"field\":\"y\"}},\"id\":\"1039\",\"type\":\"Scatter\"},{\"attributes\":{},\"id\":\"1008\",\"type\":\"DataRange1d\"},{\"attributes\":{},\"id\":\"1048\",\"type\":\"AllLabels\"},{\"attributes\":{},\"id\":\"1023\",\"type\":\"WheelZoomTool\"},{\"attributes\":{},\"id\":\"1022\",\"type\":\"PanTool\"},{\"attributes\":{\"data\":{\"fill_color\":[\"#aec7e8\",\"#ff9896\",\"#aec7e8\",\"#aec7e8\",\"#aec7e8\",\"#ff9896\",\"#9467bd\",\"#9467bd\",\"#aec7e8\",\"#ff9896\",\"#9467bd\",\"#9467bd\",\"#ff9896\",\"#9467bd\",\"#aec7e8\",\"#aec7e8\",\"#aec7e8\",\"#9467bd\",\"#aec7e8\",\"#aec7e8\",\"#ff9896\",\"#ff9896\",\"#aec7e8\",\"#ff9896\",\"#ff9896\",\"#ff9896\",\"#9467bd\",\"#aec7e8\",\"#aec7e8\",\"#aec7e8\",\"#aec7e8\",\"#ff9896\",\"#9467bd\",\"#ff9896\",\"#9467bd\",\"#ff9896\",\"#9467bd\",\"#ff9896\",\"#9467bd\",\"#ff9896\",\"#9467bd\",\"#ff9896\",\"#ff9896\",\"#ff9896\",\"#9467bd\",\"#9467bd\",\"#aec7e8\",\"#9467bd\",\"#ff9896\",\"#aec7e8\",\"#aec7e8\",\"#9467bd\",\"#aec7e8\",\"#9467bd\",\"#aec7e8\",\"#aec7e8\",\"#ff9896\",\"#aec7e8\",\"#ff9896\",\"#aec7e8\",\"#aec7e8\",\"#aec7e8\",\"#aec7e8\",\"#9467bd\",\"#ff9896\",\"#9467bd\",\"#ff9896\",\"#aec7e8\",\"#9467bd\",\"#aec7e8\",\"#ff9896\",\"#9467bd\",\"#aec7e8\",\"#aec7e8\",\"#9467bd\",\"#ff9896\",\"#9467bd\",\"#aec7e8\",\"#9467bd\",\"#ff9896\",\"#9467bd\",\"#aec7e8\",\"#ff9896\",\"#9467bd\",\"#9467bd\",\"#aec7e8\",\"#aec7e8\",\"#aec7e8\",\"#ff9896\",\"#9467bd\",\"#ff9896\",\"#aec7e8\",\"#9467bd\",\"#ff9896\",\"#aec7e8\",\"#ff9896\",\"#aec7e8\",\"#ff9896\",\"#ff9896\",\"#aec7e8\"],\"hatch_color\":[\"#aec7e8\",\"#ff9896\",\"#aec7e8\",\"#aec7e8\",\"#aec7e8\",\"#ff9896\",\"#9467bd\",\"#9467bd\",\"#aec7e8\",\"#ff9896\",\"#9467bd\",\"#9467bd\",\"#ff9896\",\"#9467bd\",\"#aec7e8\",\"#aec7e8\",\"#aec7e8\",\"#9467bd\",\"#aec7e8\",\"#aec7e8\",\"#ff9896\",\"#ff9896\",\"#aec7e8\",\"#ff9896\",\"#ff9896\",\"#ff9896\",\"#9467bd\",\"#aec7e8\",\"#aec7e8\",\"#aec7e8\",\"#aec7e8\",\"#ff9896\",\"#9467bd\",\"#ff9896\",\"#9467bd\",\"#ff9896\",\"#9467bd\",\"#ff9896\",\"#9467bd\",\"#ff9896\",\"#9467bd\",\"#ff9896\",\"#ff9896\",\"#ff9896\",\"#9467bd\",\"#9467bd\",\"#aec7e8\",\"#9467bd\",\"#ff9896\",\"#aec7e8\",\"#aec7e8\",\"#9467bd\",\"#aec7e8\",\"#9467bd\",\"#aec7e8\",\"#aec7e8\",\"#ff9896\",\"#aec7e8\",\"#ff9896\",\"#aec7e8\",\"#aec7e8\",\"#aec7e8\",\"#aec7e8\",\"#9467bd\",\"#ff9896\",\"#9467bd\",\"#ff9896\",\"#aec7e8\",\"#9467bd\",\"#aec7e8\",\"#ff9896\",\"#9467bd\",\"#aec7e8\",\"#aec7e8\",\"#9467bd\",\"#ff9896\",\"#9467bd\",\"#aec7e8\",\"#9467bd\",\"#ff9896\",\"#9467bd\",\"#aec7e8\",\"#ff9896\",\"#9467bd\",\"#9467bd\",\"#aec7e8\",\"#aec7e8\",\"#aec7e8\",\"#ff9896\",\"#9467bd\",\"#ff9896\",\"#aec7e8\",\"#9467bd\",\"#ff9896\",\"#aec7e8\",\"#ff9896\",\"#aec7e8\",\"#ff9896\",\"#ff9896\",\"#aec7e8\"],\"line_color\":[\"#aec7e8\",\"#ff9896\",\"#aec7e8\",\"#aec7e8\",\"#aec7e8\",\"#ff9896\",\"#9467bd\",\"#9467bd\",\"#aec7e8\",\"#ff9896\",\"#9467bd\",\"#9467bd\",\"#ff9896\",\"#9467bd\",\"#aec7e8\",\"#aec7e8\",\"#aec7e8\",\"#9467bd\",\"#aec7e8\",\"#aec7e8\",\"#ff9896\",\"#ff9896\",\"#aec7e8\",\"#ff9896\",\"#ff9896\",\"#ff9896\",\"#9467bd\",\"#aec7e8\",\"#aec7e8\",\"#aec7e8\",\"#aec7e8\",\"#ff9896\",\"#9467bd\",\"#ff9896\",\"#9467bd\",\"#ff9896\",\"#9467bd\",\"#ff9896\",\"#9467bd\",\"#ff9896\",\"#9467bd\",\"#ff9896\",\"#ff9896\",\"#ff9896\",\"#9467bd\",\"#9467bd\",\"#aec7e8\",\"#9467bd\",\"#ff9896\",\"#aec7e8\",\"#aec7e8\",\"#9467bd\",\"#aec7e8\",\"#9467bd\",\"#aec7e8\",\"#aec7e8\",\"#ff9896\",\"#aec7e8\",\"#ff9896\",\"#aec7e8\",\"#aec7e8\",\"#aec7e8\",\"#aec7e8\",\"#9467bd\",\"#ff9896\",\"#9467bd\",\"#ff9896\",\"#aec7e8\",\"#9467bd\",\"#aec7e8\",\"#ff9896\",\"#9467bd\",\"#aec7e8\",\"#aec7e8\",\"#9467bd\",\"#ff9896\",\"#9467bd\",\"#aec7e8\",\"#9467bd\",\"#ff9896\",\"#9467bd\",\"#aec7e8\",\"#ff9896\",\"#9467bd\",\"#9467bd\",\"#aec7e8\",\"#aec7e8\",\"#aec7e8\",\"#ff9896\",\"#9467bd\",\"#ff9896\",\"#aec7e8\",\"#9467bd\",\"#ff9896\",\"#aec7e8\",\"#ff9896\",\"#aec7e8\",\"#ff9896\",\"#ff9896\",\"#aec7e8\"],\"x\":{\"__ndarray__\":\"2ZjfwIbqr0B4UWXAhu3dwJZPUsAYeG6+JsFovVi1t75szsBAjJ1nvgw/rL6viqc+4C6jQEIs6L4QAVPA3pjfwGbOwECfAVC/hYxrwLZUecAUeG6+OFm2QMCfdcAeeG6+xfK1QBp4br5YoI6/z/DdwC/MwECBtVfAbMzAQBx4br42R4a/MTe6QJS0O7+NXqpAoRniPu9DrUBUGlo+ZPRjvcbP374aeG6+K3huvrzV8z5HZ4+/jflHv73v3cDP8l+/1fenQGzOwEDYz1TAubbzvsy0WcDInJm+vj5wwN2Y38BMRoG+L8zAQPdps0DemN/A5+3dwN6Y38DemN/AVfyIv4nsq0CUtIY++FufQN2Y38Buoq8+3szAQDXDukATpEI+3pjfwCfu3cCb9oC+Gnhuvu0ajr926GDAd3mYv/hRn0A0rmu/X/5qwFc0kD7yVpq+LiVWv2zOwEDY7d3ASQFswBv8nECXeLg+RsucQGzOwEA5quM9Q98IPt6Y38CCRv0+ac7AQBt4br5hG6tA3pjfwA==\",\"dtype\":\"float32\",\"order\":\"little\",\"shape\":[100]},\"y\":{\"__ndarray__\":\"MZt/QLAzKUDxGA7AgvyXwBrUEsDG+wZBdugPwBWoEMAEWinA7+9/wPTEEcDSAQ7AQrQjQN6DEcAMdfy/+51/QAVaKcCtT7o/cn0hwJJPAsCZ+wZB+rHwPxlyAcDF+wZB/g0WQMb7BkHk54M/Jf6XwAFaKcATlgnAAVopwMb7BkGFVH4/GQsYQM6ikD+NceM/8e8LwANgzD9clw7AgPF/wEzcEMDG+wZBmfsGQR0Ke8A4J7A/4+eXPzUAmMD3E5M/fvfePwNaKcActRjAPwfBv9w667/YuLy/4sQawPOdf0DHUoDAAVopwDgsBED6nX9Au/6XwPqdf0D6nX9ARF6OP255GUAu/bi/p58eQPadf0AgGLW/AVopwJO58z84Xru/+Z1/QEn/l8BZGrq/xvsGQeHstT+2rwjAl/SqP1FWAkCTRas/54/vv8xufsBmDr2/zkKtPwRaKcAy/ZfAka8PwO3gBUBj+w3Ar7DxPwVaKcBptA7A0699wPmdf0B8rH3AA1opwMb7BkHJ/RZA+Z1/QA==\",\"dtype\":\"float32\",\"order\":\"little\",\"shape\":[100]}},\"selected\":{\"id\":\"1053\"},\"selection_policy\":{\"id\":\"1052\"}},\"id\":\"1036\",\"type\":\"ColumnDataSource\"},{\"attributes\":{},\"id\":\"1051\",\"type\":\"AllLabels\"},{\"attributes\":{},\"id\":\"1050\",\"type\":\"BasicTickFormatter\"},{\"attributes\":{},\"id\":\"1053\",\"type\":\"Selection\"},{\"attributes\":{\"coordinates\":null,\"data_source\":{\"id\":\"1036\"},\"glyph\":{\"id\":\"1037\"},\"group\":null,\"hover_glyph\":null,\"muted_glyph\":{\"id\":\"1039\"},\"nonselection_glyph\":{\"id\":\"1038\"},\"view\":{\"id\":\"1041\"}},\"id\":\"1040\",\"type\":\"GlyphRenderer\"},{\"attributes\":{},\"id\":\"1025\",\"type\":\"SaveTool\"},{\"attributes\":{},\"id\":\"1047\",\"type\":\"BasicTickFormatter\"},{\"attributes\":{\"coordinates\":null,\"group\":null,\"text\":\"pacific new england\",\"text_color\":\"#9467bd\",\"x\":-0.42539986968040466,\"y\":-0.6124159693717957},\"id\":\"1044\",\"type\":\"Label\"},{\"attributes\":{\"fill_alpha\":{\"value\":0.1},\"fill_color\":{\"field\":\"fill_color\"},\"hatch_alpha\":{\"value\":0.1},\"hatch_color\":{\"field\":\"hatch_color\"},\"line_alpha\":{\"value\":0.1},\"line_color\":{\"field\":\"line_color\"},\"x\":{\"field\":\"x\"},\"y\":{\"field\":\"y\"}},\"id\":\"1038\",\"type\":\"Scatter\"},{\"attributes\":{\"source\":{\"id\":\"1036\"}},\"id\":\"1041\",\"type\":\"CDSView\"},{\"attributes\":{\"tools\":[{\"id\":\"1022\"},{\"id\":\"1023\"},{\"id\":\"1024\"},{\"id\":\"1025\"},{\"id\":\"1026\"},{\"id\":\"1027\"}]},\"id\":\"1029\",\"type\":\"Toolbar\"},{\"attributes\":{\"coordinates\":null,\"formatter\":{\"id\":\"1050\"},\"group\":null,\"major_label_policy\":{\"id\":\"1051\"},\"ticker\":{\"id\":\"1015\"}},\"id\":\"1014\",\"type\":\"LinearAxis\"},{\"attributes\":{\"coordinates\":null,\"group\":null,\"text\":\"central north west\",\"text_color\":\"#aec7e8\",\"x\":-2.5010344982147217,\"y\":-1.1059733629226685},\"id\":\"1042\",\"type\":\"Label\"},{\"attributes\":{\"coordinates\":null,\"group\":null,\"text\":\"atlantic south middle\",\"text_color\":\"#ff9896\",\"x\":2.6397182941436768,\"y\":2.5698091983795166},\"id\":\"1043\",\"type\":\"Label\"},{\"attributes\":{\"bottom_units\":\"screen\",\"coordinates\":null,\"fill_alpha\":0.5,\"fill_color\":\"lightgrey\",\"group\":null,\"left_units\":\"screen\",\"level\":\"overlay\",\"line_alpha\":1.0,\"line_color\":\"black\",\"line_dash\":[4,4],\"line_width\":2,\"right_units\":\"screen\",\"syncable\":false,\"top_units\":\"screen\"},\"id\":\"1028\",\"type\":\"BoxAnnotation\"},{\"attributes\":{\"coordinates\":null,\"formatter\":{\"id\":\"1047\"},\"group\":null,\"major_label_policy\":{\"id\":\"1048\"},\"ticker\":{\"id\":\"1019\"}},\"id\":\"1018\",\"type\":\"LinearAxis\"},{\"attributes\":{\"axis\":{\"id\":\"1014\"},\"coordinates\":null,\"group\":null,\"ticker\":null},\"id\":\"1017\",\"type\":\"Grid\"}],\"root_ids\":[\"1003\"]},\"title\":\"Bokeh Application\",\"version\":\"2.4.3\"}};\n  const render_items = [{\"docid\":\"9d3ad22c-93d3-42b0-ae1d-0ce4e8f9317f\",\"root_ids\":[\"1003\"],\"roots\":{\"1003\":\"5ec5d5b5-9a79-412d-8e69-662eff1eeaf2\"}}];\n  root.Bokeh.embed.embed_items_notebook(docs_json, render_items);\n  }\n  if (root.Bokeh !== undefined) {\n    embed_document(root);\n  } else {\n    let attempts = 0;\n    const timer = setInterval(function(root) {\n      if (root.Bokeh !== undefined) {\n        clearInterval(timer);\n        embed_document(root);\n      } else {\n        attempts++;\n        if (attempts > 100) {\n          clearInterval(timer);\n          console.log(\"Bokeh: ERROR: Unable to run BokehJS code because BokehJS library is missing\");\n        }\n      }\n    }, 10, root)\n  }\n})(window);",
      "application/vnd.bokehjs_exec.v0+json": ""
     },
     "metadata": {
      "application/vnd.bokehjs_exec.v0+json": {
       "id": "1003"
      }
     },
     "output_type": "display_data"
    }
   ],
   "source": [
    "top_3_words_lsa = get_top_n_words(3, lsa_keys, small_document_term_matrix, small_count_vectorizer)\n",
    "lsa_mean_topic_vectors = get_mean_topic_vectors(lsa_keys, tsne_lsa_vectors)\n",
    "\n",
    "plot = figure(title=\"Plot showing t-SNE Clustering of {} LSA\".format(n_topics), plot_width=500, plot_height=400)\n",
    "plot.scatter(x=tsne_lsa_vectors[:,0], y=tsne_lsa_vectors[:,1], color=colormap[lsa_keys])\n",
    "\n",
    "for t in range(n_topics):\n",
    "    label = Label(x=lsa_mean_topic_vectors[t][0], y=lsa_mean_topic_vectors[t][1], \n",
    "                  text=top_3_words_lsa[t], text_color=colormap[t])\n",
    "    plot.add_layout(label)   \n",
    "\n",
    "show(plot)"
   ]
  },
  {
   "cell_type": "markdown",
   "metadata": {},
   "source": [
    "- This interactive plot may not be visible in the html format as i could not find any extension of Bokeh package that calls this interective plot on html format. However this plot will be visible in .ipynb file and it is interactive so user can play around (like zoom in/out, move the plot to see clusters etc) with it. \n",
    "- This plot was made using bokeh package and it categorizes all the location into three major topics that LSA model predicted. \n",
    "- This is an interactive plot and we can zoom in an out to see the distance between data points and the clusters on the whole. \n",
    "- We can also see that various data points between atlanctic pacific south and new england mountain topics are overlapping this shows that this data is not sufficient enough to model these data points to topic and thus they are overlapping. \n",
    "- Different color code has been used to distinguish the clusters from one another. "
   ]
  },
  {
   "cell_type": "markdown",
   "metadata": {},
   "source": [
    "## LDA\n",
    "- LDA stands for Latent Dirichlet Allocations. LDA is a type of topic modelling algorithm that classifies all the text in a documents to certain topics. It builds a topic per document model, then from there it builds words per topic model. This processes of modelling is also referred to as Dirichlet distribution. \n",
    "- Dirichlet distribution is named after Peter Gustav Lejeune Dirichlet who was a German mathematician and is known for his contribution to number theory, theory of Fourier series and other topics in mathematical analysis. He was the first mathematician to give a formal definition to the term functions. \n",
    "- The Dirichlet distribution of order K ≥ 2 with parameters α1, ..., αK > 0 has a probability density function  RK-1  on the Euclidian space. It is a family of continuous multivariate probability distribution parameterized by a vector of positive reals. It is also known as multivariate beta distribution. \n",
    "- In natural language processing LDA is a generative statistical model that allows a set of observations to be explained by an unobserved set of groups. It discovers topic in an collection of documents and then it classifies these documents in terms of how relevant they are to the discovered topics. \n",
    "- A topic is considered to be a set of words that when taken together identifies a common theme in between them. \n"
   ]
  },
  {
   "cell_type": "code",
   "execution_count": 32,
   "metadata": {},
   "outputs": [],
   "source": [
    "df=pd.read_csv('star_people',encoding='latin-1', na_values='-')"
   ]
  },
  {
   "cell_type": "markdown",
   "metadata": {},
   "source": [
    "Nltk,spacy,genism,pyLDAvis are some of the special package that will be used for this topic modelling using LDA. "
   ]
  },
  {
   "cell_type": "code",
   "execution_count": 33,
   "metadata": {},
   "outputs": [],
   "source": [
    "import re, nltk, spacy, gensim\n",
    "import warnings\n",
    "warnings.filterwarnings(\"ignore\")\n",
    "#Sklearn\n",
    "from sklearn.decomposition import LatentDirichletAllocation, TruncatedSVD\n",
    "from sklearn.feature_extraction.text import CountVectorizer, TfidfVectorizer\n",
    "from sklearn.model_selection import GridSearchCV\n",
    "from pprint import pprint\n",
    "# Plotting tools\n",
    "import pyLDAvis\n",
    "import pyLDAvis.sklearn\n",
    "import matplotlib.pyplot as plt\n",
    "%matplotlib inline"
   ]
  },
  {
   "cell_type": "markdown",
   "metadata": {},
   "source": [
    "## Data cleaning\n",
    "For the data cleaning part, data is first put into a list. After that all the special sign like @, $ etc are removed from the document. Also all the line characters such as commas, double quotes and single quotes are also removed from this dataset. "
   ]
  },
  {
   "cell_type": "code",
   "execution_count": 34,
   "metadata": {},
   "outputs": [
    {
     "name": "stdout",
     "output_type": "stream",
     "text": [
      "['WEST NORTH CENTRAL']\n"
     ]
    }
   ],
   "source": [
    "# Convert to list\n",
    "data = df.Location.values.tolist()\n",
    "# Remove Emails\n",
    "data = [re.sub(r'\\S*@\\S*\\s?', '', sent) for sent in data]\n",
    "# Remove new line characters\n",
    "data = [re.sub(r'\\s+', ' ', sent) for sent in data]\n",
    "# Remove distracting single quotes\n",
    "data = [re.sub(r\"\\'\", \"\", sent) for sent in data]\n",
    "pprint(data[:1])"
   ]
  },
  {
   "cell_type": "markdown",
   "metadata": {},
   "source": [
    "## Tokenize\n",
    "- Tokenize is a process of breaking down each sentence into a list of words and removing punctuations and other unnecessary characters altogether.\n",
    "- Tokenization also refers to the act of breaking up a sequence of longer strings into pieces such as words, keywords, phrases, symbols and other various other elements called tokens. \n",
    "- Tokens can also be individual words, phrases or even whole sentences. This depends on the topic containing the meaningful number of words per sentence. If most of the word present in the topics are proper noun or pronouns then it will have bigger tokens as compared to a sentence that have much verb and adverbs in it. In the process of tokenization, some characters like punctuation marks are discarded.\n"
   ]
  },
  {
   "cell_type": "code",
   "execution_count": 35,
   "metadata": {},
   "outputs": [
    {
     "name": "stdout",
     "output_type": "stream",
     "text": [
      "[['west', 'north', 'central']]\n"
     ]
    }
   ],
   "source": [
    "def sent_to_words(sentences):\n",
    "    for sentence in sentences:\n",
    "        yield(gensim.utils.simple_preprocess(str(sentence), deacc=True)) \n",
    "data_words = list(sent_to_words(data))\n",
    "print(data_words[:1])"
   ]
  },
  {
   "cell_type": "markdown",
   "metadata": {},
   "source": [
    "## Stemming and Lemmatization\n",
    "- Stemming is the process of reducing a word to its word stem. Word stem refers to the basic essence of any word without and suffix and prefix. This stem is then joined with suffixes and prefixes to form the roots of words known as a lemma.\n",
    "- A lemmatizer function is then used which lemmatizes these form to s singular form. This reduces the sparsity that is present in the corpus. For example if a word is “running” the lemmatization will return only run from this word. It is a advanced form of morphological analysis of words. \n",
    "- The advantage of this is, we get to reduce the total number of unique words in the dictionary.\n",
    "- As a result, the number of columns in the document-word matrix that is created by CountVectorizer in the next step, will be much denser with lesser columns."
   ]
  },
  {
   "cell_type": "code",
   "execution_count": 36,
   "metadata": {},
   "outputs": [],
   "source": [
    "def lemmatization(texts, allowed_postags=['NOUN', 'ADJ', 'VERB', 'ADV']):\n",
    "    texts_out = []\n",
    "    for sent in texts:\n",
    "        doc = nlp(\" \".join(sent)) \n",
    "        texts_out.append(\" \".join([token.lemma_ if token.lemma_ not in ['-PRON-'] else '' for token in doc if token.pos_ in allowed_postags]))\n",
    "    return texts_out"
   ]
  },
  {
   "cell_type": "markdown",
   "metadata": {},
   "source": [
    "## Spacy Model\n",
    "- Spacy en_core_web_sm model is used in this section. This model defines the language, type, genre and size of the model.\n",
    "- In en_core_web_sm model en stands for English language. Core refers to the type that is Vocabulary, syntax and entities. Web refers to the genre of document which is written text in form of language and descriptions. Finally sm signifies the size of the model which is almost 12mb. \n",
    "- pip install spacy command is run on terminal to install this model to the environment. \n",
    "- spacy has a support to almost more than a 100 different language, thus this model is very powerful in detecting different presentation of words in the document even if the document consist of multiple language. "
   ]
  },
  {
   "cell_type": "code",
   "execution_count": 37,
   "metadata": {},
   "outputs": [
    {
     "name": "stdout",
     "output_type": "stream",
     "text": [
      "['', '']\n"
     ]
    }
   ],
   "source": [
    "# Initializing spacy ‘en_core_web_sm’ model.\n",
    "import warnings\n",
    "warnings.filterwarnings(\"ignore\")\n",
    "nlp = spacy.load(\"en_core_web_sm\", disable=[\"parser\", \"ner\"])\n",
    "data_lemmatized = lemmatization(data_words, allowed_postags=[\"NOUN\", \"VERB\"])\n",
    "print(data_lemmatized[:2])"
   ]
  },
  {
   "cell_type": "markdown",
   "metadata": {},
   "source": [
    "## Document-Word matrix\n",
    "- Creating a document term matrix is a way of initializing wordcount in the document. There are basically three major types of count in this matrix. these matrix are as follows:-\n",
    "    - Topic term matrix in which each unique word is assigned to different topics for each instance of the word. \n",
    "    - Document topic matrix in which it shows the total number of words assigned to each topics in each document.\n",
    "    - Topic sum vector keeps the count of total number of words in the entire corpus. This is basically a column sum of document topic matrix. \n",
    "- The LDA topic model algorithm requires a document word matrix as the main input.\n",
    "- Configured the CountVectorizer to consider words that has occurred at least 10 times.\n",
    "- convert all words to lowercase.\n",
    "- A word can contain numbers and alphabets of at least length 3 in order to be qualified as a word.\n"
   ]
  },
  {
   "cell_type": "code",
   "execution_count": 38,
   "metadata": {},
   "outputs": [],
   "source": [
    "vectorizer = CountVectorizer(analyzer='word',       \n",
    "                             min_df=10,\n",
    "                             stop_words='english',             \n",
    "                             lowercase=True,                   \n",
    "                             token_pattern='[a-zA-Z0-9]{3,}',  \n",
    "                             # max_features=500,               \n",
    ")\n",
    "data_vectorized = vectorizer.fit_transform(data_lemmatized)"
   ]
  },
  {
   "cell_type": "markdown",
   "metadata": {},
   "source": [
    "## Model Deployment-LDA\n",
    "- I have set the n_topics as 8 as I think there must be atleast 8 different topics in the dataset, this can also be changed accordingly based on any other new insight."
   ]
  },
  {
   "cell_type": "code",
   "execution_count": 39,
   "metadata": {},
   "outputs": [
    {
     "name": "stdout",
     "output_type": "stream",
     "text": [
      "LatentDirichletAllocation(learning_method='online', n_components=8, n_jobs=-1,\n",
      "                          random_state=100)\n"
     ]
    }
   ],
   "source": [
    "# LDA Model\n",
    "lda_model = LatentDirichletAllocation(n_components=8,   \n",
    "                                      max_iter=10,               \n",
    "                                      learning_method='online',   \n",
    "                                      random_state=100,          \n",
    "                                      batch_size=128,            \n",
    "                                      evaluate_every = -1,       \n",
    "                                      n_jobs = -1,)\n",
    "lda_output = lda_model.fit_transform(data_vectorized)\n",
    "print(lda_model)"
   ]
  },
  {
   "cell_type": "markdown",
   "metadata": {},
   "source": [
    "## Model Performance\n",
    "- For diagnosis of model performance perplexity and log-likelihood is used.\n",
    "- Perplexity is defined as, Perplexity = exp(-1. * log-likelihood per word).\n",
    "- A model with higher log-likelihood and lower perplexity (exp(-1. * log-likelihood per word)) is considered to be good.\n",
    "- To classify a document as belonging to a particular topic, a logical approach is to see which topic has the highest contribution to that document and assign it.\n",
    "- For our LDA model the log likelihood is -63.1 and perplexity is 8.8. This shows that the model performed well but there are a huge scope of improvement. Due to the limitations present in the dataset this result was much expected. There were no larger sentences or words in the dataset for this model to learn from. LDA performs poorly on short words and topics but as we keep on increasing the words and descriptions in the documents the performance of this model will increase. "
   ]
  },
  {
   "cell_type": "code",
   "execution_count": 40,
   "metadata": {},
   "outputs": [
    {
     "name": "stdout",
     "output_type": "stream",
     "text": [
      "Log Likelihood:  -63.10298139704172\n",
      "Perplexity:  8.81068223591787\n",
      "{'batch_size': 128,\n",
      " 'doc_topic_prior': None,\n",
      " 'evaluate_every': -1,\n",
      " 'learning_decay': 0.7,\n",
      " 'learning_method': 'online',\n",
      " 'learning_offset': 10.0,\n",
      " 'max_doc_update_iter': 100,\n",
      " 'max_iter': 10,\n",
      " 'mean_change_tol': 0.001,\n",
      " 'n_components': 8,\n",
      " 'n_jobs': -1,\n",
      " 'perp_tol': 0.1,\n",
      " 'random_state': 100,\n",
      " 'topic_word_prior': None,\n",
      " 'total_samples': 1000000.0,\n",
      " 'verbose': 0}\n"
     ]
    }
   ],
   "source": [
    "print(\"Log Likelihood: \", lda_model.score(data_vectorized))\n",
    "print(\"Perplexity: \", lda_model.perplexity(data_vectorized))\n",
    "pprint(lda_model.get_params())"
   ]
  },
  {
   "cell_type": "markdown",
   "metadata": {},
   "source": [
    "## K-mean clusters.\n",
    "- Cluster documents that share similar topics and plot\n",
    "- Using k-means clustering on the document-topic probability matrix.\n",
    "- I’ve set n_clusters=15 in KMeans().This means that will look up 15 nearest topic cluster for each word in the corpus.\n",
    "- For X and Y, SVD (fast approximate singular value decomposition) on the lda_output object with n_components is used.\n",
    "- SVD ensures that these two columns captures the maximum possible amount of information from lda_output in the first 2 components."
   ]
  },
  {
   "cell_type": "code",
   "execution_count": 41,
   "metadata": {},
   "outputs": [
    {
     "name": "stdout",
     "output_type": "stream",
     "text": [
      "Weight of components: \n",
      " [[ 0.41  0.31  0.31  0.31  0.5   0.31  0.31  0.31]\n",
      " [-0.5  -0.11 -0.11 -0.11  0.82 -0.11 -0.11 -0.11]]\n",
      "Variance : \n",
      " [0.02 0.65]\n"
     ]
    }
   ],
   "source": [
    "# k mean cluster\n",
    "from sklearn.cluster import KMeans\n",
    "clusters = KMeans(n_clusters=15, random_state=100).fit_predict(lda_output)\n",
    "svd_model = TruncatedSVD(n_components=2)  \n",
    "lda_output_svd = svd_model.fit_transform(lda_output)\n",
    "x = lda_output_svd[:, 0]\n",
    "y = lda_output_svd[:, 1]\n",
    "print(\"Weight of components: \\n\", np.round(svd_model.components_, 2))\n",
    "print(\"Variance : \\n\", np.round(svd_model.explained_variance_ratio_, 2))"
   ]
  },
  {
   "cell_type": "markdown",
   "metadata": {},
   "source": [
    "## LDA model- Cluster plotting\n",
    "- We have the X, Y and the cluster number for each document.\n",
    "- We will plot the document along the two SVD decomposed components.\n",
    "- The color of points represents the cluster number (in this case) or topic number.\n",
    "- Using Eucledian distance to get most similar topics.\n",
    "- The most similar documents are the ones with the smallest distance."
   ]
  },
  {
   "cell_type": "code",
   "execution_count": 42,
   "metadata": {},
   "outputs": [
    {
     "data": {
      "text/plain": [
       "Text(0.5, 1.0, 'Cluster of Topic')"
      ]
     },
     "execution_count": 42,
     "metadata": {},
     "output_type": "execute_result"
    },
    {
     "data": {
      "image/png": "[encoded data removed]",
      "text/plain": [
       "<Figure size 360x288 with 1 Axes>"
      ]
     },
     "metadata": {
      "needs_background": "light"
     },
     "output_type": "display_data"
    }
   ],
   "source": [
    "# Plot\n",
    "plt.figure(figsize=(5, 4))\n",
    "plt.scatter(x, y, c=clusters)\n",
    "plt.xlabel('Topic weight')\n",
    "plt.title(\"Cluster of Topic\", )"
   ]
  },
  {
   "cell_type": "markdown",
   "metadata": {},
   "source": [
    "## Recurrent Neural Network [RNN]\n",
    "- RNN or recurrent neural networks and it is a class of neural network where connections are made in between the nodes from a temporal sequence. This allows the network to exhibit some temporal behavior while running and it can use its internal states to process variable length of sequence.\n",
    "- The term recurrent neural network means that it has infinite impulse response. Having a infinite impulse response is a property that applies to a liner time invariant system that can have an impulse response h(t) and it does not touches 0 after a certain point but continues to run infinitely.\n",
    "- The major difference between recurrent neural network and convolutional neural network is that recurrent neural network has infinite impulse response while convolutional neural network has finite impulse response. This means that in convolutional neural network the impulse response h(t) touches 0 after a certain point.  \n"
   ]
  },
  {
   "cell_type": "code",
   "execution_count": 43,
   "metadata": {},
   "outputs": [],
   "source": [
    "\n",
    "import numpy as np\n",
    "import pandas as pd \n",
    "import seaborn as sns \n",
    "import matplotlib.pyplot as plt\n",
    "import warnings\n",
    "warnings.filterwarnings('ignore')\n",
    "%matplotlib inline\n",
    "from subprocess import check_output"
   ]
  },
  {
   "cell_type": "markdown",
   "metadata": {},
   "source": [
    "Renaming various columns as the original dataset has names that contains white spaces and are difficult to call everytime."
   ]
  },
  {
   "cell_type": "code",
   "execution_count": 44,
   "metadata": {},
   "outputs": [],
   "source": [
    "starwar = pd.read_csv('Phase_2_Prashant_S3790132.csv',encoding='latin-1' )\n",
    "starwar.rename(columns={'Which of the following Star Wars films have you seen? Please select all that apply.' : 'W1',# watched star wars:episode 1 the phantom menace\n",
    "                        'Unnamed: 4' : 'W2',#watched star wars:episode 2 attack of the clones\n",
    "                        'Unnamed: 5' : 'W3',#watched star wars:episode 3 revenge of the sith\n",
    "                        'Unnamed: 6' : 'W4',#watched star wars:episode 4 a new hope\n",
    "                        'Unnamed: 7' : 'W5',#watched star wars:episode 5 the empire strikes back\n",
    "                        'Unnamed: 8' : 'W6',#watched star wars: 6 return of the jedi\n",
    "                        'Please rank the Star Wars films in order of preference with 1 being your favorite film in the franchise and 6 being your least favorite film.' : 'R1', # Ranked star wars:episode 1 the phantom menance\n",
    "                        'Unnamed: 10' : 'R2',#Ranked star wars:episode 2 attack of the clones\n",
    "                        'Unnamed: 11' : 'R3',#Ranked star wars:episode 3 revenge of the sith\n",
    "                        'Unnamed: 12' : 'R4',#Ranked star wars:episode 4 a new hope\n",
    "                        'Unnamed: 13' : 'R5',#Ranked star wars:episode 5 the empire strikes back\n",
    "                        'Unnamed: 14' : 'R6',#Ranked star wars: 6 return of the jedi\n",
    "                        'Please state whether you view the following characters favorably, unfavorably, or are unfamiliar with him/her.' : 'F_Han Solo',#familiarity with the charecter Han solo\n",
    "                        'Unnamed: 16' : 'F_Luke Skywalker',# Familiarity with the charecter Luke skywalker\n",
    "                        'Unnamed: 17' : 'F_Princess Leia Organa',# familiarity with the charecter princess leia                   \n",
    "                        'Unnamed: 18' : 'F_Anakin Skywalker',# familiarity with the charecter Anakin Skywalker \n",
    "                        'Unnamed: 19' : 'F_Obi Wan Kenobi',# familiarity with the charecter Obi Wan Kenobi \n",
    "                        'Unnamed: 20' : 'F_Emperor Palpatine',# familiarity with the charecter Emperor Palpatine \n",
    "                        'Unnamed: 21' : 'F_Darth Vader',# familiarity with the charecter Darth Vader \n",
    "                        'Unnamed: 22' : 'F_Lando Calrissian',# familiarity with the charecter Lando Calrissian \n",
    "                        'Unnamed: 23' : 'F_Boba Fett',# familiarity with the charecter Boba Fett \n",
    "                        'Unnamed: 24' : 'F_C-3P0',# familiarity with the charecter C-3P0 \n",
    "                        'Unnamed: 25' : 'F_R2 D2',# familiarity with the charecter R2 D2 \n",
    "                        'Unnamed: 26' : 'F_Jar Jar Binks',# familiarity with the charecter Jar Jar Binks \n",
    "                        'Unnamed: 27' : 'F_Padme Amidala',# familiarity with the charecter Padme Amidala \n",
    "                        'Unnamed: 28' : 'F_Yoda'},inplace = True)# familiarity with the charecter Yoda "
   ]
  },
  {
   "cell_type": "markdown",
   "metadata": {},
   "source": [
    "Dropping Respondent Id as including ID like column in modelling an RNN is not a good idea. Also dropping the first column as it contained the details of what each column containes, but it is already mentiones in the above nomenclature thus we dont need the first column anymore."
   ]
  },
  {
   "cell_type": "code",
   "execution_count": 45,
   "metadata": {},
   "outputs": [
    {
     "data": {
      "text/html": [
       "<div>\n",
       "<style scoped>\n",
       "    .dataframe tbody tr th:only-of-type {\n",
       "        vertical-align: middle;\n",
       "    }\n",
       "\n",
       "    .dataframe tbody tr th {\n",
       "        vertical-align: top;\n",
       "    }\n",
       "\n",
       "    .dataframe thead th {\n",
       "        text-align: right;\n",
       "    }\n",
       "</style>\n",
       "<table border=\"1\" class=\"dataframe\">\n",
       "  <thead>\n",
       "    <tr style=\"text-align: right;\">\n",
       "      <th></th>\n",
       "      <th>Have you seen any of the 6 films in the Star Wars franchise?</th>\n",
       "      <th>Do you consider yourself to be a fan of the Star Wars film franchise?</th>\n",
       "      <th>W1</th>\n",
       "      <th>W2</th>\n",
       "      <th>W3</th>\n",
       "      <th>W4</th>\n",
       "      <th>W5</th>\n",
       "      <th>W6</th>\n",
       "      <th>R1</th>\n",
       "      <th>R2</th>\n",
       "      <th>R3</th>\n",
       "      <th>R4</th>\n",
       "      <th>R5</th>\n",
       "      <th>R6</th>\n",
       "      <th>F_Han Solo</th>\n",
       "      <th>F_Luke Skywalker</th>\n",
       "      <th>F_Princess Leia Organa</th>\n",
       "      <th>F_Anakin Skywalker</th>\n",
       "      <th>F_Obi Wan Kenobi</th>\n",
       "      <th>F_Emperor Palpatine</th>\n",
       "      <th>F_Darth Vader</th>\n",
       "      <th>F_Lando Calrissian</th>\n",
       "      <th>F_Boba Fett</th>\n",
       "      <th>F_C-3P0</th>\n",
       "      <th>F_R2 D2</th>\n",
       "      <th>F_Jar Jar Binks</th>\n",
       "      <th>F_Padme Amidala</th>\n",
       "      <th>F_Yoda</th>\n",
       "      <th>Which character shot first?</th>\n",
       "      <th>Are you familiar with the Expanded Universe?</th>\n",
       "      <th>Do you consider yourself to be a fan of the Expanded Universe?æ</th>\n",
       "      <th>Do you consider yourself to be a fan of the Star Trek franchise?</th>\n",
       "      <th>Gender</th>\n",
       "      <th>Age</th>\n",
       "      <th>Household Income</th>\n",
       "      <th>Education</th>\n",
       "      <th>Location</th>\n",
       "    </tr>\n",
       "  </thead>\n",
       "  <tbody>\n",
       "    <tr>\n",
       "      <th>1</th>\n",
       "      <td>Yes</td>\n",
       "      <td>Yes</td>\n",
       "      <td>Star Wars: Episode I  The Phantom Menace</td>\n",
       "      <td>Star Wars: Episode II  Attack of the Clones</td>\n",
       "      <td>Star Wars: Episode III  Revenge of the Sith</td>\n",
       "      <td>Star Wars: Episode IV  A New Hope</td>\n",
       "      <td>Star Wars: Episode V The Empire Strikes Back</td>\n",
       "      <td>Star Wars: Episode VI Return of the Jedi</td>\n",
       "      <td>3</td>\n",
       "      <td>2</td>\n",
       "      <td>1</td>\n",
       "      <td>4</td>\n",
       "      <td>5</td>\n",
       "      <td>6</td>\n",
       "      <td>Very favorably</td>\n",
       "      <td>Very favorably</td>\n",
       "      <td>Very favorably</td>\n",
       "      <td>Very favorably</td>\n",
       "      <td>Very favorably</td>\n",
       "      <td>Very favorably</td>\n",
       "      <td>Very favorably</td>\n",
       "      <td>Unfamiliar (N/A)</td>\n",
       "      <td>Unfamiliar (N/A)</td>\n",
       "      <td>Very favorably</td>\n",
       "      <td>Very favorably</td>\n",
       "      <td>Very favorably</td>\n",
       "      <td>Very favorably</td>\n",
       "      <td>Very favorably</td>\n",
       "      <td>I don't understand this question</td>\n",
       "      <td>Yes</td>\n",
       "      <td>No</td>\n",
       "      <td>No</td>\n",
       "      <td>Male</td>\n",
       "      <td>18-29</td>\n",
       "      <td>0</td>\n",
       "      <td>High school degree</td>\n",
       "      <td>South Atlantic</td>\n",
       "    </tr>\n",
       "    <tr>\n",
       "      <th>2</th>\n",
       "      <td>No</td>\n",
       "      <td>0</td>\n",
       "      <td>0</td>\n",
       "      <td>0</td>\n",
       "      <td>0</td>\n",
       "      <td>0</td>\n",
       "      <td>0</td>\n",
       "      <td>0</td>\n",
       "      <td>0</td>\n",
       "      <td>0</td>\n",
       "      <td>0</td>\n",
       "      <td>0</td>\n",
       "      <td>0</td>\n",
       "      <td>0</td>\n",
       "      <td>0</td>\n",
       "      <td>0</td>\n",
       "      <td>0</td>\n",
       "      <td>0</td>\n",
       "      <td>0</td>\n",
       "      <td>0</td>\n",
       "      <td>0</td>\n",
       "      <td>0</td>\n",
       "      <td>0</td>\n",
       "      <td>0</td>\n",
       "      <td>0</td>\n",
       "      <td>0</td>\n",
       "      <td>0</td>\n",
       "      <td>0</td>\n",
       "      <td>0</td>\n",
       "      <td>0</td>\n",
       "      <td>0</td>\n",
       "      <td>Yes</td>\n",
       "      <td>Male</td>\n",
       "      <td>18-29</td>\n",
       "      <td>$0 - $24,999</td>\n",
       "      <td>Bachelor degree</td>\n",
       "      <td>West South Central</td>\n",
       "    </tr>\n",
       "    <tr>\n",
       "      <th>3</th>\n",
       "      <td>Yes</td>\n",
       "      <td>No</td>\n",
       "      <td>Star Wars: Episode I  The Phantom Menace</td>\n",
       "      <td>Star Wars: Episode II  Attack of the Clones</td>\n",
       "      <td>Star Wars: Episode III  Revenge of the Sith</td>\n",
       "      <td>0</td>\n",
       "      <td>0</td>\n",
       "      <td>0</td>\n",
       "      <td>1</td>\n",
       "      <td>2</td>\n",
       "      <td>3</td>\n",
       "      <td>4</td>\n",
       "      <td>5</td>\n",
       "      <td>6</td>\n",
       "      <td>Somewhat favorably</td>\n",
       "      <td>Somewhat favorably</td>\n",
       "      <td>Somewhat favorably</td>\n",
       "      <td>Somewhat favorably</td>\n",
       "      <td>Somewhat favorably</td>\n",
       "      <td>Unfamiliar (N/A)</td>\n",
       "      <td>Unfamiliar (N/A)</td>\n",
       "      <td>Unfamiliar (N/A)</td>\n",
       "      <td>Unfamiliar (N/A)</td>\n",
       "      <td>Unfamiliar (N/A)</td>\n",
       "      <td>Unfamiliar (N/A)</td>\n",
       "      <td>Unfamiliar (N/A)</td>\n",
       "      <td>Unfamiliar (N/A)</td>\n",
       "      <td>Unfamiliar (N/A)</td>\n",
       "      <td>I don't understand this question</td>\n",
       "      <td>No</td>\n",
       "      <td>0</td>\n",
       "      <td>No</td>\n",
       "      <td>Male</td>\n",
       "      <td>18-29</td>\n",
       "      <td>$0 - $24,999</td>\n",
       "      <td>High school degree</td>\n",
       "      <td>West North Central</td>\n",
       "    </tr>\n",
       "    <tr>\n",
       "      <th>4</th>\n",
       "      <td>Yes</td>\n",
       "      <td>Yes</td>\n",
       "      <td>Star Wars: Episode I  The Phantom Menace</td>\n",
       "      <td>Star Wars: Episode II  Attack of the Clones</td>\n",
       "      <td>Star Wars: Episode III  Revenge of the Sith</td>\n",
       "      <td>Star Wars: Episode IV  A New Hope</td>\n",
       "      <td>Star Wars: Episode V The Empire Strikes Back</td>\n",
       "      <td>Star Wars: Episode VI Return of the Jedi</td>\n",
       "      <td>5</td>\n",
       "      <td>6</td>\n",
       "      <td>1</td>\n",
       "      <td>2</td>\n",
       "      <td>4</td>\n",
       "      <td>3</td>\n",
       "      <td>Very favorably</td>\n",
       "      <td>Very favorably</td>\n",
       "      <td>Very favorably</td>\n",
       "      <td>Very favorably</td>\n",
       "      <td>Very favorably</td>\n",
       "      <td>Somewhat favorably</td>\n",
       "      <td>Very favorably</td>\n",
       "      <td>Somewhat favorably</td>\n",
       "      <td>Somewhat unfavorably</td>\n",
       "      <td>Very favorably</td>\n",
       "      <td>Very favorably</td>\n",
       "      <td>Very favorably</td>\n",
       "      <td>Very favorably</td>\n",
       "      <td>Very favorably</td>\n",
       "      <td>I don't understand this question</td>\n",
       "      <td>No</td>\n",
       "      <td>0</td>\n",
       "      <td>Yes</td>\n",
       "      <td>Male</td>\n",
       "      <td>18-29</td>\n",
       "      <td>$100,000 - $149,999</td>\n",
       "      <td>Some college or Associate degree</td>\n",
       "      <td>West North Central</td>\n",
       "    </tr>\n",
       "    <tr>\n",
       "      <th>5</th>\n",
       "      <td>Yes</td>\n",
       "      <td>Yes</td>\n",
       "      <td>Star Wars: Episode I  The Phantom Menace</td>\n",
       "      <td>Star Wars: Episode II  Attack of the Clones</td>\n",
       "      <td>Star Wars: Episode III  Revenge of the Sith</td>\n",
       "      <td>Star Wars: Episode IV  A New Hope</td>\n",
       "      <td>Star Wars: Episode V The Empire Strikes Back</td>\n",
       "      <td>Star Wars: Episode VI Return of the Jedi</td>\n",
       "      <td>5</td>\n",
       "      <td>4</td>\n",
       "      <td>6</td>\n",
       "      <td>2</td>\n",
       "      <td>1</td>\n",
       "      <td>3</td>\n",
       "      <td>Very favorably</td>\n",
       "      <td>Somewhat favorably</td>\n",
       "      <td>Somewhat favorably</td>\n",
       "      <td>Somewhat unfavorably</td>\n",
       "      <td>Very favorably</td>\n",
       "      <td>Very unfavorably</td>\n",
       "      <td>Somewhat favorably</td>\n",
       "      <td>Neither favorably nor unfavorably (neutral)</td>\n",
       "      <td>Very favorably</td>\n",
       "      <td>Somewhat favorably</td>\n",
       "      <td>Somewhat favorably</td>\n",
       "      <td>Very unfavorably</td>\n",
       "      <td>Somewhat favorably</td>\n",
       "      <td>Somewhat favorably</td>\n",
       "      <td>Greedo</td>\n",
       "      <td>Yes</td>\n",
       "      <td>No</td>\n",
       "      <td>No</td>\n",
       "      <td>Male</td>\n",
       "      <td>18-29</td>\n",
       "      <td>$100,000 - $149,999</td>\n",
       "      <td>Some college or Associate degree</td>\n",
       "      <td>West North Central</td>\n",
       "    </tr>\n",
       "    <tr>\n",
       "      <th>...</th>\n",
       "      <td>...</td>\n",
       "      <td>...</td>\n",
       "      <td>...</td>\n",
       "      <td>...</td>\n",
       "      <td>...</td>\n",
       "      <td>...</td>\n",
       "      <td>...</td>\n",
       "      <td>...</td>\n",
       "      <td>...</td>\n",
       "      <td>...</td>\n",
       "      <td>...</td>\n",
       "      <td>...</td>\n",
       "      <td>...</td>\n",
       "      <td>...</td>\n",
       "      <td>...</td>\n",
       "      <td>...</td>\n",
       "      <td>...</td>\n",
       "      <td>...</td>\n",
       "      <td>...</td>\n",
       "      <td>...</td>\n",
       "      <td>...</td>\n",
       "      <td>...</td>\n",
       "      <td>...</td>\n",
       "      <td>...</td>\n",
       "      <td>...</td>\n",
       "      <td>...</td>\n",
       "      <td>...</td>\n",
       "      <td>...</td>\n",
       "      <td>...</td>\n",
       "      <td>...</td>\n",
       "      <td>...</td>\n",
       "      <td>...</td>\n",
       "      <td>...</td>\n",
       "      <td>...</td>\n",
       "      <td>...</td>\n",
       "      <td>...</td>\n",
       "      <td>...</td>\n",
       "    </tr>\n",
       "    <tr>\n",
       "      <th>1182</th>\n",
       "      <td>Yes</td>\n",
       "      <td>Yes</td>\n",
       "      <td>Star Wars: Episode I  The Phantom Menace</td>\n",
       "      <td>Star Wars: Episode II  Attack of the Clones</td>\n",
       "      <td>Star Wars: Episode III  Revenge of the Sith</td>\n",
       "      <td>Star Wars: Episode IV  A New Hope</td>\n",
       "      <td>Star Wars: Episode V The Empire Strikes Back</td>\n",
       "      <td>Star Wars: Episode VI Return of the Jedi</td>\n",
       "      <td>5</td>\n",
       "      <td>4</td>\n",
       "      <td>6</td>\n",
       "      <td>3</td>\n",
       "      <td>2</td>\n",
       "      <td>1</td>\n",
       "      <td>Very favorably</td>\n",
       "      <td>Somewhat favorably</td>\n",
       "      <td>Somewhat favorably</td>\n",
       "      <td>Somewhat favorably</td>\n",
       "      <td>Very favorably</td>\n",
       "      <td>Somewhat favorably</td>\n",
       "      <td>Somewhat favorably</td>\n",
       "      <td>Somewhat favorably</td>\n",
       "      <td>Somewhat favorably</td>\n",
       "      <td>Very favorably</td>\n",
       "      <td>Very favorably</td>\n",
       "      <td>Somewhat favorably</td>\n",
       "      <td>Somewhat favorably</td>\n",
       "      <td>Very favorably</td>\n",
       "      <td>Han</td>\n",
       "      <td>No</td>\n",
       "      <td>0</td>\n",
       "      <td>Yes</td>\n",
       "      <td>Female</td>\n",
       "      <td>18-29</td>\n",
       "      <td>$0 - $24,999</td>\n",
       "      <td>Some college or Associate degree</td>\n",
       "      <td>East North Central</td>\n",
       "    </tr>\n",
       "    <tr>\n",
       "      <th>1183</th>\n",
       "      <td>Yes</td>\n",
       "      <td>Yes</td>\n",
       "      <td>Star Wars: Episode I  The Phantom Menace</td>\n",
       "      <td>Star Wars: Episode II  Attack of the Clones</td>\n",
       "      <td>Star Wars: Episode III  Revenge of the Sith</td>\n",
       "      <td>Star Wars: Episode IV  A New Hope</td>\n",
       "      <td>Star Wars: Episode V The Empire Strikes Back</td>\n",
       "      <td>Star Wars: Episode VI Return of the Jedi</td>\n",
       "      <td>4</td>\n",
       "      <td>5</td>\n",
       "      <td>6</td>\n",
       "      <td>2</td>\n",
       "      <td>3</td>\n",
       "      <td>1</td>\n",
       "      <td>Very favorably</td>\n",
       "      <td>Somewhat favorably</td>\n",
       "      <td>Very favorably</td>\n",
       "      <td>Somewhat unfavorably</td>\n",
       "      <td>Very favorably</td>\n",
       "      <td>Neither favorably nor unfavorably (neutral)</td>\n",
       "      <td>Very unfavorably</td>\n",
       "      <td>Somewhat favorably</td>\n",
       "      <td>Unfamiliar (N/A)</td>\n",
       "      <td>Somewhat favorably</td>\n",
       "      <td>Very favorably</td>\n",
       "      <td>Somewhat unfavorably</td>\n",
       "      <td>Somewhat unfavorably</td>\n",
       "      <td>Very favorably</td>\n",
       "      <td>I don't understand this question</td>\n",
       "      <td>No</td>\n",
       "      <td>0</td>\n",
       "      <td>Yes</td>\n",
       "      <td>Female</td>\n",
       "      <td>30-44</td>\n",
       "      <td>$50,000 - $99,999</td>\n",
       "      <td>Bachelor degree</td>\n",
       "      <td>Mountain</td>\n",
       "    </tr>\n",
       "    <tr>\n",
       "      <th>1184</th>\n",
       "      <td>No</td>\n",
       "      <td>0</td>\n",
       "      <td>0</td>\n",
       "      <td>0</td>\n",
       "      <td>0</td>\n",
       "      <td>0</td>\n",
       "      <td>0</td>\n",
       "      <td>0</td>\n",
       "      <td>0</td>\n",
       "      <td>0</td>\n",
       "      <td>0</td>\n",
       "      <td>0</td>\n",
       "      <td>0</td>\n",
       "      <td>0</td>\n",
       "      <td>0</td>\n",
       "      <td>0</td>\n",
       "      <td>0</td>\n",
       "      <td>0</td>\n",
       "      <td>0</td>\n",
       "      <td>0</td>\n",
       "      <td>0</td>\n",
       "      <td>0</td>\n",
       "      <td>0</td>\n",
       "      <td>0</td>\n",
       "      <td>0</td>\n",
       "      <td>0</td>\n",
       "      <td>0</td>\n",
       "      <td>0</td>\n",
       "      <td>0</td>\n",
       "      <td>0</td>\n",
       "      <td>0</td>\n",
       "      <td>No</td>\n",
       "      <td>Female</td>\n",
       "      <td>30-44</td>\n",
       "      <td>$50,000 - $99,999</td>\n",
       "      <td>Bachelor degree</td>\n",
       "      <td>Middle Atlantic</td>\n",
       "    </tr>\n",
       "    <tr>\n",
       "      <th>1185</th>\n",
       "      <td>Yes</td>\n",
       "      <td>Yes</td>\n",
       "      <td>Star Wars: Episode I  The Phantom Menace</td>\n",
       "      <td>Star Wars: Episode II  Attack of the Clones</td>\n",
       "      <td>Star Wars: Episode III  Revenge of the Sith</td>\n",
       "      <td>Star Wars: Episode IV  A New Hope</td>\n",
       "      <td>Star Wars: Episode V The Empire Strikes Back</td>\n",
       "      <td>Star Wars: Episode VI Return of the Jedi</td>\n",
       "      <td>4</td>\n",
       "      <td>3</td>\n",
       "      <td>6</td>\n",
       "      <td>5</td>\n",
       "      <td>2</td>\n",
       "      <td>1</td>\n",
       "      <td>Very favorably</td>\n",
       "      <td>Neither favorably nor unfavorably (neutral)</td>\n",
       "      <td>Very favorably</td>\n",
       "      <td>Very favorably</td>\n",
       "      <td>Very favorably</td>\n",
       "      <td>Neither favorably nor unfavorably (neutral)</td>\n",
       "      <td>Very favorably</td>\n",
       "      <td>Somewhat favorably</td>\n",
       "      <td>Very favorably</td>\n",
       "      <td>Somewhat favorably</td>\n",
       "      <td>Somewhat favorably</td>\n",
       "      <td>Very favorably</td>\n",
       "      <td>Somewhat favorably</td>\n",
       "      <td>Very favorably</td>\n",
       "      <td>Han</td>\n",
       "      <td>No</td>\n",
       "      <td>0</td>\n",
       "      <td>Yes</td>\n",
       "      <td>Female</td>\n",
       "      <td>45-60</td>\n",
       "      <td>$100,000 - $149,999</td>\n",
       "      <td>Some college or Associate degree</td>\n",
       "      <td>East North Central</td>\n",
       "    </tr>\n",
       "    <tr>\n",
       "      <th>1186</th>\n",
       "      <td>Yes</td>\n",
       "      <td>No</td>\n",
       "      <td>Star Wars: Episode I  The Phantom Menace</td>\n",
       "      <td>Star Wars: Episode II  Attack of the Clones</td>\n",
       "      <td>0</td>\n",
       "      <td>0</td>\n",
       "      <td>Star Wars: Episode V The Empire Strikes Back</td>\n",
       "      <td>Star Wars: Episode VI Return of the Jedi</td>\n",
       "      <td>6</td>\n",
       "      <td>1</td>\n",
       "      <td>2</td>\n",
       "      <td>3</td>\n",
       "      <td>4</td>\n",
       "      <td>5</td>\n",
       "      <td>Very favorably</td>\n",
       "      <td>Very favorably</td>\n",
       "      <td>Very favorably</td>\n",
       "      <td>Very unfavorably</td>\n",
       "      <td>Very favorably</td>\n",
       "      <td>Very unfavorably</td>\n",
       "      <td>Very favorably</td>\n",
       "      <td>Very unfavorably</td>\n",
       "      <td>Unfamiliar (N/A)</td>\n",
       "      <td>Somewhat favorably</td>\n",
       "      <td>Somewhat favorably</td>\n",
       "      <td>Very unfavorably</td>\n",
       "      <td>Neither favorably nor unfavorably (neutral)</td>\n",
       "      <td>Very unfavorably</td>\n",
       "      <td>I don't understand this question</td>\n",
       "      <td>No</td>\n",
       "      <td>0</td>\n",
       "      <td>No</td>\n",
       "      <td>Female</td>\n",
       "      <td>&gt; 60</td>\n",
       "      <td>$50,000 - $99,999</td>\n",
       "      <td>Graduate degree</td>\n",
       "      <td>Pacific</td>\n",
       "    </tr>\n",
       "  </tbody>\n",
       "</table>\n",
       "<p>1186 rows × 37 columns</p>\n",
       "</div>"
      ],
      "text/plain": [
       "     Have you seen any of the 6 films in the Star Wars franchise?  \\\n",
       "1                                                   Yes             \n",
       "2                                                    No             \n",
       "3                                                   Yes             \n",
       "4                                                   Yes             \n",
       "5                                                   Yes             \n",
       "...                                                 ...             \n",
       "1182                                                Yes             \n",
       "1183                                                Yes             \n",
       "1184                                                 No             \n",
       "1185                                                Yes             \n",
       "1186                                                Yes             \n",
       "\n",
       "     Do you consider yourself to be a fan of the Star Wars film franchise?  \\\n",
       "1                                                   Yes                      \n",
       "2                                                     0                      \n",
       "3                                                    No                      \n",
       "4                                                   Yes                      \n",
       "5                                                   Yes                      \n",
       "...                                                 ...                      \n",
       "1182                                                Yes                      \n",
       "1183                                                Yes                      \n",
       "1184                                                  0                      \n",
       "1185                                                Yes                      \n",
       "1186                                                 No                      \n",
       "\n",
       "                                            W1  \\\n",
       "1     Star Wars: Episode I  The Phantom Menace   \n",
       "2                                            0   \n",
       "3     Star Wars: Episode I  The Phantom Menace   \n",
       "4     Star Wars: Episode I  The Phantom Menace   \n",
       "5     Star Wars: Episode I  The Phantom Menace   \n",
       "...                                        ...   \n",
       "1182  Star Wars: Episode I  The Phantom Menace   \n",
       "1183  Star Wars: Episode I  The Phantom Menace   \n",
       "1184                                         0   \n",
       "1185  Star Wars: Episode I  The Phantom Menace   \n",
       "1186  Star Wars: Episode I  The Phantom Menace   \n",
       "\n",
       "                                               W2  \\\n",
       "1     Star Wars: Episode II  Attack of the Clones   \n",
       "2                                               0   \n",
       "3     Star Wars: Episode II  Attack of the Clones   \n",
       "4     Star Wars: Episode II  Attack of the Clones   \n",
       "5     Star Wars: Episode II  Attack of the Clones   \n",
       "...                                           ...   \n",
       "1182  Star Wars: Episode II  Attack of the Clones   \n",
       "1183  Star Wars: Episode II  Attack of the Clones   \n",
       "1184                                            0   \n",
       "1185  Star Wars: Episode II  Attack of the Clones   \n",
       "1186  Star Wars: Episode II  Attack of the Clones   \n",
       "\n",
       "                                               W3  \\\n",
       "1     Star Wars: Episode III  Revenge of the Sith   \n",
       "2                                               0   \n",
       "3     Star Wars: Episode III  Revenge of the Sith   \n",
       "4     Star Wars: Episode III  Revenge of the Sith   \n",
       "5     Star Wars: Episode III  Revenge of the Sith   \n",
       "...                                           ...   \n",
       "1182  Star Wars: Episode III  Revenge of the Sith   \n",
       "1183  Star Wars: Episode III  Revenge of the Sith   \n",
       "1184                                            0   \n",
       "1185  Star Wars: Episode III  Revenge of the Sith   \n",
       "1186                                            0   \n",
       "\n",
       "                                     W4  \\\n",
       "1     Star Wars: Episode IV  A New Hope   \n",
       "2                                     0   \n",
       "3                                     0   \n",
       "4     Star Wars: Episode IV  A New Hope   \n",
       "5     Star Wars: Episode IV  A New Hope   \n",
       "...                                 ...   \n",
       "1182  Star Wars: Episode IV  A New Hope   \n",
       "1183  Star Wars: Episode IV  A New Hope   \n",
       "1184                                  0   \n",
       "1185  Star Wars: Episode IV  A New Hope   \n",
       "1186                                  0   \n",
       "\n",
       "                                                W5  \\\n",
       "1     Star Wars: Episode V The Empire Strikes Back   \n",
       "2                                                0   \n",
       "3                                                0   \n",
       "4     Star Wars: Episode V The Empire Strikes Back   \n",
       "5     Star Wars: Episode V The Empire Strikes Back   \n",
       "...                                            ...   \n",
       "1182  Star Wars: Episode V The Empire Strikes Back   \n",
       "1183  Star Wars: Episode V The Empire Strikes Back   \n",
       "1184                                             0   \n",
       "1185  Star Wars: Episode V The Empire Strikes Back   \n",
       "1186  Star Wars: Episode V The Empire Strikes Back   \n",
       "\n",
       "                                            W6 R1 R2 R3 R4 R5 R6  \\\n",
       "1     Star Wars: Episode VI Return of the Jedi  3  2  1  4  5  6   \n",
       "2                                            0  0  0  0  0  0  0   \n",
       "3                                            0  1  2  3  4  5  6   \n",
       "4     Star Wars: Episode VI Return of the Jedi  5  6  1  2  4  3   \n",
       "5     Star Wars: Episode VI Return of the Jedi  5  4  6  2  1  3   \n",
       "...                                        ... .. .. .. .. .. ..   \n",
       "1182  Star Wars: Episode VI Return of the Jedi  5  4  6  3  2  1   \n",
       "1183  Star Wars: Episode VI Return of the Jedi  4  5  6  2  3  1   \n",
       "1184                                         0  0  0  0  0  0  0   \n",
       "1185  Star Wars: Episode VI Return of the Jedi  4  3  6  5  2  1   \n",
       "1186  Star Wars: Episode VI Return of the Jedi  6  1  2  3  4  5   \n",
       "\n",
       "              F_Han Solo                             F_Luke Skywalker  \\\n",
       "1         Very favorably                               Very favorably   \n",
       "2                      0                                            0   \n",
       "3     Somewhat favorably                           Somewhat favorably   \n",
       "4         Very favorably                               Very favorably   \n",
       "5         Very favorably                           Somewhat favorably   \n",
       "...                  ...                                          ...   \n",
       "1182      Very favorably                           Somewhat favorably   \n",
       "1183      Very favorably                           Somewhat favorably   \n",
       "1184                   0                                            0   \n",
       "1185      Very favorably  Neither favorably nor unfavorably (neutral)   \n",
       "1186      Very favorably                               Very favorably   \n",
       "\n",
       "     F_Princess Leia Organa    F_Anakin Skywalker    F_Obi Wan Kenobi  \\\n",
       "1            Very favorably        Very favorably      Very favorably   \n",
       "2                         0                     0                   0   \n",
       "3        Somewhat favorably    Somewhat favorably  Somewhat favorably   \n",
       "4            Very favorably        Very favorably      Very favorably   \n",
       "5        Somewhat favorably  Somewhat unfavorably      Very favorably   \n",
       "...                     ...                   ...                 ...   \n",
       "1182     Somewhat favorably    Somewhat favorably      Very favorably   \n",
       "1183         Very favorably  Somewhat unfavorably      Very favorably   \n",
       "1184                      0                     0                   0   \n",
       "1185         Very favorably        Very favorably      Very favorably   \n",
       "1186         Very favorably      Very unfavorably      Very favorably   \n",
       "\n",
       "                              F_Emperor Palpatine       F_Darth Vader  \\\n",
       "1                                  Very favorably      Very favorably   \n",
       "2                                               0                   0   \n",
       "3                                Unfamiliar (N/A)    Unfamiliar (N/A)   \n",
       "4                              Somewhat favorably      Very favorably   \n",
       "5                                Very unfavorably  Somewhat favorably   \n",
       "...                                           ...                 ...   \n",
       "1182                           Somewhat favorably  Somewhat favorably   \n",
       "1183  Neither favorably nor unfavorably (neutral)    Very unfavorably   \n",
       "1184                                            0                   0   \n",
       "1185  Neither favorably nor unfavorably (neutral)      Very favorably   \n",
       "1186                             Very unfavorably      Very favorably   \n",
       "\n",
       "                               F_Lando Calrissian           F_Boba Fett  \\\n",
       "1                                Unfamiliar (N/A)      Unfamiliar (N/A)   \n",
       "2                                               0                     0   \n",
       "3                                Unfamiliar (N/A)      Unfamiliar (N/A)   \n",
       "4                              Somewhat favorably  Somewhat unfavorably   \n",
       "5     Neither favorably nor unfavorably (neutral)        Very favorably   \n",
       "...                                           ...                   ...   \n",
       "1182                           Somewhat favorably    Somewhat favorably   \n",
       "1183                           Somewhat favorably      Unfamiliar (N/A)   \n",
       "1184                                            0                     0   \n",
       "1185                           Somewhat favorably        Very favorably   \n",
       "1186                             Very unfavorably      Unfamiliar (N/A)   \n",
       "\n",
       "                 F_C-3P0             F_R2 D2       F_Jar Jar Binks  \\\n",
       "1         Very favorably      Very favorably        Very favorably   \n",
       "2                      0                   0                     0   \n",
       "3       Unfamiliar (N/A)    Unfamiliar (N/A)      Unfamiliar (N/A)   \n",
       "4         Very favorably      Very favorably        Very favorably   \n",
       "5     Somewhat favorably  Somewhat favorably      Very unfavorably   \n",
       "...                  ...                 ...                   ...   \n",
       "1182      Very favorably      Very favorably    Somewhat favorably   \n",
       "1183  Somewhat favorably      Very favorably  Somewhat unfavorably   \n",
       "1184                   0                   0                     0   \n",
       "1185  Somewhat favorably  Somewhat favorably        Very favorably   \n",
       "1186  Somewhat favorably  Somewhat favorably      Very unfavorably   \n",
       "\n",
       "                                  F_Padme Amidala              F_Yoda  \\\n",
       "1                                  Very favorably      Very favorably   \n",
       "2                                               0                   0   \n",
       "3                                Unfamiliar (N/A)    Unfamiliar (N/A)   \n",
       "4                                  Very favorably      Very favorably   \n",
       "5                              Somewhat favorably  Somewhat favorably   \n",
       "...                                           ...                 ...   \n",
       "1182                           Somewhat favorably      Very favorably   \n",
       "1183                         Somewhat unfavorably      Very favorably   \n",
       "1184                                            0                   0   \n",
       "1185                           Somewhat favorably      Very favorably   \n",
       "1186  Neither favorably nor unfavorably (neutral)    Very unfavorably   \n",
       "\n",
       "           Which character shot first?  \\\n",
       "1     I don't understand this question   \n",
       "2                                    0   \n",
       "3     I don't understand this question   \n",
       "4     I don't understand this question   \n",
       "5                               Greedo   \n",
       "...                                ...   \n",
       "1182                               Han   \n",
       "1183  I don't understand this question   \n",
       "1184                                 0   \n",
       "1185                               Han   \n",
       "1186  I don't understand this question   \n",
       "\n",
       "     Are you familiar with the Expanded Universe?  \\\n",
       "1                                             Yes   \n",
       "2                                               0   \n",
       "3                                              No   \n",
       "4                                              No   \n",
       "5                                             Yes   \n",
       "...                                           ...   \n",
       "1182                                           No   \n",
       "1183                                           No   \n",
       "1184                                            0   \n",
       "1185                                           No   \n",
       "1186                                           No   \n",
       "\n",
       "     Do you consider yourself to be a fan of the Expanded Universe?æ  \\\n",
       "1                                                    No                 \n",
       "2                                                     0                 \n",
       "3                                                     0                 \n",
       "4                                                     0                 \n",
       "5                                                    No                 \n",
       "...                                                 ...                 \n",
       "1182                                                  0                 \n",
       "1183                                                  0                 \n",
       "1184                                                  0                 \n",
       "1185                                                  0                 \n",
       "1186                                                  0                 \n",
       "\n",
       "     Do you consider yourself to be a fan of the Star Trek franchise?  Gender  \\\n",
       "1                                                    No                  Male   \n",
       "2                                                   Yes                  Male   \n",
       "3                                                    No                  Male   \n",
       "4                                                   Yes                  Male   \n",
       "5                                                    No                  Male   \n",
       "...                                                 ...                   ...   \n",
       "1182                                                Yes                Female   \n",
       "1183                                                Yes                Female   \n",
       "1184                                                 No                Female   \n",
       "1185                                                Yes                Female   \n",
       "1186                                                 No                Female   \n",
       "\n",
       "        Age     Household Income                         Education  \\\n",
       "1     18-29                    0                High school degree   \n",
       "2     18-29         $0 - $24,999                   Bachelor degree   \n",
       "3     18-29         $0 - $24,999                High school degree   \n",
       "4     18-29  $100,000 - $149,999  Some college or Associate degree   \n",
       "5     18-29  $100,000 - $149,999  Some college or Associate degree   \n",
       "...     ...                  ...                               ...   \n",
       "1182  18-29         $0 - $24,999  Some college or Associate degree   \n",
       "1183  30-44    $50,000 - $99,999                   Bachelor degree   \n",
       "1184  30-44    $50,000 - $99,999                   Bachelor degree   \n",
       "1185  45-60  $100,000 - $149,999  Some college or Associate degree   \n",
       "1186   > 60    $50,000 - $99,999                   Graduate degree   \n",
       "\n",
       "                Location  \n",
       "1         South Atlantic  \n",
       "2     West South Central  \n",
       "3     West North Central  \n",
       "4     West North Central  \n",
       "5     West North Central  \n",
       "...                  ...  \n",
       "1182  East North Central  \n",
       "1183            Mountain  \n",
       "1184     Middle Atlantic  \n",
       "1185  East North Central  \n",
       "1186             Pacific  \n",
       "\n",
       "[1186 rows x 37 columns]"
      ]
     },
     "execution_count": 45,
     "metadata": {},
     "output_type": "execute_result"
    }
   ],
   "source": [
    "starwar.dropna()\n",
    "starwar.drop([0],inplace = True)\n",
    "starwar.drop(['RespondentID'],inplace = True, axis=1)\n",
    "starwar.fillna(0)"
   ]
  },
  {
   "cell_type": "code",
   "execution_count": 46,
   "metadata": {},
   "outputs": [],
   "source": [
    "starwar.drop(['W1'],inplace = True, axis=1)\n",
    "starwar.drop(['W2'],inplace = True, axis=1)\n",
    "starwar.drop(['W3'],inplace = True, axis=1)\n",
    "starwar.drop(['W4'],inplace = True, axis=1)\n",
    "starwar.drop(['W5'],inplace = True, axis=1)\n",
    "starwar.drop(['W6'],inplace = True, axis=1)\n",
    "starwar.drop(['R1'],inplace = True, axis=1)\n",
    "starwar.drop(['R2'],inplace = True, axis=1)\n",
    "starwar.drop(['R3'],inplace = True, axis=1)\n",
    "starwar.drop(['R4'],inplace = True, axis=1)\n",
    "starwar.drop(['R5'],inplace = True, axis=1)\n",
    "starwar.drop(['R6'],inplace = True, axis=1)\n",
    "starwar.drop(['Which character shot first?'],inplace = True, axis=1)\n",
    "starwar.drop(['Age'],inplace = True, axis=1)\n",
    "starwar.drop(['Household Income'],inplace = True, axis=1)\n",
    "starwar.drop(['Education'],inplace = True, axis=1)\n",
    "starwar.drop(['F_Luke Skywalker'],inplace = True, axis=1)\n",
    "starwar.drop(['F_Princess Leia Organa'],inplace = True, axis=1)\n",
    "starwar.drop(['F_Anakin Skywalker'],inplace = True, axis=1)\n",
    "starwar.drop(['F_Obi Wan Kenobi'],inplace = True, axis=1)\n",
    "starwar.drop(['F_Emperor Palpatine'],inplace = True, axis=1)\n",
    "starwar.drop(['F_Darth Vader'],inplace = True, axis=1)\n",
    "starwar.drop(['F_Lando Calrissian'],inplace = True, axis=1)\n",
    "starwar.drop(['F_Boba Fett'],inplace = True, axis=1)\n",
    "starwar.drop(['F_C-3P0'],inplace = True, axis=1)\n",
    "starwar.drop(['F_R2 D2'],inplace = True, axis=1)\n",
    "starwar.drop(['F_Jar Jar Binks'],inplace = True, axis=1)\n",
    "starwar.drop(['F_Padme Amidala'],inplace = True, axis=1)\n",
    "starwar.drop(['F_Yoda'],inplace = True, axis=1)\n",
    "starwar.drop(['F_Han Solo'],inplace = True, axis=1)"
   ]
  },
  {
   "cell_type": "code",
   "execution_count": 47,
   "metadata": {},
   "outputs": [],
   "source": [
    "starwar1= starwar.dropna()"
   ]
  },
  {
   "cell_type": "markdown",
   "metadata": {},
   "source": [
    "checking the missing values in the dataset. "
   ]
  },
  {
   "cell_type": "code",
   "execution_count": 48,
   "metadata": {},
   "outputs": [
    {
     "data": {
      "text/plain": [
       "Have you seen any of the 6 films in the Star Wars franchise?             0\n",
       "Do you consider yourself to be a fan of the Star Wars film franchise?    0\n",
       "Are you familiar with the Expanded Universe?                             0\n",
       "Do you consider yourself to be a fan of the Expanded Universe?æ         0\n",
       "Do you consider yourself to be a fan of the Star Trek franchise?         0\n",
       "Gender                                                                   0\n",
       "Location                                                                 0\n",
       "dtype: int64"
      ]
     },
     "execution_count": 48,
     "metadata": {},
     "output_type": "execute_result"
    }
   ],
   "source": [
    "starwar1.isna().sum()"
   ]
  },
  {
   "cell_type": "code",
   "execution_count": 49,
   "metadata": {},
   "outputs": [],
   "source": [
    "starwar1.rename(columns={'Have you seen any of the 6 films in the Star Wars franchise?' : 'Seen_starwar'},inplace = True)\n",
    "starwar1.rename(columns={'Do you consider yourself to be a fan of the Star Wars film franchise?' : 'Fan_starwar'},inplace = True)\n",
    "starwar1.rename(columns={'Are you familiar with the Expanded Universe?' : 'Familiar_EU'},inplace = True)\n",
    "starwar1.rename(columns={'Do you consider yourself to be a fan of the Expanded Universe?æ' : 'Fan_EU'},inplace = True)\n",
    "starwar1.rename(columns={'Do you consider yourself to be a fan of the Star Trek franchise?' : 'Fan_startrek'},inplace = True)"
   ]
  },
  {
   "cell_type": "markdown",
   "metadata": {},
   "source": [
    "Replacing yes and no responses in the dataset to 0 and 1. Where 1 signifies yes and 0 signifies no."
   ]
  },
  {
   "cell_type": "code",
   "execution_count": 50,
   "metadata": {},
   "outputs": [],
   "source": [
    "starwar1.Seen_starwar.replace(('Yes', 'No'), (1, 0), inplace=True)\n",
    "starwar1.Fan_starwar.replace(('Yes', 'No'), (1, 0), inplace=True)\n",
    "starwar1.Familiar_EU.replace(('Yes', 'No'), (1, 0), inplace=True)\n",
    "starwar1.Fan_EU.replace(('Yes', 'No'), (1, 0), inplace=True)\n",
    "starwar1.Fan_startrek.replace(('Yes', 'No'), (1, 0), inplace=True)\n",
    "starwar1.Gender.replace(('Male', 'Female'), (1, 0), inplace=True)"
   ]
  },
  {
   "cell_type": "markdown",
   "metadata": {},
   "source": [
    "Dropping the location column as it is our target feature."
   ]
  },
  {
   "cell_type": "code",
   "execution_count": 51,
   "metadata": {},
   "outputs": [],
   "source": [
    "Data1 = starwar1.drop(columns='Location')\n",
    "target = starwar1['Location']"
   ]
  },
  {
   "cell_type": "markdown",
   "metadata": {},
   "source": [
    "Encoding the entries of our target feature."
   ]
  },
  {
   "cell_type": "code",
   "execution_count": 52,
   "metadata": {},
   "outputs": [
    {
     "data": {
      "text/plain": [
       "0    39\n",
       "1    35\n",
       "2    28\n",
       "3    23\n",
       "4    21\n",
       "5    20\n",
       "6    18\n",
       "7    18\n",
       "8     9\n",
       "Name: Location, dtype: int64"
      ]
     },
     "execution_count": 52,
     "metadata": {},
     "output_type": "execute_result"
    }
   ],
   "source": [
    "target = target.replace({'South Atlantic': 0, 'Pacific': 1, 'East North Central': 2, 'Middle Atlantic': 3, 'West South Central': 4, 'West North Central': 5, 'New England': 6, 'Mountain': 7, 'East South Central': 8})\n",
    "target.value_counts()"
   ]
  },
  {
   "cell_type": "code",
   "execution_count": 53,
   "metadata": {},
   "outputs": [],
   "source": [
    "df = pd.concat([Data1, target], axis=1)"
   ]
  },
  {
   "cell_type": "markdown",
   "metadata": {},
   "source": [
    "## Train & Test\n",
    "Training and testing the datasets."
   ]
  },
  {
   "cell_type": "code",
   "execution_count": 54,
   "metadata": {},
   "outputs": [
    {
     "data": {
      "text/html": [
       "<div>\n",
       "<style scoped>\n",
       "    .dataframe tbody tr th:only-of-type {\n",
       "        vertical-align: middle;\n",
       "    }\n",
       "\n",
       "    .dataframe tbody tr th {\n",
       "        vertical-align: top;\n",
       "    }\n",
       "\n",
       "    .dataframe thead th {\n",
       "        text-align: right;\n",
       "    }\n",
       "</style>\n",
       "<table border=\"1\" class=\"dataframe\">\n",
       "  <thead>\n",
       "    <tr style=\"text-align: right;\">\n",
       "      <th></th>\n",
       "      <th>Seen_starwar</th>\n",
       "      <th>Fan_starwar</th>\n",
       "      <th>Familiar_EU</th>\n",
       "      <th>Fan_EU</th>\n",
       "      <th>Fan_startrek</th>\n",
       "      <th>Gender</th>\n",
       "      <th>Location</th>\n",
       "      <th>train</th>\n",
       "    </tr>\n",
       "  </thead>\n",
       "  <tbody>\n",
       "    <tr>\n",
       "      <th>980</th>\n",
       "      <td>1</td>\n",
       "      <td>1</td>\n",
       "      <td>1</td>\n",
       "      <td>1</td>\n",
       "      <td>1</td>\n",
       "      <td>1</td>\n",
       "      <td>1</td>\n",
       "      <td>True</td>\n",
       "    </tr>\n",
       "    <tr>\n",
       "      <th>52</th>\n",
       "      <td>1</td>\n",
       "      <td>1</td>\n",
       "      <td>1</td>\n",
       "      <td>0</td>\n",
       "      <td>0</td>\n",
       "      <td>1</td>\n",
       "      <td>0</td>\n",
       "      <td>True</td>\n",
       "    </tr>\n",
       "    <tr>\n",
       "      <th>623</th>\n",
       "      <td>1</td>\n",
       "      <td>1</td>\n",
       "      <td>1</td>\n",
       "      <td>0</td>\n",
       "      <td>1</td>\n",
       "      <td>1</td>\n",
       "      <td>0</td>\n",
       "      <td>True</td>\n",
       "    </tr>\n",
       "    <tr>\n",
       "      <th>468</th>\n",
       "      <td>1</td>\n",
       "      <td>1</td>\n",
       "      <td>1</td>\n",
       "      <td>1</td>\n",
       "      <td>1</td>\n",
       "      <td>0</td>\n",
       "      <td>0</td>\n",
       "      <td>True</td>\n",
       "    </tr>\n",
       "    <tr>\n",
       "      <th>482</th>\n",
       "      <td>1</td>\n",
       "      <td>1</td>\n",
       "      <td>1</td>\n",
       "      <td>0</td>\n",
       "      <td>1</td>\n",
       "      <td>1</td>\n",
       "      <td>0</td>\n",
       "      <td>True</td>\n",
       "    </tr>\n",
       "  </tbody>\n",
       "</table>\n",
       "</div>"
      ],
      "text/plain": [
       "     Seen_starwar Fan_starwar  Familiar_EU Fan_EU  Fan_startrek  Gender  \\\n",
       "980             1           1            1      1             1       1   \n",
       "52              1           1            1      0             0       1   \n",
       "623             1           1            1      0             1       1   \n",
       "468             1           1            1      1             1       0   \n",
       "482             1           1            1      0             1       1   \n",
       "\n",
       "     Location  train  \n",
       "980         1   True  \n",
       "52          0   True  \n",
       "623         0   True  \n",
       "468         0   True  \n",
       "482         0   True  "
      ]
     },
     "execution_count": 54,
     "metadata": {},
     "output_type": "execute_result"
    }
   ],
   "source": [
    "train_test_per = 90/100.0\n",
    "df['train'] = np.random.rand(len(df)) < train_test_per\n",
    "df.sample(n=5)"
   ]
  },
  {
   "cell_type": "markdown",
   "metadata": {},
   "source": [
    "seperating train and test data"
   ]
  },
  {
   "cell_type": "code",
   "execution_count": 55,
   "metadata": {},
   "outputs": [
    {
     "data": {
      "text/html": [
       "<div>\n",
       "<style scoped>\n",
       "    .dataframe tbody tr th:only-of-type {\n",
       "        vertical-align: middle;\n",
       "    }\n",
       "\n",
       "    .dataframe tbody tr th {\n",
       "        vertical-align: top;\n",
       "    }\n",
       "\n",
       "    .dataframe thead th {\n",
       "        text-align: right;\n",
       "    }\n",
       "</style>\n",
       "<table border=\"1\" class=\"dataframe\">\n",
       "  <thead>\n",
       "    <tr style=\"text-align: right;\">\n",
       "      <th></th>\n",
       "      <th>Seen_starwar</th>\n",
       "      <th>Fan_starwar</th>\n",
       "      <th>Familiar_EU</th>\n",
       "      <th>Fan_EU</th>\n",
       "      <th>Fan_startrek</th>\n",
       "      <th>Gender</th>\n",
       "      <th>Location</th>\n",
       "    </tr>\n",
       "  </thead>\n",
       "  <tbody>\n",
       "    <tr>\n",
       "      <th>29</th>\n",
       "      <td>1</td>\n",
       "      <td>1</td>\n",
       "      <td>1</td>\n",
       "      <td>0</td>\n",
       "      <td>0</td>\n",
       "      <td>1</td>\n",
       "      <td>3</td>\n",
       "    </tr>\n",
       "    <tr>\n",
       "      <th>506</th>\n",
       "      <td>1</td>\n",
       "      <td>0</td>\n",
       "      <td>1</td>\n",
       "      <td>0</td>\n",
       "      <td>1</td>\n",
       "      <td>0</td>\n",
       "      <td>0</td>\n",
       "    </tr>\n",
       "    <tr>\n",
       "      <th>635</th>\n",
       "      <td>1</td>\n",
       "      <td>1</td>\n",
       "      <td>1</td>\n",
       "      <td>0</td>\n",
       "      <td>1</td>\n",
       "      <td>1</td>\n",
       "      <td>5</td>\n",
       "    </tr>\n",
       "    <tr>\n",
       "      <th>1006</th>\n",
       "      <td>1</td>\n",
       "      <td>1</td>\n",
       "      <td>1</td>\n",
       "      <td>1</td>\n",
       "      <td>1</td>\n",
       "      <td>1</td>\n",
       "      <td>0</td>\n",
       "    </tr>\n",
       "    <tr>\n",
       "      <th>23</th>\n",
       "      <td>1</td>\n",
       "      <td>1</td>\n",
       "      <td>1</td>\n",
       "      <td>1</td>\n",
       "      <td>1</td>\n",
       "      <td>1</td>\n",
       "      <td>0</td>\n",
       "    </tr>\n",
       "  </tbody>\n",
       "</table>\n",
       "</div>"
      ],
      "text/plain": [
       "      Seen_starwar Fan_starwar  Familiar_EU Fan_EU  Fan_startrek  Gender  \\\n",
       "29               1           1            1      0             0       1   \n",
       "506              1           0            1      0             1       0   \n",
       "635              1           1            1      0             1       1   \n",
       "1006             1           1            1      1             1       1   \n",
       "23               1           1            1      1             1       1   \n",
       "\n",
       "      Location  \n",
       "29           3  \n",
       "506          0  \n",
       "635          5  \n",
       "1006         0  \n",
       "23           0  "
      ]
     },
     "execution_count": 55,
     "metadata": {},
     "output_type": "execute_result"
    }
   ],
   "source": [
    "train = df[df.train == 1]\n",
    "train = train.drop('train', axis=1).sample(frac=1)\n",
    "train.sample(n=5)"
   ]
  },
  {
   "cell_type": "code",
   "execution_count": 56,
   "metadata": {},
   "outputs": [
    {
     "data": {
      "text/html": [
       "<div>\n",
       "<style scoped>\n",
       "    .dataframe tbody tr th:only-of-type {\n",
       "        vertical-align: middle;\n",
       "    }\n",
       "\n",
       "    .dataframe tbody tr th {\n",
       "        vertical-align: top;\n",
       "    }\n",
       "\n",
       "    .dataframe thead th {\n",
       "        text-align: right;\n",
       "    }\n",
       "</style>\n",
       "<table border=\"1\" class=\"dataframe\">\n",
       "  <thead>\n",
       "    <tr style=\"text-align: right;\">\n",
       "      <th></th>\n",
       "      <th>Seen_starwar</th>\n",
       "      <th>Fan_starwar</th>\n",
       "      <th>Familiar_EU</th>\n",
       "      <th>Fan_EU</th>\n",
       "      <th>Fan_startrek</th>\n",
       "      <th>Gender</th>\n",
       "      <th>Location</th>\n",
       "    </tr>\n",
       "  </thead>\n",
       "  <tbody>\n",
       "    <tr>\n",
       "      <th>586</th>\n",
       "      <td>1</td>\n",
       "      <td>1</td>\n",
       "      <td>1</td>\n",
       "      <td>0</td>\n",
       "      <td>0</td>\n",
       "      <td>1</td>\n",
       "      <td>0</td>\n",
       "    </tr>\n",
       "    <tr>\n",
       "      <th>243</th>\n",
       "      <td>1</td>\n",
       "      <td>1</td>\n",
       "      <td>1</td>\n",
       "      <td>1</td>\n",
       "      <td>1</td>\n",
       "      <td>1</td>\n",
       "      <td>1</td>\n",
       "    </tr>\n",
       "    <tr>\n",
       "      <th>888</th>\n",
       "      <td>1</td>\n",
       "      <td>1</td>\n",
       "      <td>1</td>\n",
       "      <td>0</td>\n",
       "      <td>1</td>\n",
       "      <td>0</td>\n",
       "      <td>0</td>\n",
       "    </tr>\n",
       "    <tr>\n",
       "      <th>916</th>\n",
       "      <td>1</td>\n",
       "      <td>1</td>\n",
       "      <td>1</td>\n",
       "      <td>0</td>\n",
       "      <td>1</td>\n",
       "      <td>0</td>\n",
       "      <td>5</td>\n",
       "    </tr>\n",
       "    <tr>\n",
       "      <th>171</th>\n",
       "      <td>1</td>\n",
       "      <td>1</td>\n",
       "      <td>1</td>\n",
       "      <td>0</td>\n",
       "      <td>1</td>\n",
       "      <td>1</td>\n",
       "      <td>8</td>\n",
       "    </tr>\n",
       "  </tbody>\n",
       "</table>\n",
       "</div>"
      ],
      "text/plain": [
       "     Seen_starwar Fan_starwar  Familiar_EU Fan_EU  Fan_startrek  Gender  \\\n",
       "586             1           1            1      0             0       1   \n",
       "243             1           1            1      1             1       1   \n",
       "888             1           1            1      0             1       0   \n",
       "916             1           1            1      0             1       0   \n",
       "171             1           1            1      0             1       1   \n",
       "\n",
       "     Location  \n",
       "586         0  \n",
       "243         1  \n",
       "888         0  \n",
       "916         5  \n",
       "171         8  "
      ]
     },
     "execution_count": 56,
     "metadata": {},
     "output_type": "execute_result"
    }
   ],
   "source": [
    "test = df[df.train == 0]\n",
    "test = test.drop('train', axis=1)\n",
    "test.sample(n=5)"
   ]
  },
  {
   "cell_type": "code",
   "execution_count": 57,
   "metadata": {},
   "outputs": [
    {
     "data": {
      "text/plain": [
       "array([[1, 1, 1, 1],\n",
       "       [1, 1, 1, 0],\n",
       "       [1, 1, 1, 1],\n",
       "       [1, 1, 1, 1],\n",
       "       [1, 1, 1, 1]], dtype=object)"
      ]
     },
     "execution_count": 57,
     "metadata": {},
     "output_type": "execute_result"
    }
   ],
   "source": [
    "X = train.values[:,:4]\n",
    "X[:5]"
   ]
  },
  {
   "cell_type": "code",
   "execution_count": 58,
   "metadata": {},
   "outputs": [
    {
     "data": {
      "text/plain": [
       "array([[0, 1, 0],\n",
       "       [0, 1, 0],\n",
       "       [0, 1, 0],\n",
       "       [0, 1, 0],\n",
       "       [0, 1, 0]])"
      ]
     },
     "execution_count": 58,
     "metadata": {},
     "output_type": "execute_result"
    }
   ],
   "source": [
    "targets = [[1,0,0],[0,1,0],[0,0,1]]\n",
    "y = np.array([targets[int(x)] for x in train.values[:,4:5]])\n",
    "y[:5]"
   ]
  },
  {
   "cell_type": "markdown",
   "metadata": {},
   "source": [
    "## Backpropogating neural network.\n",
    "- In this section we will create 3 layers in our neural network.\n",
    "- layer 1 shows the inputs.\n",
    "- layer 2 shows the hidden layers of the network. \n",
    "- layer 3 shows the outputs of the network.\n",
    "- inputs are the various responses from the participants while output is the location. The hidden layer of the netwrok has been randomized to take up values in between -1 and 1. "
   ]
  },
  {
   "cell_type": "code",
   "execution_count": 59,
   "metadata": {},
   "outputs": [
    {
     "data": {
      "text/plain": [
       "array([[ 0.93405968,  0.0944645 ,  0.94536872,  0.42963199,  0.39545765],\n",
       "       [-0.56782101,  0.95254891, -0.98753949, -0.49403528, -0.13041694],\n",
       "       [ 0.55876584, -0.60462985,  0.72598647,  0.96680135, -0.67231552],\n",
       "       [ 0.19466789, -0.9820278 , -0.22685743, -0.91167988,  0.91330594]])"
      ]
     },
     "execution_count": 59,
     "metadata": {},
     "output_type": "execute_result"
    }
   ],
   "source": [
    "num_inputs = len(X[0])\n",
    "hidden_layer_neurons = 5\n",
    "np.random.seed(4)\n",
    "w1 = 2*np.random.random((num_inputs, hidden_layer_neurons)) - 1\n",
    "w1"
   ]
  },
  {
   "cell_type": "code",
   "execution_count": 60,
   "metadata": {},
   "outputs": [
    {
     "data": {
      "text/plain": [
       "array([[-0.12770671,  0.89795461,  0.57261197],\n",
       "       [ 0.7325786 , -0.65366916, -0.85010283],\n",
       "       [ 0.20148544, -0.66405563,  0.46676034],\n",
       "       [-0.18311228,  0.05581765,  0.87514317],\n",
       "       [ 0.04339224, -0.78361323, -0.68355319]])"
      ]
     },
     "execution_count": 60,
     "metadata": {},
     "output_type": "execute_result"
    }
   ],
   "source": [
    "num_outputs = len(y[0])\n",
    "w2 = 2*np.random.random((hidden_layer_neurons, num_outputs)) - 1\n",
    "w2"
   ]
  },
  {
   "cell_type": "markdown",
   "metadata": {},
   "source": [
    "## Training the network by updating weights.\n",
    "-\tTraining the neural network will be done in the following steps.\n",
    "    - Node is activated by using the output from previous layer as input and then multiplying it with the weight of the node.\n",
    "    - Node output will be the sigmoid activation function = 1 / ( 1 + exp( node activation ) )\n",
    "    - Then backpropogation will be used to update the network weights.\n",
    "    - Error for the last layer will be calculated by ( expected - output ) * derivative\n",
    "    - Error for other layers will be calculated by ( error calculated previously * particular layer's weight ) * derivative\n",
    "    - Weights will then be updated on the basis of error calculated as ,                 Weight = weight + ( output * error * learning rate )"
   ]
  },
  {
   "cell_type": "code",
   "execution_count": 61,
   "metadata": {},
   "outputs": [],
   "source": [
    "def draw_neural_net(ax, left, right, bottom, top, layer_sizes):\n",
    "    n_layers = len(layer_sizes)\n",
    "    v_spacing = (top - bottom)/float(max(layer_sizes))\n",
    "    h_spacing = (right - left)/float(len(layer_sizes) - 1)\n",
    "    for n, layer_size in enumerate(layer_sizes):\n",
    "        layer_top = v_spacing*(layer_size - 1)/2. + (top + bottom)/2.\n",
    "        for m in range(layer_size):\n",
    "            circle = plt.Circle((n*h_spacing + left, layer_top - m*v_spacing), v_spacing/4.,\n",
    "                                color='w', ec='k', zorder=4)\n",
    "            ax.add_artist(circle)\n",
    "    for n, (layer_size_a, layer_size_b) in enumerate(zip(layer_sizes[:-1], layer_sizes[1:])):\n",
    "        layer_top_a = v_spacing*(layer_size_a - 1)/2. + (top + bottom)/2.\n",
    "        layer_top_b = v_spacing*(layer_size_b - 1)/2. + (top + bottom)/2.\n",
    "        for m in range(layer_size_a):\n",
    "            for o in range(layer_size_b):\n",
    "                line = plt.Line2D([n*h_spacing + left, (n + 1)*h_spacing + left],\n",
    "                                  [layer_top_a - m*v_spacing, layer_top_b - o*v_spacing], c='k')\n",
    "                ax.add_artist(line)"
   ]
  },
  {
   "cell_type": "markdown",
   "metadata": {},
   "source": [
    "## Graphical representation\n",
    "-\tA graphical representation of the network will be something like this.\n",
    "-\tThe first set of 7 nodes will be the input layer that is all the questions answered in the survey.\n",
    "-\tThe next set of 9 nodes will be the hidden layers.\n",
    "-\tThe last set of 6 nodes will be our output or in this case the location of the participants.\n",
    "-\tIt is important to note here that all the nodes are connected to each other this signifies that there is always a path available to go from point A to B anywhere in the network. "
   ]
  },
  {
   "cell_type": "code",
   "execution_count": 62,
   "metadata": {},
   "outputs": [
    {
     "data": {
      "image/png": "[encoded data removed]",
      "text/plain": [
       "<Figure size 720x504 with 1 Axes>"
      ]
     },
     "metadata": {
      "needs_background": "light"
     },
     "output_type": "display_data"
    }
   ],
   "source": [
    "fig = plt.figure(figsize=(10, 7))\n",
    "ax = fig.gca()\n",
    "ax.axis('off')\n",
    "draw_neural_net(ax, .1, .9, .1, .9, [7, 9, 6])"
   ]
  },
  {
   "cell_type": "markdown",
   "metadata": {},
   "source": [
    "## Sigmoid Function\n",
    "-\tA sigmoid function is added to the network that creates non linearity in the function. \n",
    "-\tIt acts as an activation function and slashes all the values in between 0 and 1 \n",
    "-\tThe plot of a sigmoid function is seen below and it is an ‘S’ shaped representation."
   ]
  },
  {
   "cell_type": "code",
   "execution_count": 63,
   "metadata": {},
   "outputs": [
    {
     "data": {
      "text/plain": [
       "[<matplotlib.lines.Line2D at 0x194f135960>]"
      ]
     },
     "execution_count": 63,
     "metadata": {},
     "output_type": "execute_result"
    },
    {
     "data": {
      "image/png": "[encoded data removed]",
      "text/plain": [
       "<Figure size 432x288 with 1 Axes>"
      ]
     },
     "metadata": {
      "needs_background": "light"
     },
     "output_type": "display_data"
    }
   ],
   "source": [
    "x = np.linspace( -8, 8, 80 )\n",
    "y = 1 / ( 1 + np.exp( -x ) )\n",
    "plt.plot( x, y )"
   ]
  },
  {
   "cell_type": "markdown",
   "metadata": {},
   "source": [
    "## Neural network [NN]\n",
    "Data preprocessing"
   ]
  },
  {
   "cell_type": "code",
   "execution_count": 64,
   "metadata": {},
   "outputs": [
    {
     "data": {
      "text/html": [
       "<div>\n",
       "<style scoped>\n",
       "    .dataframe tbody tr th:only-of-type {\n",
       "        vertical-align: middle;\n",
       "    }\n",
       "\n",
       "    .dataframe tbody tr th {\n",
       "        vertical-align: top;\n",
       "    }\n",
       "\n",
       "    .dataframe thead th {\n",
       "        text-align: right;\n",
       "    }\n",
       "</style>\n",
       "<table border=\"1\" class=\"dataframe\">\n",
       "  <thead>\n",
       "    <tr style=\"text-align: right;\">\n",
       "      <th></th>\n",
       "      <th>Seen_starwar</th>\n",
       "      <th>Fan_starwar</th>\n",
       "      <th>Familiar_EU</th>\n",
       "      <th>Fan_EU</th>\n",
       "      <th>Fan_startrek</th>\n",
       "      <th>Gender</th>\n",
       "      <th>Location</th>\n",
       "    </tr>\n",
       "  </thead>\n",
       "  <tbody>\n",
       "    <tr>\n",
       "      <th>426</th>\n",
       "      <td>1</td>\n",
       "      <td>1</td>\n",
       "      <td>1</td>\n",
       "      <td>0</td>\n",
       "      <td>1</td>\n",
       "      <td>1</td>\n",
       "      <td>0</td>\n",
       "    </tr>\n",
       "    <tr>\n",
       "      <th>602</th>\n",
       "      <td>1</td>\n",
       "      <td>1</td>\n",
       "      <td>1</td>\n",
       "      <td>0</td>\n",
       "      <td>1</td>\n",
       "      <td>1</td>\n",
       "      <td>2</td>\n",
       "    </tr>\n",
       "    <tr>\n",
       "      <th>435</th>\n",
       "      <td>1</td>\n",
       "      <td>1</td>\n",
       "      <td>1</td>\n",
       "      <td>1</td>\n",
       "      <td>0</td>\n",
       "      <td>0</td>\n",
       "      <td>2</td>\n",
       "    </tr>\n",
       "    <tr>\n",
       "      <th>133</th>\n",
       "      <td>1</td>\n",
       "      <td>1</td>\n",
       "      <td>1</td>\n",
       "      <td>0</td>\n",
       "      <td>0</td>\n",
       "      <td>0</td>\n",
       "      <td>0</td>\n",
       "    </tr>\n",
       "    <tr>\n",
       "      <th>468</th>\n",
       "      <td>1</td>\n",
       "      <td>1</td>\n",
       "      <td>1</td>\n",
       "      <td>1</td>\n",
       "      <td>1</td>\n",
       "      <td>0</td>\n",
       "      <td>0</td>\n",
       "    </tr>\n",
       "  </tbody>\n",
       "</table>\n",
       "</div>"
      ],
      "text/plain": [
       "     Seen_starwar Fan_starwar  Familiar_EU Fan_EU  Fan_startrek  Gender  \\\n",
       "426             1           1            1      0             1       1   \n",
       "602             1           1            1      0             1       1   \n",
       "435             1           1            1      1             0       0   \n",
       "133             1           1            1      0             0       0   \n",
       "468             1           1            1      1             1       0   \n",
       "\n",
       "     Location  \n",
       "426         0  \n",
       "602         2  \n",
       "435         2  \n",
       "133         0  \n",
       "468         0  "
      ]
     },
     "execution_count": 64,
     "metadata": {},
     "output_type": "execute_result"
    }
   ],
   "source": [
    "starwar1\n",
    "Data1 = starwar1.drop(columns='Location')\n",
    "target = starwar1['Location']\n",
    "target = target.replace({'South Atlantic': 0, 'Pacific': 1, 'East North Central': 2, 'Middle Atlantic': 3, 'West South Central': 4, 'West North Central': 5, 'New England': 6, 'Mountain': 7, 'East South Central': 8})\n",
    "target.value_counts()\n",
    "df1 = pd.concat([Data1, target], axis=1)\n",
    "df1.sample(n=5)"
   ]
  },
  {
   "cell_type": "markdown",
   "metadata": {},
   "source": [
    "Defining target functions."
   ]
  },
  {
   "cell_type": "code",
   "execution_count": 65,
   "metadata": {},
   "outputs": [],
   "source": [
    "from sklearn.preprocessing import MinMaxScaler\n",
    "from sklearn.model_selection import train_test_split\n",
    "Data2 = df1.drop(columns=['Location'])\n",
    "target2 = df1['Location'].values.reshape(-1, 1) "
   ]
  },
  {
   "cell_type": "markdown",
   "metadata": {},
   "source": [
    "Creating train and test datasets."
   ]
  },
  {
   "cell_type": "code",
   "execution_count": 66,
   "metadata": {},
   "outputs": [],
   "source": [
    "D_train1, D_test1, t_train1, t_test1, idx_train1, idx_test = \\\n",
    "   train_test_split(Data2, target2, Data2.index, test_size=0.3, random_state=999)"
   ]
  },
  {
   "cell_type": "markdown",
   "metadata": {},
   "source": [
    "## Network parameters\n",
    "Defining the network parameter\n",
    "- A neural network is a type of modelling algorithm that predicts the output of a given dataset by designing a network that functions like a neural net. The three main component of this network are input layer, hidden layer and output layer. \n",
    "- Various steps that are involved in neural networks are:-\n",
    "    1. Taking the input data in the first layer of the network.\n",
    "    2. Adjusting the weight of the neurons in the hidden layer, this weights will then be multiplied by the input layer to give the values of the output layer.\n",
    "    3. Making the prediction of the output layer.\n",
    "    4. In case of back propagation of the neural network again using this output as an input and so on and so forth. \n",
    "    5. Comparing the prediction to the desire state of the network and then again adjusting the internal state of the network to predict as closely as possible for the next time. \n",
    "- Vector layering and linear regression are some of the basic building blocks of a neural network. The data is stored as vector but in python we have to store it in the form of an array. Each layer in the network can be thought of as a feature engineering step because each layer extracts some representation of the data that was a previously used as an input. \n",
    "- The process of training the neural network can be more or less compared to as the process of trial and errors. To explain this process we can use an example, imagine that we are shooting an arrow, the first shot will just be to get an idea of how much force is required and what adjustment needs to be made once the arrow hits its target. If the arror hits the target on the lower part of the board we will know that next time the elevation of the arror should be increased and if it hits on the higher part we will have an idea that elevation should be decreased and so on. \n",
    "- In this case we can say that we are assessing the errors by observing where the arrow hits the target, upon various trial and error the results will keep on getting better until the arror hits the target on its bulls eye. With neural network the process is very similar, we have to start with some random weight and vector bias, make a prediction, compare the prediction to the desired output and then keep on adjusting this weight bias and vectors for a more accurate result the next time. \n",
    "- But it is very important to know when to stop the training of a neural network as too much training of the data will lead to overfitting and less training will lead to underfitting scenarios.  \n",
    "\n",
    "- Steps required in testing and training a neural net are as follows-\n",
    "    -\tThe first step in building a neural network is to start with generating an output from the input data.\n",
    "    -   This will be done by representing the input with python Numpy function.\n",
    "    -\tCreate a weighted sum of all the variables in the dataset that will be used for target prediction. \n",
    "    -\tTrain the model to have predictions by using the target variable.\n",
    "    -\tCreate a backpropogating network which will use an activation function to model the neural net.\n",
    "    -\tDefine the activation function ( in this report for RNN I have used sigmoid function for defining the activation function)\n",
    "    -\tTrain your neural network by first assessing the error and then by adjusting the weight accordingly.\n",
    "    -\tThe adjustment of this weight can be done by using gradient desent and backpropogating algorithms.\n",
    "    -\tThe next step in the process will be to understand how to reduce the error with every consecutive step.\n",
    "    -\tThis can be achieved by changing the weight variable and leaving the bias fixed for now. In this step we can also get rid of sigmoid function for a trail period to see the outcomes and use only second layer as input. \n",
    "- Finally more layers can be added to the neural network, but it has its limitation as adding more layer will require huge amount of data. By adding more layer and activation function the expressive power of the network can be increased and this can then be used to make some very high level predictions. \n",
    "\n"
   ]
  },
  {
   "cell_type": "code",
   "execution_count": 67,
   "metadata": {},
   "outputs": [],
   "source": [
    "layer1_units = 4\n",
    "layer2_units = 4"
   ]
  },
  {
   "cell_type": "markdown",
   "metadata": {},
   "source": [
    "Importing Keras and tensorflow modules for modelling the NN. "
   ]
  },
  {
   "cell_type": "code",
   "execution_count": 68,
   "metadata": {},
   "outputs": [],
   "source": [
    "import keras\n",
    "import tensorflow as tf\n",
    "from keras.models import Sequential\n",
    "from keras.layers import Dense, Dropout\n",
    "from sklearn.metrics import accuracy_score, roc_auc_score\n",
    "from tensorflow.keras.optimizers import SGD\n"
   ]
  },
  {
   "cell_type": "code",
   "execution_count": 69,
   "metadata": {},
   "outputs": [],
   "source": [
    "loss = 'binary_crossentropy' \n",
    "metrics = ['accuracy'] "
   ]
  },
  {
   "cell_type": "code",
   "execution_count": 70,
   "metadata": {},
   "outputs": [],
   "source": [
    "epochs = 100\n",
    "batch_size = 50"
   ]
  },
  {
   "cell_type": "code",
   "execution_count": 71,
   "metadata": {},
   "outputs": [],
   "source": [
    "layer1_activation = 'relu'\n",
    "layer2_activation = 'relu'\n",
    "output_activation = 'sigmoid'"
   ]
  },
  {
   "cell_type": "code",
   "execution_count": 72,
   "metadata": {},
   "outputs": [],
   "source": [
    "layer1_dropout_rate = 0.05\n",
    "layer2_dropout_rate = 0.00"
   ]
  },
  {
   "cell_type": "markdown",
   "metadata": {},
   "source": [
    "Using stochastic gradiant desent for the network."
   ]
  },
  {
   "cell_type": "code",
   "execution_count": 73,
   "metadata": {},
   "outputs": [],
   "source": [
    "learning_rate=0.01\n",
    "decay=1e-6\n",
    "momentum=0.5\n",
    "optimizer = SGD(lr=learning_rate, decay=decay, momentum=momentum)"
   ]
  },
  {
   "cell_type": "markdown",
   "metadata": {},
   "source": [
    "## Model tuning \n",
    "Setting up the model"
   ]
  },
  {
   "cell_type": "code",
   "execution_count": 74,
   "metadata": {},
   "outputs": [],
   "source": [
    "def model_factory(input_dim, layer1_units, layer2_units):\n",
    "    model = Sequential()\n",
    "    model.add(Dense(layer1_units, input_dim=input_dim, activation=layer1_activation))\n",
    "    model.add(Dropout(layer1_dropout_rate))\n",
    "    model.add(Dense(layer2_units, activation=layer1_activation))\n",
    "    model.add(Dropout(layer2_dropout_rate))\n",
    "    model.add(Dense(1, activation=output_activation))\n",
    "    model.compile(loss=loss, optimizer=optimizer, metrics=metrics)\n",
    "    return model"
   ]
  },
  {
   "cell_type": "markdown",
   "metadata": {},
   "source": [
    "## Plotting \n",
    "Utility function and plotting."
   ]
  },
  {
   "cell_type": "code",
   "execution_count": 75,
   "metadata": {},
   "outputs": [],
   "source": [
    "def plot_history(history): \n",
    "    plt.plot(history.history['accuracy'])\n",
    "    plt.plot(history.history['val_accuracy'])\n",
    "    plt.title('Model Accuracy')\n",
    "    plt.ylabel('Accuracy')\n",
    "    plt.xlabel('Epoch')\n",
    "    plt.legend(['Train', 'Test'], loc='lower right')\n",
    "    plt.show()"
   ]
  },
  {
   "cell_type": "markdown",
   "metadata": {},
   "source": [
    "## Model training"
   ]
  },
  {
   "cell_type": "code",
   "execution_count": 76,
   "metadata": {},
   "outputs": [
    {
     "name": "stdout",
     "output_type": "stream",
     "text": [
      "Model: \"sequential\"\n",
      "_________________________________________________________________\n",
      " Layer (type)                Output Shape              Param #   \n",
      "=================================================================\n",
      " dense (Dense)               (None, 4)                 28        \n",
      "                                                                 \n",
      " dropout (Dropout)           (None, 4)                 0         \n",
      "                                                                 \n",
      " dense_1 (Dense)             (None, 4)                 20        \n",
      "                                                                 \n",
      " dropout_1 (Dropout)         (None, 4)                 0         \n",
      "                                                                 \n",
      " dense_2 (Dense)             (None, 1)                 5         \n",
      "                                                                 \n",
      "=================================================================\n",
      "Total params: 53\n",
      "Trainable params: 53\n",
      "Non-trainable params: 0\n",
      "_________________________________________________________________\n"
     ]
    }
   ],
   "source": [
    "model_test = model_factory(Data2.shape[1], layer1_units, layer2_units)\n",
    "model_test.summary()"
   ]
  },
  {
   "cell_type": "markdown",
   "metadata": {},
   "source": [
    "# Model comparison\n",
    "LSA gives a direct comparison between different topics that is present in the dataset in the form of a cosine similarity matrix. This is done after removing all the punctuations and breaking down each word to it CORPUS. However, LDA assigns the words of a document to different topics that has been generated as an output of the model, and has no output that directly compares datasets. LDA model achieves this by tokenizing and lemmatizing the words present in the document. Tokenizing basically means breaking down words to its roots and then assigning it ti different lemma. LSA gives a direct output of document similarities in the form of a cosine similarity matrix. Values in LSA cosine index range from -1 to 1. The value of -1 represents two documents that are complete opposites to each other, and 1 represents two of the same document. LDA outputs a matrix z which is called the document word matrix, whose rows represent all the words in the dataset, and columns represent all the documents. Each value in the matrix represents a topic that the word represented by the row and column is assigned to by the LDA algorithm. Perpexility and loglikelihood were the two parameters that defines these models.The difference between RNN and NN is that RNN has a backpropogating model design. In backpropogation output from first run is fed as input to the next run and so on. The weight bias and the function assigned to each neurons are adjusted until the desired outcome is predicted.While in simple neural network the network parameters are defined and the model is set up for running. Various utility function can be used for adjusting and changing the weight of each neurons. "
   ]
  },
  {
   "cell_type": "markdown",
   "metadata": {},
   "source": [
    "# Critique and limitation\n",
    "After looking at the dataset it was quite clear that various English language words are present in the dataset. That was the main reason that I decided to implement topic models algorithms in this part of the report. It was a learning experience for me and right from installing the package with correct version to deploying the model was an eye opening. I got to learn the basic of how topic modelling and neural network works and what goes on in the background. The limitation that I felt while working on this project was first and foremost the computational power of the device that I am using, it was quite clear in the beginning that for modelling bigger documents with topic modelling algorithm a much more powerful computational machine will be required. \n",
    "External access to servers can be helpful in deploying these models to larger datasets. I also felt that the dataset was not sufficient for the desired output and after doing some research online I was quite clear that more data with much more different types f words are required for this algorithms to work efficiently.\n"
   ]
  },
  {
   "cell_type": "markdown",
   "metadata": {},
   "source": [
    "# Summary and Conclusion\n",
    "### Project summary\n",
    "This project was completed in 2 phases. For the first phase of this project data was cleaned and visualized in form of univariate, bivariate and multivariate. This form of data visualization had some very interesting findings like how it is a popular believe that only boys are mostly interested in sci-fi films while girls are more into romantic kind of stuff. This survey data shattered that belief to its core. Then a literature review was written which showed how an efficient target marketing strategy work and how can it be implemented on the information’s gained from this survey dataset.\n",
    "In the second part of this report topic modelling algorithms and neural net algorithms were deployed on the dataset which collectively pointed out the location where the fan base of these franchise lies. The advantage of using topic modelling algorithm was that it classified other locations also to some topic so that in data visualization these clusters can be identified as nearby.   \n",
    "### Summary of findings\n",
    "By using topic modelling and neural net algorithms it was concluded that Atlantic south pacific New England and central north part of USA had a much larger fan base group as compared to other parts of America. All major fan nearby can be clustered into these topics. How far the rest of the fan base lies can also be depicted from this cluster plot. The further the plot lies from these major cluster the more insignificant it is. These were the outcomes of answering questions like are you a fan of starwars, are you a fan of star trek or are you familiar with the concept of extended universe etc. This data was very limited with its scope of topic modelling and if the answers to these questions were more elaborated and then topic modelling algorithms would have performed much better.   \n",
    "### Conclusion\n",
    "Working on this report has many challenges of its own, something that I never encountered before. After the successful implementations of all these algorithms on the data I felt that there are many limitations that come into play while deploying these models. The major limitation was the survey data itself. It was missing longer description to the questions that was being asked. If only the answer were more elaborated the findings from these algorithms would have been much more insightful and astonishing. \n",
    "Some of the key findings of my project were very astonishing. As a kid of 21st century anyone would think that older sci-fi movies were not that great in terms of cinematography and action sequences. If anyone would ask to compare these movies it will be a clear choice that modern film will be more preferred than their older version. But this was not the case with this franchise, The revenge of the sith that was released way back in 2015 was much more popular and demanding than modern release of the franchise. If we separate the fan that only liked this movie and then try to cluster these fan into topic modelled by location we may find some golden nuggets in the dataset. If this method is also applied with all other 6 parts of the movie and these findings are then fed to these algorithms the overall result may tell us something else. \n",
    "Also according to the popular belief that only boys are into sci-fi movies, it was quite clear that many of the percipients of this survey were females and they were very familiar with almost all 14 characters of the starwars franchise. Further working on this dataset I was also able to map the region that had people who considered themselves a fan of the franchise to those who did not.  \n",
    "This information combined with the age of the participants will prove to be very valuable in training an artificial neural network and applying this to topics modelling algorithm where it only models the topic considering one gender at a time. Then the network can keep on learning from the outcome and predict accurately the futures of these regions. We would be able to know as in which region the fan base will keep on increasing and at what rate. We will also know that where the fan that are evolving in a particular region are male or female and this information can be used efficiently in the next part of the movie or even create a new spinoff of the original movies. For example if the information gathered is that in an particular area cluster the evolving fans are mostly females then various female sports teams and bands can be used to promote the movie in that area in the future. As these fan will definitely support these females teams and bands that have achieved high goals in the country. This information can also be used collectively in movies to twist the story line plot in such a way that females are intrigued to watch them.  We can predict these outcome with fairly high level of accuracy. This information will prove to be very helpful in determining the segment of targeted marketing for that region. However due to the limitation of time and manpower I was notable to do this alone on my own. For the future scope of this project this idea may be worked on by a team and explored further.\n"
   ]
  },
  {
   "cell_type": "markdown",
   "metadata": {},
   "source": [
    "## References\n",
    "1. Data\n",
    "    - Starwars Survey in USA. (n.d.). Www.kaggle.com. Retrieved April 9, 2022, from https://www.kaggle.com/datasets/varunramesh1122/starwars-survey-in-usa?select=StarWars.csv\n",
    "2. Other references\n",
    "- 4. NCBI. 2021. Predictive Maintenance in Building Facilities: A Machine Learning-Based\n",
    "Approach. [online] Available at: <https://www.ncbi.nlm.nih.gov/pmc/articles/PMC7913483/>\n",
    "[Accessed 25 April 2021].\n",
    "- Paltrinieri, N., 2021. Learning about risk: Machine learning for risk assessment. [online]\n",
    "Available at: <https://www.sciencedirect.com/science/article/pii/S0925753518311184#b0205>\n",
    "[Accessed 25 April 2021].\n",
    "- Irep.iium.edu.my. 2021. [online] Available at:\n",
    "<http://irep.iium.edu.my/41756/4/41756_Integrated%20waqf%20based%20islamic%20microfi\n",
    "n ance.SCOPUSpdf.pdf> [Accessed 25 April 2021].\n",
    "- Scopus.com. 2021. Scopus preview - Scopus - Welcome to Scopus. [online] Available at:\n",
    "<https://www.scopus.com/record/display.uri?eid=2-s2.0-\n",
    "85028033448&origin=inward&txGid=6c097610eedde90f1064618ffb529eda> [Accessed 25 April\n",
    "2021].\n",
    "- Scholar.google.com. 2021. Google Scholar. [online] Available at:\n",
    "<https://scholar.google.com/scholar_lookup?title=High%20Reliability%20Management%3A%2\n",
    "0\n",
    "Operating%20on%20the%20Edge&publication_year=2008&author=E.%20Roe&author=P.R.%20\n",
    "Schulman> [Accessed 25 April 2021]"
   ]
  }
 ],
 "metadata": {
  "interpreter": {
   "hash": "3dad89286a055d306f6c076b56811fc0a3eb9cd8c17cfe6b0bf88ae9e448d363"
  },
  "kernelspec": {
   "display_name": "Python 3.10.4 64-bit",
   "language": "python",
   "name": "python3"
  },
  "language_info": {
   "codemirror_mode": {
    "name": "ipython",
    "version": 3
   },
   "file_extension": ".py",
   "mimetype": "text/x-python",
   "name": "python",
   "nbconvert_exporter": "python",
   "pygments_lexer": "ipython3",
   "version": "3.10.4"
  },
  "orig_nbformat": 4
 },
 "nbformat": 4,
 "nbformat_minor": 2
}
